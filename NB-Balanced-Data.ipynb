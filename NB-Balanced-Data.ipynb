{
 "cells": [
  {
   "cell_type": "code",
   "execution_count": 1,
   "metadata": {},
   "outputs": [],
   "source": [
    "%matplotlib inline\n",
    "import warnings\n",
    "warnings.filterwarnings(\"ignore\")\n",
    "\n",
    "import pandas as pd\n",
    "import numpy as np\n",
    "import nltk\n",
    "import matplotlib.pyplot as plt\n",
    "import seaborn as sns\n",
    "from sklearn.feature_extraction.text import TfidfVectorizer\n",
    "from sklearn.feature_extraction.text import CountVectorizer\n",
    "from sklearn.metrics import confusion_matrix\n",
    "from sklearn import metrics\n",
    "from sklearn.metrics import roc_curve, auc\n",
    "\n",
    "import re\n",
    "# Tutorial about Python regular expressions: https://pymotw.com/2/re/\n",
    "\n",
    "import pickle\n",
    "from tqdm import tqdm\n",
    "import os\n",
    "\n",
    "#from plotly import plotly\n",
    "#import plotly.offline as offline\n",
    "#import plotly.graph_objs as go\n",
    "#offline.init_notebook_mode()\n",
    "from collections import Counter"
   ]
  },
  {
   "cell_type": "code",
   "execution_count": 3,
   "metadata": {},
   "outputs": [],
   "source": [
    "preprocessed_data = pd.read_csv('upsampled_data.csv')"
   ]
  },
  {
   "cell_type": "code",
   "execution_count": 6,
   "metadata": {},
   "outputs": [
    {
     "data": {
      "text/html": [
       "<div>\n",
       "<style scoped>\n",
       "    .dataframe tbody tr th:only-of-type {\n",
       "        vertical-align: middle;\n",
       "    }\n",
       "\n",
       "    .dataframe tbody tr th {\n",
       "        vertical-align: top;\n",
       "    }\n",
       "\n",
       "    .dataframe thead th {\n",
       "        text-align: right;\n",
       "    }\n",
       "</style>\n",
       "<table border=\"1\" class=\"dataframe\">\n",
       "  <thead>\n",
       "    <tr style=\"text-align: right;\">\n",
       "      <th></th>\n",
       "      <th>Unnamed: 0</th>\n",
       "      <th>index</th>\n",
       "      <th>Unnamed: 0.1</th>\n",
       "      <th>teacher_prefix</th>\n",
       "      <th>project_grade_category</th>\n",
       "      <th>project_subject_subcategories</th>\n",
       "      <th>teacher_number_of_previously_posted_projects</th>\n",
       "      <th>project_is_approved</th>\n",
       "      <th>year_month</th>\n",
       "      <th>cleaned_subjects</th>\n",
       "      <th>ppd_essays</th>\n",
       "      <th>ppd_res_summary</th>\n",
       "      <th>price</th>\n",
       "      <th>quantity</th>\n",
       "      <th>essay_word_count</th>\n",
       "      <th>title_word_count</th>\n",
       "      <th>ppd_titles</th>\n",
       "      <th>school_state</th>\n",
       "    </tr>\n",
       "  </thead>\n",
       "  <tbody>\n",
       "    <tr>\n",
       "      <th>0</th>\n",
       "      <td>0</td>\n",
       "      <td>0</td>\n",
       "      <td>41656</td>\n",
       "      <td>mrs</td>\n",
       "      <td>grades_6_8</td>\n",
       "      <td>Literature_Writing &amp; Special_Needs</td>\n",
       "      <td>11</td>\n",
       "      <td>0</td>\n",
       "      <td>17-03</td>\n",
       "      <td>Literacy_Language &amp; Special_Needs</td>\n",
       "      <td>remember given work independently seat teacher...</td>\n",
       "      <td>students need reading kits reading writing ski...</td>\n",
       "      <td>343.97</td>\n",
       "      <td>10</td>\n",
       "      <td>240</td>\n",
       "      <td>6</td>\n",
       "      <td>i do we do you do</td>\n",
       "      <td>il</td>\n",
       "    </tr>\n",
       "    <tr>\n",
       "      <th>1</th>\n",
       "      <td>1</td>\n",
       "      <td>1</td>\n",
       "      <td>21484</td>\n",
       "      <td>ms</td>\n",
       "      <td>grades_prek_2</td>\n",
       "      <td>Literature_Writing &amp; Mathematics</td>\n",
       "      <td>0</td>\n",
       "      <td>0</td>\n",
       "      <td>16-12</td>\n",
       "      <td>Literacy_Language &amp; Math_Science</td>\n",
       "      <td>words teacher would love hear students autism ...</td>\n",
       "      <td>students need l foundation skills learning set...</td>\n",
       "      <td>441.61</td>\n",
       "      <td>6</td>\n",
       "      <td>307</td>\n",
       "      <td>4</td>\n",
       "      <td>we can do it</td>\n",
       "      <td>fl</td>\n",
       "    </tr>\n",
       "  </tbody>\n",
       "</table>\n",
       "</div>"
      ],
      "text/plain": [
       "   Unnamed: 0  index  Unnamed: 0.1 teacher_prefix project_grade_category  \\\n",
       "0           0      0         41656            mrs             grades_6_8   \n",
       "1           1      1         21484             ms          grades_prek_2   \n",
       "\n",
       "        project_subject_subcategories  \\\n",
       "0  Literature_Writing & Special_Needs   \n",
       "1    Literature_Writing & Mathematics   \n",
       "\n",
       "   teacher_number_of_previously_posted_projects  project_is_approved  \\\n",
       "0                                            11                    0   \n",
       "1                                             0                    0   \n",
       "\n",
       "  year_month                   cleaned_subjects  \\\n",
       "0      17-03  Literacy_Language & Special_Needs   \n",
       "1      16-12   Literacy_Language & Math_Science   \n",
       "\n",
       "                                          ppd_essays  \\\n",
       "0  remember given work independently seat teacher...   \n",
       "1  words teacher would love hear students autism ...   \n",
       "\n",
       "                                     ppd_res_summary   price  quantity  \\\n",
       "0  students need reading kits reading writing ski...  343.97        10   \n",
       "1  students need l foundation skills learning set...  441.61         6   \n",
       "\n",
       "   essay_word_count  title_word_count         ppd_titles school_state  \n",
       "0               240                 6  i do we do you do           il  \n",
       "1               307                 4       we can do it           fl  "
      ]
     },
     "execution_count": 6,
     "metadata": {},
     "output_type": "execute_result"
    }
   ],
   "source": [
    "preprocessed_data.head(2)\n"
   ]
  },
  {
   "cell_type": "code",
   "execution_count": 5,
   "metadata": {},
   "outputs": [
    {
     "data": {
      "text/plain": [
       "(175416, 18)"
      ]
     },
     "execution_count": 5,
     "metadata": {},
     "output_type": "execute_result"
    }
   ],
   "source": [
    "preprocessed_data.shape"
   ]
  },
  {
   "cell_type": "markdown",
   "metadata": {},
   "source": [
    "# Splitting data into X & Y"
   ]
  },
  {
   "cell_type": "code",
   "execution_count": 7,
   "metadata": {},
   "outputs": [
    {
     "data": {
      "text/html": [
       "<div>\n",
       "<style scoped>\n",
       "    .dataframe tbody tr th:only-of-type {\n",
       "        vertical-align: middle;\n",
       "    }\n",
       "\n",
       "    .dataframe tbody tr th {\n",
       "        vertical-align: top;\n",
       "    }\n",
       "\n",
       "    .dataframe thead th {\n",
       "        text-align: right;\n",
       "    }\n",
       "</style>\n",
       "<table border=\"1\" class=\"dataframe\">\n",
       "  <thead>\n",
       "    <tr style=\"text-align: right;\">\n",
       "      <th></th>\n",
       "      <th>Unnamed: 0</th>\n",
       "      <th>index</th>\n",
       "      <th>Unnamed: 0.1</th>\n",
       "      <th>teacher_prefix</th>\n",
       "      <th>project_grade_category</th>\n",
       "      <th>project_subject_subcategories</th>\n",
       "      <th>teacher_number_of_previously_posted_projects</th>\n",
       "      <th>year_month</th>\n",
       "      <th>cleaned_subjects</th>\n",
       "      <th>ppd_essays</th>\n",
       "      <th>ppd_res_summary</th>\n",
       "      <th>price</th>\n",
       "      <th>quantity</th>\n",
       "      <th>essay_word_count</th>\n",
       "      <th>title_word_count</th>\n",
       "      <th>ppd_titles</th>\n",
       "      <th>school_state</th>\n",
       "    </tr>\n",
       "  </thead>\n",
       "  <tbody>\n",
       "    <tr>\n",
       "      <th>0</th>\n",
       "      <td>0</td>\n",
       "      <td>0</td>\n",
       "      <td>41656</td>\n",
       "      <td>mrs</td>\n",
       "      <td>grades_6_8</td>\n",
       "      <td>Literature_Writing &amp; Special_Needs</td>\n",
       "      <td>11</td>\n",
       "      <td>17-03</td>\n",
       "      <td>Literacy_Language &amp; Special_Needs</td>\n",
       "      <td>remember given work independently seat teacher...</td>\n",
       "      <td>students need reading kits reading writing ski...</td>\n",
       "      <td>343.97</td>\n",
       "      <td>10</td>\n",
       "      <td>240</td>\n",
       "      <td>6</td>\n",
       "      <td>i do we do you do</td>\n",
       "      <td>il</td>\n",
       "    </tr>\n",
       "  </tbody>\n",
       "</table>\n",
       "</div>"
      ],
      "text/plain": [
       "   Unnamed: 0  index  Unnamed: 0.1 teacher_prefix project_grade_category  \\\n",
       "0           0      0         41656            mrs             grades_6_8   \n",
       "\n",
       "        project_subject_subcategories  \\\n",
       "0  Literature_Writing & Special_Needs   \n",
       "\n",
       "   teacher_number_of_previously_posted_projects year_month  \\\n",
       "0                                            11      17-03   \n",
       "\n",
       "                    cleaned_subjects  \\\n",
       "0  Literacy_Language & Special_Needs   \n",
       "\n",
       "                                          ppd_essays  \\\n",
       "0  remember given work independently seat teacher...   \n",
       "\n",
       "                                     ppd_res_summary   price  quantity  \\\n",
       "0  students need reading kits reading writing ski...  343.97        10   \n",
       "\n",
       "   essay_word_count  title_word_count         ppd_titles school_state  \n",
       "0               240                 6  i do we do you do           il  "
      ]
     },
     "execution_count": 7,
     "metadata": {},
     "output_type": "execute_result"
    }
   ],
   "source": [
    "y = preprocessed_data['project_is_approved'].values\n",
    "x = preprocessed_data.drop(['project_is_approved'], axis=1)\n",
    "x.head(1)"
   ]
  },
  {
   "cell_type": "markdown",
   "metadata": {},
   "source": [
    "# Splitting data into Train & Test data (No need for sep. CV because we are doing N-fold Grid Search CV)"
   ]
  },
  {
   "cell_type": "code",
   "execution_count": 8,
   "metadata": {},
   "outputs": [
    {
     "name": "stdout",
     "output_type": "stream",
     "text": [
      "[0 0 0 ... 0 0 0]\n",
      "<class 'numpy.ndarray'>\n"
     ]
    },
    {
     "data": {
      "text/plain": [
       "175416"
      ]
     },
     "execution_count": 8,
     "metadata": {},
     "output_type": "execute_result"
    }
   ],
   "source": [
    "print(y)\n",
    "print(type(y))\n",
    "y.size"
   ]
  },
  {
   "cell_type": "code",
   "execution_count": 9,
   "metadata": {},
   "outputs": [
    {
     "name": "stdout",
     "output_type": "stream",
     "text": [
      "117528\n",
      "57888\n",
      "(117528, 17)\n",
      "(57888, 17)\n"
     ]
    }
   ],
   "source": [
    "from sklearn.model_selection import train_test_split\n",
    "x_tr, x_te, y_tr, y_te = train_test_split(x, y, test_size=0.33, stratify=y)\n",
    "\n",
    "print(y_tr.size)\n",
    "print(y_te.size)\n",
    "print(x_tr.shape)\n",
    "print(x_te.shape)"
   ]
  },
  {
   "cell_type": "code",
   "execution_count": 11,
   "metadata": {},
   "outputs": [
    {
     "name": "stdout",
     "output_type": "stream",
     "text": [
      "[0 1] [55415 62113]\n",
      "[0 1] [27295 30593]\n"
     ]
    }
   ],
   "source": [
    "unique_elements_tr, counts_elements_tr = np.unique(y_tr, return_counts=True)\n",
    "unique_elements_te, counts_elements_te = np.unique(y_te, return_counts=True)\n",
    "\n",
    "print(unique_elements_tr, counts_elements_tr)\n",
    "print(unique_elements_te, counts_elements_te )"
   ]
  },
  {
   "cell_type": "markdown",
   "metadata": {},
   "source": [
    "# Vectorization - Essay, Project_title, Project Summary"
   ]
  },
  {
   "cell_type": "code",
   "execution_count": 12,
   "metadata": {},
   "outputs": [
    {
     "name": "stdout",
     "output_type": "stream",
     "text": [
      "After vectorizations\n",
      "(117528, 423912) (117528,)\n",
      "(57888, 423912) (57888,)\n"
     ]
    }
   ],
   "source": [
    "vectorizer = CountVectorizer(min_df=10,ngram_range=(1,4))\n",
    "vectorizer.fit(x_tr['ppd_essays'].values)\n",
    "\n",
    "# we use the fitted CountVectorizer to convert the text to vector\n",
    "x_tr_essay_bow = vectorizer.transform(x_tr['ppd_essays'].values)\n",
    "x_te_essay_bow = vectorizer.transform(x_te['ppd_essays'].values)\n",
    "\n",
    "print(\"After vectorizations\")\n",
    "print(x_tr_essay_bow.shape, y_tr.shape)\n",
    "print(x_te_essay_bow.shape, y_te.shape)"
   ]
  },
  {
   "cell_type": "code",
   "execution_count": 13,
   "metadata": {},
   "outputs": [
    {
     "name": "stdout",
     "output_type": "stream",
     "text": [
      "After vectorizations\n",
      "(117528, 14607) (117528,)\n",
      "(57888, 14607) (57888,)\n"
     ]
    }
   ],
   "source": [
    "vectorizer = CountVectorizer()\n",
    "vectorizer.fit(x_tr['ppd_titles'].values)\n",
    "\n",
    "x_tr_title_bow = vectorizer.transform(x_tr['ppd_titles'].values)\n",
    "x_te_title_bow = vectorizer.transform(x_te['ppd_titles'].values)\n",
    "\n",
    "print(\"After vectorizations\")\n",
    "print(x_tr_title_bow.shape, y_tr.shape)\n",
    "print(x_te_title_bow.shape, y_te.shape)"
   ]
  },
  {
   "cell_type": "code",
   "execution_count": 14,
   "metadata": {},
   "outputs": [
    {
     "name": "stdout",
     "output_type": "stream",
     "text": [
      "After vectorizations\n",
      "(117528, 19315) (117528,)\n",
      "(57888, 19315) (57888,)\n"
     ]
    }
   ],
   "source": [
    "vectorizer = CountVectorizer()\n",
    "vectorizer.fit(x_tr['ppd_res_summary'].values)\n",
    "\n",
    "x_tr_res_summary_bow = vectorizer.transform(x_tr['ppd_res_summary'].values)\n",
    "x_te_res_summary_bow = vectorizer.transform(x_te['ppd_res_summary'].values)\n",
    "\n",
    "print(\"After vectorizations\")\n",
    "print(x_tr_res_summary_bow.shape, y_tr.shape)\n",
    "print(x_te_res_summary_bow.shape, y_te.shape)"
   ]
  },
  {
   "cell_type": "code",
   "execution_count": 15,
   "metadata": {},
   "outputs": [
    {
     "name": "stdout",
     "output_type": "stream",
     "text": [
      "After vectorizations\n",
      "(117528, 9) (117528,)\n",
      "(57888, 9) (57888,)\n"
     ]
    }
   ],
   "source": [
    "vectorizer = CountVectorizer()\n",
    "vectorizer.fit(x_tr['cleaned_subjects'].values)\n",
    "\n",
    "x_tr_subjects_ohe = vectorizer.transform(x_tr['cleaned_subjects'].values)\n",
    "x_te_subjects_ohe = vectorizer.transform(x_te['cleaned_subjects'].values)\n",
    "\n",
    "print(\"After vectorizations\")\n",
    "print(x_tr_subjects_ohe.shape, y_tr.shape)\n",
    "print(x_te_subjects_ohe.shape, y_te.shape)"
   ]
  },
  {
   "cell_type": "code",
   "execution_count": 16,
   "metadata": {},
   "outputs": [
    {
     "name": "stdout",
     "output_type": "stream",
     "text": [
      "After vectorizations\n",
      "(117528, 30) (117528,)\n",
      "(57888, 30) (57888,)\n"
     ]
    }
   ],
   "source": [
    "vectorizer = CountVectorizer()\n",
    "vectorizer.fit(x_tr['project_subject_subcategories'].values)\n",
    "\n",
    "x_tr_subject_subcat_ohe = vectorizer.transform(x_tr['project_subject_subcategories'].values)\n",
    "x_te_subject_subcat_ohe = vectorizer.transform(x_te['project_subject_subcategories'].values)\n",
    "\n",
    "print(\"After vectorizations\")\n",
    "print(x_tr_subject_subcat_ohe.shape, y_tr.shape)\n",
    "print(x_te_subject_subcat_ohe.shape, y_te.shape)"
   ]
  },
  {
   "cell_type": "markdown",
   "metadata": {},
   "source": [
    "# Vectorization of Categorical features"
   ]
  },
  {
   "cell_type": "code",
   "execution_count": 17,
   "metadata": {},
   "outputs": [
    {
     "name": "stdout",
     "output_type": "stream",
     "text": [
      "After vectorizations\n",
      "(117528, 51) (117528,)\n",
      "(57888, 51) (57888,)\n"
     ]
    }
   ],
   "source": [
    "vectorizer = CountVectorizer()\n",
    "vectorizer.fit(x_tr['school_state'].values)\n",
    "\n",
    "x_tr_state_ohe = vectorizer.transform(x_tr['school_state'].values)\n",
    "x_te_state_ohe = vectorizer.transform(x_te['school_state'].values)\n",
    "\n",
    "print(\"After vectorizations\")\n",
    "print(x_tr_state_ohe.shape, y_tr.shape)\n",
    "print(x_te_state_ohe.shape, y_te.shape)"
   ]
  },
  {
   "cell_type": "code",
   "execution_count": 18,
   "metadata": {},
   "outputs": [
    {
     "name": "stdout",
     "output_type": "stream",
     "text": [
      "After vectorizations\n",
      "(117528, 5) (117528,)\n",
      "(57888, 5) (57888,)\n"
     ]
    }
   ],
   "source": [
    "vectorizer = CountVectorizer()\n",
    "vectorizer.fit(x_tr['teacher_prefix'].values)\n",
    "\n",
    "x_tr_tprefix_ohe = vectorizer.transform(x_tr['teacher_prefix'].values)\n",
    "x_te_tprefix_ohe = vectorizer.transform(x_te['teacher_prefix'].values)\n",
    "\n",
    "print(\"After vectorizations\")\n",
    "print(x_tr_tprefix_ohe.shape, y_tr.shape)\n",
    "print(x_te_tprefix_ohe.shape, y_te.shape)"
   ]
  },
  {
   "cell_type": "code",
   "execution_count": 19,
   "metadata": {},
   "outputs": [
    {
     "name": "stdout",
     "output_type": "stream",
     "text": [
      "After vectorizations\n",
      "(117528, 4) (117528,)\n",
      "(57888, 4) (57888,)\n"
     ]
    }
   ],
   "source": [
    "vectorizer = CountVectorizer()\n",
    "vectorizer.fit(x_tr['project_grade_category'].values)\n",
    "\n",
    "x_tr_grade_ohe = vectorizer.transform(x_tr['project_grade_category'].values)\n",
    "x_te_grade_ohe = vectorizer.transform(x_te['project_grade_category'].values)\n",
    "\n",
    "print(\"After vectorizations\")\n",
    "print(x_tr_grade_ohe.shape, y_tr.shape)\n",
    "print(x_te_grade_ohe.shape, y_te.shape)"
   ]
  },
  {
   "cell_type": "markdown",
   "metadata": {},
   "source": [
    "# Normalization - Price, Quantity, Previous Projects, Word_counts"
   ]
  },
  {
   "cell_type": "code",
   "execution_count": 20,
   "metadata": {},
   "outputs": [
    {
     "name": "stdout",
     "output_type": "stream",
     "text": [
      "After vectorizations\n",
      "(117528, 1) (117528,)\n",
      "(57888, 1) (57888,)\n"
     ]
    }
   ],
   "source": [
    "from sklearn.preprocessing import Normalizer\n",
    "normalizer = Normalizer()\n",
    "normalizer.fit(x_tr['price'].values.reshape(-1,1))\n",
    "\n",
    "x_tr_price_norm = normalizer.transform(x_tr['price'].values.reshape(-1,1))\n",
    "x_te_price_norm = normalizer.transform(x_te['price'].values.reshape(-1,1))\n",
    "\n",
    "print(\"After vectorizations\")\n",
    "print(x_tr_price_norm.shape, y_tr.shape)\n",
    "print(x_te_price_norm.shape, y_te.shape)"
   ]
  },
  {
   "cell_type": "code",
   "execution_count": 21,
   "metadata": {},
   "outputs": [
    {
     "name": "stdout",
     "output_type": "stream",
     "text": [
      "After vectorizations\n",
      "(117528, 1) (117528,)\n",
      "(57888, 1) (57888,)\n"
     ]
    }
   ],
   "source": [
    "normalizer = Normalizer()\n",
    "normalizer.fit(x_tr['quantity'].values.reshape(-1,1))\n",
    "\n",
    "x_tr_quantity_norm = normalizer.transform(x_tr['quantity'].values.reshape(-1,1))\n",
    "x_te_quantity_norm = normalizer.transform(x_te['quantity'].values.reshape(-1,1))\n",
    "\n",
    "print(\"After vectorizations\")\n",
    "print(x_tr_quantity_norm.shape, y_tr.shape)\n",
    "print(x_te_quantity_norm.shape, y_te.shape)"
   ]
  },
  {
   "cell_type": "code",
   "execution_count": 22,
   "metadata": {},
   "outputs": [
    {
     "name": "stdout",
     "output_type": "stream",
     "text": [
      "After vectorizations\n",
      "(117528, 1) (117528,)\n",
      "(57888, 1) (57888,)\n"
     ]
    }
   ],
   "source": [
    "normalizer = Normalizer()\n",
    "normalizer.fit(x_tr['teacher_number_of_previously_posted_projects'].values.reshape(-1,1))\n",
    "\n",
    "x_tr_prev_projects_norm = normalizer.transform(x_tr['teacher_number_of_previously_posted_projects'].values.reshape(-1,1))\n",
    "x_te_prev_projects_norm = normalizer.transform(x_te['teacher_number_of_previously_posted_projects'].values.reshape(-1,1))\n",
    "\n",
    "print(\"After vectorizations\")\n",
    "print(x_tr_prev_projects_norm.shape, y_tr.shape)\n",
    "print(x_te_prev_projects_norm.shape, y_te.shape)"
   ]
  },
  {
   "cell_type": "code",
   "execution_count": 23,
   "metadata": {},
   "outputs": [
    {
     "name": "stdout",
     "output_type": "stream",
     "text": [
      "After vectorizations\n",
      "(117528, 1) (117528,)\n",
      "(57888, 1) (57888,)\n"
     ]
    }
   ],
   "source": [
    "normalizer = Normalizer()\n",
    "normalizer.fit(x_tr['essay_word_count'].values.reshape(-1,1))\n",
    "\n",
    "x_tr_essay_word_count_norm = normalizer.transform(x_tr['essay_word_count'].values.reshape(-1,1))\n",
    "x_te_essay_word_count_norm = normalizer.transform(x_te['essay_word_count'].values.reshape(-1,1))\n",
    "\n",
    "print(\"After vectorizations\")\n",
    "print(x_tr_essay_word_count_norm.shape, y_tr.shape)\n",
    "print(x_te_essay_word_count_norm.shape, y_te.shape)"
   ]
  },
  {
   "cell_type": "code",
   "execution_count": 24,
   "metadata": {},
   "outputs": [
    {
     "name": "stdout",
     "output_type": "stream",
     "text": [
      "After vectorizations\n",
      "(117528, 1) (117528,)\n",
      "(57888, 1) (57888,)\n"
     ]
    }
   ],
   "source": [
    "normalizer = Normalizer()\n",
    "normalizer.fit(x_tr['title_word_count'].values.reshape(-1,1))\n",
    "\n",
    "x_tr_title_word_count_norm = normalizer.transform(x_tr['title_word_count'].values.reshape(-1,1))\n",
    "x_te_title_word_count_norm = normalizer.transform(x_te['title_word_count'].values.reshape(-1,1))\n",
    "\n",
    "print(\"After vectorizations\")\n",
    "print(x_tr_title_word_count_norm.shape, y_tr.shape)\n",
    "print(x_te_title_word_count_norm.shape, y_te.shape)"
   ]
  },
  {
   "cell_type": "markdown",
   "metadata": {},
   "source": [
    "# Stacking of vectors"
   ]
  },
  {
   "cell_type": "code",
   "execution_count": 25,
   "metadata": {},
   "outputs": [
    {
     "name": "stdout",
     "output_type": "stream",
     "text": [
      "Final Data matrix\n",
      "(117528, 457938) (117528,)\n",
      "(57888, 457938) (57888,)\n"
     ]
    }
   ],
   "source": [
    "# merge two sparse matrices: https://stackoverflow.com/a/19710648/4084039\n",
    "from scipy.sparse import hstack\n",
    "X_tr = hstack((x_tr_essay_bow, x_tr_title_bow, x_tr_res_summary_bow, x_tr_subjects_ohe, x_tr_subject_subcat_ohe.shape, x_tr_state_ohe.shape, x_tr_tprefix_ohe.shape, x_tr_grade_ohe, x_tr_price_norm, x_tr_quantity_norm, x_tr_prev_projects_norm, x_tr_essay_word_count_norm, x_tr_title_word_count_norm)).tocsr()\n",
    "X_te = hstack((x_te_essay_bow, x_te_title_bow, x_te_res_summary_bow, x_te_subjects_ohe, x_te_subject_subcat_ohe.shape, x_te_state_ohe.shape, x_te_tprefix_ohe.shape, x_te_grade_ohe, x_te_price_norm, x_te_quantity_norm, x_te_prev_projects_norm, x_te_essay_word_count_norm, x_te_title_word_count_norm)).tocsr()\n",
    "\n",
    "print(\"Final Data matrix\")\n",
    "print(X_tr.shape, y_tr.shape)\n",
    "print(X_te.shape, y_te.shape)"
   ]
  },
  {
   "cell_type": "code",
   "execution_count": 26,
   "metadata": {},
   "outputs": [],
   "source": [
    "def batch_predict(clf, data):\n",
    "    # roc_auc_score(y_true, y_score) the 2nd parameter should be probability estimates of the positive class\n",
    "    # not the predicted outputs\n",
    "\n",
    "    y_data_pred = []\n",
    "    tr_loop = data.shape[0] - data.shape[0]%1000\n",
    "    # consider you X_tr shape is 49041, then your tr_loop will be 49041 - 49041%1000 = 49000\n",
    "    # in this for loop we will iterate unti the last 1000 multiplier\n",
    "    for i in range(0, tr_loop, 1000):\n",
    "        y_data_pred.extend(clf.predict_proba(data[i:i+1000])[:,1])\n",
    "    # we will be predicting for the last data points\n",
    "    if data.shape[0]%1000 !=0:\n",
    "        y_data_pred.extend(clf.predict_proba(data[tr_loop:])[:,1])\n",
    "    \n",
    "    return y_data_pred"
   ]
  },
  {
   "cell_type": "code",
   "execution_count": 27,
   "metadata": {},
   "outputs": [],
   "source": [
    "# we are writing our own function for predict, with defined thresould\n",
    "# we will pick a threshold that will give the least fpr\n",
    "def find_best_threshold(threshold, fpr, tpr):\n",
    "    t = threshold[np.argmax(tpr*(1-fpr))]\n",
    "    # (tpr*(1-fpr)) will be maximum if your fpr is very low and tpr is very high\n",
    "    print(\"the maximum value of tpr*(1-fpr)\", max(tpr*(1-fpr)), \"for threshold\", np.round(t,3))\n",
    "    print(\"50*=\")\n",
    "    return t\n",
    "\n",
    "def predict_with_best_t(proba, threshold):\n",
    "    predictions = []\n",
    "    for i in proba:\n",
    "        if i>=threshold:\n",
    "            predictions.append(1)\n",
    "        else:\n",
    "            predictions.append(0)\n",
    "    return predictions"
   ]
  },
  {
   "cell_type": "code",
   "execution_count": 32,
   "metadata": {},
   "outputs": [
    {
     "name": "stdout",
     "output_type": "stream",
     "text": [
      "the maximum value of tpr*(1-fpr) 0.384082344473777 for threshold 0.792\n",
      "==================================================\n",
      "Train confusion matrix\n",
      "[[ 3207  1891]\n",
      " [11061 17341]]\n",
      "==================================================\n",
      "Test confusion matrix\n",
      "[[1534  977]\n",
      " [5543 8446]]\n",
      "==================================================\n",
      "Train F1 Score\n",
      "0.7280933786790948\n",
      "==================================================\n",
      "Test F1 Score\n",
      "0.7215103365795319\n"
     ]
    }
   ],
   "source": [
    "from sklearn.metrics import confusion_matrix\n",
    "from sklearn.metrics import f1_score\n",
    "\n",
    "best_t = find_best_threshold(tr_thresholds, train_fpr, train_tpr)\n",
    "print(50*\"=\")\n",
    "print(\"Train confusion matrix\")\n",
    "print(confusion_matrix(y_tr, predict_with_best_t(y_tr_pred, best_t)))\n",
    "print(50*\"=\")\n",
    "print(\"Test confusion matrix\")\n",
    "print(confusion_matrix(y_te, predict_with_best_t(y_te_pred, best_t)))\n",
    "print(50*\"=\")\n",
    "print(\"Train F1 Score\")\n",
    "print(f1_score(y_tr, predict_with_best_t(y_tr_pred, best_t)))\n",
    "print(50*\"=\")\n",
    "print(\"Test F1 Score\")\n",
    "print(f1_score(y_te, predict_with_best_t(y_te_pred, best_t)))"
   ]
  },
  {
   "cell_type": "markdown",
   "metadata": {},
   "source": [
    "# Naive Bayes"
   ]
  },
  {
   "cell_type": "code",
   "execution_count": 28,
   "metadata": {},
   "outputs": [
    {
     "data": {
      "image/png": "[encoded data removed]",
      "text/plain": [
       "<Figure size 432x288 with 1 Axes>"
      ]
     },
     "metadata": {},
     "output_type": "display_data"
    },
    {
     "data": {
      "text/html": [
       "<div>\n",
       "<style scoped>\n",
       "    .dataframe tbody tr th:only-of-type {\n",
       "        vertical-align: middle;\n",
       "    }\n",
       "\n",
       "    .dataframe tbody tr th {\n",
       "        vertical-align: top;\n",
       "    }\n",
       "\n",
       "    .dataframe thead th {\n",
       "        text-align: right;\n",
       "    }\n",
       "</style>\n",
       "<table border=\"1\" class=\"dataframe\">\n",
       "  <thead>\n",
       "    <tr style=\"text-align: right;\">\n",
       "      <th></th>\n",
       "      <th>mean_fit_time</th>\n",
       "      <th>std_fit_time</th>\n",
       "      <th>mean_score_time</th>\n",
       "      <th>std_score_time</th>\n",
       "      <th>param_alpha</th>\n",
       "      <th>params</th>\n",
       "      <th>split0_test_score</th>\n",
       "      <th>split1_test_score</th>\n",
       "      <th>split2_test_score</th>\n",
       "      <th>split3_test_score</th>\n",
       "      <th>...</th>\n",
       "      <th>mean_test_score</th>\n",
       "      <th>std_test_score</th>\n",
       "      <th>rank_test_score</th>\n",
       "      <th>split0_train_score</th>\n",
       "      <th>split1_train_score</th>\n",
       "      <th>split2_train_score</th>\n",
       "      <th>split3_train_score</th>\n",
       "      <th>split4_train_score</th>\n",
       "      <th>mean_train_score</th>\n",
       "      <th>std_train_score</th>\n",
       "    </tr>\n",
       "  </thead>\n",
       "  <tbody>\n",
       "    <tr>\n",
       "      <th>0</th>\n",
       "      <td>1.085825</td>\n",
       "      <td>0.048064</td>\n",
       "      <td>0.104249</td>\n",
       "      <td>0.039049</td>\n",
       "      <td>1e-05</td>\n",
       "      <td>{'alpha': 1e-05}</td>\n",
       "      <td>0.915723</td>\n",
       "      <td>0.919388</td>\n",
       "      <td>0.915897</td>\n",
       "      <td>0.915596</td>\n",
       "      <td>...</td>\n",
       "      <td>0.916925</td>\n",
       "      <td>0.001519</td>\n",
       "      <td>1</td>\n",
       "      <td>0.975223</td>\n",
       "      <td>0.975204</td>\n",
       "      <td>0.974825</td>\n",
       "      <td>0.974545</td>\n",
       "      <td>0.975280</td>\n",
       "      <td>0.975015</td>\n",
       "      <td>0.000285</td>\n",
       "    </tr>\n",
       "    <tr>\n",
       "      <th>1</th>\n",
       "      <td>1.059377</td>\n",
       "      <td>0.097219</td>\n",
       "      <td>0.093255</td>\n",
       "      <td>0.011440</td>\n",
       "      <td>5e-05</td>\n",
       "      <td>{'alpha': 5e-05}</td>\n",
       "      <td>0.913087</td>\n",
       "      <td>0.916745</td>\n",
       "      <td>0.913195</td>\n",
       "      <td>0.912915</td>\n",
       "      <td>...</td>\n",
       "      <td>0.914326</td>\n",
       "      <td>0.001582</td>\n",
       "      <td>2</td>\n",
       "      <td>0.973508</td>\n",
       "      <td>0.973532</td>\n",
       "      <td>0.973198</td>\n",
       "      <td>0.972900</td>\n",
       "      <td>0.973617</td>\n",
       "      <td>0.973351</td>\n",
       "      <td>0.000266</td>\n",
       "    </tr>\n",
       "    <tr>\n",
       "      <th>2</th>\n",
       "      <td>1.000740</td>\n",
       "      <td>0.040731</td>\n",
       "      <td>0.080374</td>\n",
       "      <td>0.000857</td>\n",
       "      <td>0.0001</td>\n",
       "      <td>{'alpha': 0.0001}</td>\n",
       "      <td>0.911752</td>\n",
       "      <td>0.915655</td>\n",
       "      <td>0.912103</td>\n",
       "      <td>0.911252</td>\n",
       "      <td>...</td>\n",
       "      <td>0.913047</td>\n",
       "      <td>0.001710</td>\n",
       "      <td>3</td>\n",
       "      <td>0.972656</td>\n",
       "      <td>0.972699</td>\n",
       "      <td>0.972372</td>\n",
       "      <td>0.972028</td>\n",
       "      <td>0.972807</td>\n",
       "      <td>0.972512</td>\n",
       "      <td>0.000282</td>\n",
       "    </tr>\n",
       "    <tr>\n",
       "      <th>3</th>\n",
       "      <td>0.994918</td>\n",
       "      <td>0.056120</td>\n",
       "      <td>0.102830</td>\n",
       "      <td>0.021667</td>\n",
       "      <td>0.0005</td>\n",
       "      <td>{'alpha': 0.0005}</td>\n",
       "      <td>0.908262</td>\n",
       "      <td>0.911966</td>\n",
       "      <td>0.908638</td>\n",
       "      <td>0.907785</td>\n",
       "      <td>...</td>\n",
       "      <td>0.909523</td>\n",
       "      <td>0.001639</td>\n",
       "      <td>4</td>\n",
       "      <td>0.970394</td>\n",
       "      <td>0.970387</td>\n",
       "      <td>0.970135</td>\n",
       "      <td>0.969793</td>\n",
       "      <td>0.970498</td>\n",
       "      <td>0.970241</td>\n",
       "      <td>0.000254</td>\n",
       "    </tr>\n",
       "    <tr>\n",
       "      <th>4</th>\n",
       "      <td>0.997011</td>\n",
       "      <td>0.042872</td>\n",
       "      <td>0.100865</td>\n",
       "      <td>0.022161</td>\n",
       "      <td>0.001</td>\n",
       "      <td>{'alpha': 0.001}</td>\n",
       "      <td>0.906443</td>\n",
       "      <td>0.910060</td>\n",
       "      <td>0.906985</td>\n",
       "      <td>0.906097</td>\n",
       "      <td>...</td>\n",
       "      <td>0.907732</td>\n",
       "      <td>0.001557</td>\n",
       "      <td>5</td>\n",
       "      <td>0.969274</td>\n",
       "      <td>0.969312</td>\n",
       "      <td>0.968959</td>\n",
       "      <td>0.968681</td>\n",
       "      <td>0.969421</td>\n",
       "      <td>0.969129</td>\n",
       "      <td>0.000272</td>\n",
       "    </tr>\n",
       "  </tbody>\n",
       "</table>\n",
       "<p>5 rows × 21 columns</p>\n",
       "</div>"
      ],
      "text/plain": [
       "   mean_fit_time  std_fit_time  mean_score_time  std_score_time param_alpha  \\\n",
       "0       1.085825      0.048064         0.104249        0.039049       1e-05   \n",
       "1       1.059377      0.097219         0.093255        0.011440       5e-05   \n",
       "2       1.000740      0.040731         0.080374        0.000857      0.0001   \n",
       "3       0.994918      0.056120         0.102830        0.021667      0.0005   \n",
       "4       0.997011      0.042872         0.100865        0.022161       0.001   \n",
       "\n",
       "              params  split0_test_score  split1_test_score  split2_test_score  \\\n",
       "0   {'alpha': 1e-05}           0.915723           0.919388           0.915897   \n",
       "1   {'alpha': 5e-05}           0.913087           0.916745           0.913195   \n",
       "2  {'alpha': 0.0001}           0.911752           0.915655           0.912103   \n",
       "3  {'alpha': 0.0005}           0.908262           0.911966           0.908638   \n",
       "4   {'alpha': 0.001}           0.906443           0.910060           0.906985   \n",
       "\n",
       "   split3_test_score       ...         mean_test_score  std_test_score  \\\n",
       "0           0.915596       ...                0.916925        0.001519   \n",
       "1           0.912915       ...                0.914326        0.001582   \n",
       "2           0.911252       ...                0.913047        0.001710   \n",
       "3           0.907785       ...                0.909523        0.001639   \n",
       "4           0.906097       ...                0.907732        0.001557   \n",
       "\n",
       "   rank_test_score  split0_train_score  split1_train_score  \\\n",
       "0                1            0.975223            0.975204   \n",
       "1                2            0.973508            0.973532   \n",
       "2                3            0.972656            0.972699   \n",
       "3                4            0.970394            0.970387   \n",
       "4                5            0.969274            0.969312   \n",
       "\n",
       "   split2_train_score  split3_train_score  split4_train_score  \\\n",
       "0            0.974825            0.974545            0.975280   \n",
       "1            0.973198            0.972900            0.973617   \n",
       "2            0.972372            0.972028            0.972807   \n",
       "3            0.970135            0.969793            0.970498   \n",
       "4            0.968959            0.968681            0.969421   \n",
       "\n",
       "   mean_train_score  std_train_score  \n",
       "0          0.975015         0.000285  \n",
       "1          0.973351         0.000266  \n",
       "2          0.972512         0.000282  \n",
       "3          0.970241         0.000254  \n",
       "4          0.969129         0.000272  \n",
       "\n",
       "[5 rows x 21 columns]"
      ]
     },
     "execution_count": 28,
     "metadata": {},
     "output_type": "execute_result"
    }
   ],
   "source": [
    "from sklearn.model_selection import GridSearchCV\n",
    "from sklearn.naive_bayes import MultinomialNB\n",
    "from sklearn.metrics import roc_auc_score\n",
    "\n",
    "nb = MultinomialNB()\n",
    "parameters = {'alpha':[0.00001,0.00005, 0.0001,0.0005,0.001,0.005,0.01,0.05,0.1,0.5,1,2]}\n",
    "clf = GridSearchCV(nb, parameters, cv=5, scoring='roc_auc')\n",
    "clf.fit(X_tr, y_tr)\n",
    "\n",
    "results = pd.DataFrame.from_dict(clf.cv_results_)\n",
    "results = results.sort_values(['param_alpha'])\n",
    "\n",
    "train_auc= results['mean_train_score']\n",
    "train_auc_std= results['std_train_score']\n",
    "cv_auc = results['mean_test_score'] \n",
    "cv_auc_std= results['std_test_score']\n",
    "alp =  results['param_alpha']\n",
    "\n",
    "plt.plot(alp, train_auc, label='Train AUC')\n",
    "# this code is copied from here: https://stackoverflow.com/a/48803361/4084039\n",
    "# plt.gca().fill_between(K, train_auc - train_auc_std,train_auc + train_auc_std,alpha=0.2,color='darkblue')\n",
    "\n",
    "plt.plot(alp, cv_auc, label='CV AUC')\n",
    "# this code is copied from here: https://stackoverflow.com/a/48803361/4084039\n",
    "# plt.gca().fill_between(K, cv_auc - cv_auc_std,cv_auc + cv_auc_std,alpha=0.2,color='darkorange')\n",
    "\n",
    "plt.scatter(alp, train_auc, label='Train AUC points')\n",
    "plt.scatter(alp, cv_auc, label='CV AUC points')\n",
    "\n",
    "\n",
    "plt.legend()\n",
    "plt.xlabel(\"Alpha\")\n",
    "plt.ylabel(\"AUC\")\n",
    "plt.title(\"Alpha Vs AUC\")\n",
    "plt.grid()\n",
    "plt.show()\n",
    "\n",
    "results.head()"
   ]
  },
  {
   "cell_type": "code",
   "execution_count": 37,
   "metadata": {},
   "outputs": [
    {
     "data": {
      "image/png": "[encoded data removed]",
      "text/plain": [
       "<Figure size 432x288 with 1 Axes>"
      ]
     },
     "metadata": {},
     "output_type": "display_data"
    }
   ],
   "source": [
    "from sklearn.metrics import roc_curve, auc\n",
    "\n",
    "nb = MultinomialNB(alpha=0.05)\n",
    "nb.fit(X_tr, y_tr)\n",
    "# roc_auc_score(y_true, y_score) the 2nd parameter should be probability estimates of the positive class\n",
    "# not the predicted outputs\n",
    "\n",
    "#y_tr_pred = neigh.predict_proba(X_tr)   \n",
    "#y_te_pred = neigh.predict_proba(X_te)\n",
    "\n",
    "y_tr_pred = batch_predict(nb, X_tr)    \n",
    "y_te_pred = batch_predict(nb, X_te)\n",
    "\n",
    "train_fpr, train_tpr, tr_thresholds = roc_curve(y_tr, y_tr_pred)\n",
    "test_fpr, test_tpr, te_thresholds = roc_curve(y_te, y_te_pred)\n",
    "\n",
    "plt.plot(train_fpr, train_tpr, label=\"train AUC =\"+str(auc(train_fpr, train_tpr)))\n",
    "plt.plot(test_fpr, test_tpr, label=\"test AUC =\"+str(auc(test_fpr, test_tpr)))\n",
    "plt.legend()\n",
    "plt.xlabel(\"Alpha\")\n",
    "plt.ylabel(\"AUC\")\n",
    "plt.title(\"ERROR PLOTS\")\n",
    "plt.grid()\n",
    "plt.show()"
   ]
  },
  {
   "cell_type": "code",
   "execution_count": 50,
   "metadata": {},
   "outputs": [],
   "source": [
    "# we are writing our own function for predict, with defined thresould\n",
    "# we will pick a threshold that will give the least fpr\n",
    "def find_best_threshold(threshold, fpr, tpr):\n",
    "    t = threshold[np.argmax(tpr*(1-fpr))]\n",
    "    # (tpr*(1-fpr)) will be maximum if your fpr is very low and tpr is very high\n",
    "    print(\"the maximum value of tpr*(1-fpr)\", max(tpr*(1-fpr)), \"for threshold\", np.round(t,3))\n",
    "    print(\"50*=\")\n",
    "    return t\n",
    "\n",
    "def predict_with_best_t(proba, threshold):\n",
    "    predictions = []\n",
    "    for i in proba:\n",
    "        if i>=threshold:\n",
    "            predictions.append(1)\n",
    "        else:\n",
    "            predictions.append(0)\n",
    "    return predictions"
   ]
  },
  {
   "cell_type": "code",
   "execution_count": 39,
   "metadata": {},
   "outputs": [
    {
     "name": "stdout",
     "output_type": "stream",
     "text": [
      "the maximum value of tpr*(1-fpr) 0.8148887114099378 for threshold 0.728\n",
      "50*=\n",
      "==================================================\n",
      "Train confusion matrix\n",
      "[[49573  5842]\n",
      " [ 5533 56580]]\n",
      "==================================================\n",
      "Test confusion matrix\n",
      "[[21962  5333]\n",
      " [ 4876 25717]]\n",
      "==================================================\n",
      "Train F1 Score\n",
      "0.9086602160035331\n",
      "==================================================\n",
      "Test F1 Score\n",
      "0.8343850883311974\n",
      "==================================================\n",
      "Train Accuracy Score\n",
      "0.9032145531277653\n",
      "==================================================\n",
      "Test Accuracy Score\n",
      "0.8236422056384743\n"
     ]
    }
   ],
   "source": [
    "from sklearn.metrics import confusion_matrix\n",
    "from sklearn.metrics import accuracy_score\n",
    "from sklearn.metrics import f1_score\n",
    "\n",
    "best_t = find_best_threshold(tr_thresholds, train_fpr, train_tpr)\n",
    "print(50*\"=\")\n",
    "print(\"Train confusion matrix\")\n",
    "print(confusion_matrix(y_tr, predict_with_best_t(y_tr_pred, best_t)))\n",
    "print(50*\"=\")\n",
    "print(\"Test confusion matrix\")\n",
    "print(confusion_matrix(y_te, predict_with_best_t(y_te_pred, best_t)))\n",
    "print(50*\"=\")\n",
    "print(\"Train F1 Score\")\n",
    "print(f1_score(y_tr, predict_with_best_t(y_tr_pred, best_t)))\n",
    "print(50*\"=\")\n",
    "print(\"Test F1 Score\")\n",
    "print(f1_score(y_te, predict_with_best_t(y_te_pred, best_t)))\n",
    "print(50*\"=\")\n",
    "print(\"Train Accuracy Score\")\n",
    "print(accuracy_score(y_tr, predict_with_best_t(y_tr_pred, best_t)))\n",
    "print(50*\"=\")\n",
    "print(\"Test Accuracy Score\")\n",
    "print(accuracy_score(y_te, predict_with_best_t(y_te_pred, best_t)))"
   ]
  },
  {
   "cell_type": "markdown",
   "metadata": {},
   "source": [
    "# Vectorization of Essays, Project Titles, Resource Summary with Tfidf"
   ]
  },
  {
   "cell_type": "code",
   "execution_count": 41,
   "metadata": {},
   "outputs": [
    {
     "name": "stdout",
     "output_type": "stream",
     "text": [
      "After vectorizations\n",
      "(117528, 423912) (117528,)\n",
      "(57888, 423912) (57888,)\n"
     ]
    }
   ],
   "source": [
    "from sklearn.feature_extraction.text import TfidfVectorizer\n",
    "\n",
    "vectorizer = TfidfVectorizer(min_df=10,ngram_range=(1,4))\n",
    "vectorizer.fit(x_tr['ppd_essays'].values) \n",
    "x_tr_essay_tfidf = vectorizer.transform(x_tr['ppd_essays'].values)\n",
    "x_te_essay_tfidf = vectorizer.transform(x_te['ppd_essays'].values)\n",
    "\n",
    "print(\"After vectorizations\")\n",
    "print(x_tr_essay_tfidf.shape, y_tr.shape)\n",
    "print(x_te_essay_tfidf.shape, y_te.shape)"
   ]
  },
  {
   "cell_type": "code",
   "execution_count": 42,
   "metadata": {},
   "outputs": [
    {
     "name": "stdout",
     "output_type": "stream",
     "text": [
      "After vectorizations\n",
      "(117528, 14607) (117528,)\n",
      "(57888, 14607) (57888,)\n"
     ]
    }
   ],
   "source": [
    "vectorizer = TfidfVectorizer()\n",
    "vectorizer.fit(x_tr['ppd_titles'].values)\n",
    "\n",
    "x_tr_title_tfidf = vectorizer.transform(x_tr['ppd_titles'].values)\n",
    "x_te_title_tfidf = vectorizer.transform(x_te['ppd_titles'].values)\n",
    "\n",
    "print(\"After vectorizations\")\n",
    "print(x_tr_title_tfidf.shape, y_tr.shape)\n",
    "print(x_te_title_tfidf.shape, y_te.shape)"
   ]
  },
  {
   "cell_type": "code",
   "execution_count": 43,
   "metadata": {},
   "outputs": [
    {
     "name": "stdout",
     "output_type": "stream",
     "text": [
      "After vectorizations\n",
      "(117528, 19315) (117528,)\n",
      "(57888, 19315) (57888,)\n"
     ]
    }
   ],
   "source": [
    "vectorizer = TfidfVectorizer()\n",
    "vectorizer.fit(x_tr['ppd_res_summary'].values)\n",
    "\n",
    "x_tr_res_summary_tfidf = vectorizer.transform(x_tr['ppd_res_summary'].values)\n",
    "x_te_res_summary_tfidf = vectorizer.transform(x_te['ppd_res_summary'].values)\n",
    "\n",
    "print(\"After vectorizations\")\n",
    "print(x_tr_res_summary_tfidf.shape, y_tr.shape)\n",
    "print(x_te_res_summary_tfidf.shape, y_te.shape)"
   ]
  },
  {
   "cell_type": "markdown",
   "metadata": {},
   "source": [
    "# Stacking of vectors"
   ]
  },
  {
   "cell_type": "code",
   "execution_count": 44,
   "metadata": {},
   "outputs": [
    {
     "name": "stdout",
     "output_type": "stream",
     "text": [
      "Final Data matrix\n",
      "(117528, 457938) (117528,)\n",
      "(57888, 457938) (57888,)\n"
     ]
    }
   ],
   "source": [
    "# merge two sparse matrices: https://stackoverflow.com/a/19710648/4084039\n",
    "from scipy.sparse import hstack\n",
    "X_tr = hstack((x_tr_essay_tfidf, x_tr_title_tfidf, x_tr_res_summary_tfidf, x_tr_subjects_ohe, x_tr_subject_subcat_ohe.shape, x_tr_state_ohe.shape, x_tr_tprefix_ohe.shape, x_tr_grade_ohe, x_tr_price_norm, x_tr_quantity_norm, x_tr_prev_projects_norm, x_tr_essay_word_count_norm, x_tr_title_word_count_norm)).tocsr()\n",
    "X_te = hstack((x_te_essay_tfidf, x_te_title_tfidf, x_te_res_summary_tfidf, x_te_subjects_ohe, x_te_subject_subcat_ohe.shape, x_te_state_ohe.shape, x_te_tprefix_ohe.shape, x_te_grade_ohe, x_te_price_norm, x_te_quantity_norm, x_te_prev_projects_norm, x_te_essay_word_count_norm, x_te_title_word_count_norm)).tocsr()\n",
    "\n",
    "print(\"Final Data matrix\")\n",
    "print(X_tr.shape, y_tr.shape)\n",
    "print(X_te.shape, y_te.shape)"
   ]
  },
  {
   "cell_type": "code",
   "execution_count": 45,
   "metadata": {},
   "outputs": [
    {
     "data": {
      "image/png": "[encoded data removed]",
      "text/plain": [
       "<Figure size 432x288 with 1 Axes>"
      ]
     },
     "metadata": {},
     "output_type": "display_data"
    },
    {
     "data": {
      "text/html": [
       "<div>\n",
       "<style scoped>\n",
       "    .dataframe tbody tr th:only-of-type {\n",
       "        vertical-align: middle;\n",
       "    }\n",
       "\n",
       "    .dataframe tbody tr th {\n",
       "        vertical-align: top;\n",
       "    }\n",
       "\n",
       "    .dataframe thead th {\n",
       "        text-align: right;\n",
       "    }\n",
       "</style>\n",
       "<table border=\"1\" class=\"dataframe\">\n",
       "  <thead>\n",
       "    <tr style=\"text-align: right;\">\n",
       "      <th></th>\n",
       "      <th>mean_fit_time</th>\n",
       "      <th>std_fit_time</th>\n",
       "      <th>mean_score_time</th>\n",
       "      <th>std_score_time</th>\n",
       "      <th>param_alpha</th>\n",
       "      <th>params</th>\n",
       "      <th>split0_test_score</th>\n",
       "      <th>split1_test_score</th>\n",
       "      <th>split2_test_score</th>\n",
       "      <th>mean_test_score</th>\n",
       "      <th>std_test_score</th>\n",
       "      <th>rank_test_score</th>\n",
       "      <th>split0_train_score</th>\n",
       "      <th>split1_train_score</th>\n",
       "      <th>split2_train_score</th>\n",
       "      <th>mean_train_score</th>\n",
       "      <th>std_train_score</th>\n",
       "    </tr>\n",
       "  </thead>\n",
       "  <tbody>\n",
       "    <tr>\n",
       "      <th>0</th>\n",
       "      <td>0.636962</td>\n",
       "      <td>0.049642</td>\n",
       "      <td>0.106051</td>\n",
       "      <td>0.012006</td>\n",
       "      <td>1e-05</td>\n",
       "      <td>{'alpha': 1e-05}</td>\n",
       "      <td>0.908770</td>\n",
       "      <td>0.909546</td>\n",
       "      <td>0.909478</td>\n",
       "      <td>0.909264</td>\n",
       "      <td>0.000351</td>\n",
       "      <td>1</td>\n",
       "      <td>0.987789</td>\n",
       "      <td>0.987544</td>\n",
       "      <td>0.987769</td>\n",
       "      <td>0.987701</td>\n",
       "      <td>0.000111</td>\n",
       "    </tr>\n",
       "    <tr>\n",
       "      <th>1</th>\n",
       "      <td>0.696472</td>\n",
       "      <td>0.100731</td>\n",
       "      <td>0.103057</td>\n",
       "      <td>0.012676</td>\n",
       "      <td>5e-05</td>\n",
       "      <td>{'alpha': 5e-05}</td>\n",
       "      <td>0.907331</td>\n",
       "      <td>0.908078</td>\n",
       "      <td>0.908200</td>\n",
       "      <td>0.907869</td>\n",
       "      <td>0.000384</td>\n",
       "      <td>2</td>\n",
       "      <td>0.986344</td>\n",
       "      <td>0.986108</td>\n",
       "      <td>0.986336</td>\n",
       "      <td>0.986263</td>\n",
       "      <td>0.000109</td>\n",
       "    </tr>\n",
       "    <tr>\n",
       "      <th>2</th>\n",
       "      <td>0.660567</td>\n",
       "      <td>0.048868</td>\n",
       "      <td>0.101395</td>\n",
       "      <td>0.006583</td>\n",
       "      <td>0.0001</td>\n",
       "      <td>{'alpha': 0.0001}</td>\n",
       "      <td>0.906519</td>\n",
       "      <td>0.907245</td>\n",
       "      <td>0.907474</td>\n",
       "      <td>0.907080</td>\n",
       "      <td>0.000407</td>\n",
       "      <td>3</td>\n",
       "      <td>0.985605</td>\n",
       "      <td>0.985370</td>\n",
       "      <td>0.985596</td>\n",
       "      <td>0.985524</td>\n",
       "      <td>0.000109</td>\n",
       "    </tr>\n",
       "    <tr>\n",
       "      <th>3</th>\n",
       "      <td>0.646606</td>\n",
       "      <td>0.056219</td>\n",
       "      <td>0.086766</td>\n",
       "      <td>0.000812</td>\n",
       "      <td>0.0005</td>\n",
       "      <td>{'alpha': 0.0005}</td>\n",
       "      <td>0.904012</td>\n",
       "      <td>0.904670</td>\n",
       "      <td>0.905214</td>\n",
       "      <td>0.904632</td>\n",
       "      <td>0.000492</td>\n",
       "      <td>4</td>\n",
       "      <td>0.983507</td>\n",
       "      <td>0.983280</td>\n",
       "      <td>0.983512</td>\n",
       "      <td>0.983433</td>\n",
       "      <td>0.000108</td>\n",
       "    </tr>\n",
       "    <tr>\n",
       "      <th>4</th>\n",
       "      <td>0.684836</td>\n",
       "      <td>0.070127</td>\n",
       "      <td>0.090758</td>\n",
       "      <td>0.005086</td>\n",
       "      <td>0.001</td>\n",
       "      <td>{'alpha': 0.001}</td>\n",
       "      <td>0.902547</td>\n",
       "      <td>0.903176</td>\n",
       "      <td>0.903886</td>\n",
       "      <td>0.903203</td>\n",
       "      <td>0.000547</td>\n",
       "      <td>5</td>\n",
       "      <td>0.982394</td>\n",
       "      <td>0.982164</td>\n",
       "      <td>0.982403</td>\n",
       "      <td>0.982321</td>\n",
       "      <td>0.000110</td>\n",
       "    </tr>\n",
       "  </tbody>\n",
       "</table>\n",
       "</div>"
      ],
      "text/plain": [
       "   mean_fit_time  std_fit_time  mean_score_time  std_score_time param_alpha  \\\n",
       "0       0.636962      0.049642         0.106051        0.012006       1e-05   \n",
       "1       0.696472      0.100731         0.103057        0.012676       5e-05   \n",
       "2       0.660567      0.048868         0.101395        0.006583      0.0001   \n",
       "3       0.646606      0.056219         0.086766        0.000812      0.0005   \n",
       "4       0.684836      0.070127         0.090758        0.005086       0.001   \n",
       "\n",
       "              params  split0_test_score  split1_test_score  split2_test_score  \\\n",
       "0   {'alpha': 1e-05}           0.908770           0.909546           0.909478   \n",
       "1   {'alpha': 5e-05}           0.907331           0.908078           0.908200   \n",
       "2  {'alpha': 0.0001}           0.906519           0.907245           0.907474   \n",
       "3  {'alpha': 0.0005}           0.904012           0.904670           0.905214   \n",
       "4   {'alpha': 0.001}           0.902547           0.903176           0.903886   \n",
       "\n",
       "   mean_test_score  std_test_score  rank_test_score  split0_train_score  \\\n",
       "0         0.909264        0.000351                1            0.987789   \n",
       "1         0.907869        0.000384                2            0.986344   \n",
       "2         0.907080        0.000407                3            0.985605   \n",
       "3         0.904632        0.000492                4            0.983507   \n",
       "4         0.903203        0.000547                5            0.982394   \n",
       "\n",
       "   split1_train_score  split2_train_score  mean_train_score  std_train_score  \n",
       "0            0.987544            0.987769          0.987701         0.000111  \n",
       "1            0.986108            0.986336          0.986263         0.000109  \n",
       "2            0.985370            0.985596          0.985524         0.000109  \n",
       "3            0.983280            0.983512          0.983433         0.000108  \n",
       "4            0.982164            0.982403          0.982321         0.000110  "
      ]
     },
     "execution_count": 45,
     "metadata": {},
     "output_type": "execute_result"
    }
   ],
   "source": [
    "from sklearn.model_selection import GridSearchCV\n",
    "from sklearn.naive_bayes import MultinomialNB\n",
    "from sklearn.metrics import roc_auc_score\n",
    "\n",
    "nb = MultinomialNB()\n",
    "parameters = {'alpha':[0.00001,0.00005, 0.0001,0.0005,0.001,0.005,0.01,0.05,0.1,0.5,1]}\n",
    "clf = GridSearchCV(nb, parameters, cv=3, scoring='roc_auc')\n",
    "clf.fit(X_tr, y_tr)\n",
    "\n",
    "results = pd.DataFrame.from_dict(clf.cv_results_)\n",
    "results = results.sort_values(['param_alpha'])\n",
    "\n",
    "train_auc= results['mean_train_score']\n",
    "train_auc_std= results['std_train_score']\n",
    "cv_auc = results['mean_test_score'] \n",
    "cv_auc_std= results['std_test_score']\n",
    "alp =  results['param_alpha']\n",
    "\n",
    "plt.plot(alp, train_auc, label='Train AUC')\n",
    "\n",
    "plt.plot(alp, cv_auc, label='CV AUC')\n",
    "\n",
    "plt.scatter(alp, train_auc, label='Train AUC points')\n",
    "plt.scatter(alp, cv_auc, label='CV AUC points')\n",
    "\n",
    "\n",
    "plt.legend()\n",
    "plt.xlabel(\"Alpha\")\n",
    "plt.ylabel(\"AUC\")\n",
    "plt.title(\"Alpha Vs AUC\")\n",
    "plt.grid()\n",
    "plt.show()\n",
    "\n",
    "results.head()"
   ]
  },
  {
   "cell_type": "code",
   "execution_count": 46,
   "metadata": {},
   "outputs": [
    {
     "data": {
      "image/png": "[encoded data removed]",
      "text/plain": [
       "<Figure size 432x288 with 1 Axes>"
      ]
     },
     "metadata": {},
     "output_type": "display_data"
    }
   ],
   "source": [
    "from sklearn.metrics import roc_curve, auc\n",
    "\n",
    "nb = MultinomialNB(alpha=0.05)\n",
    "nb.fit(X_tr, y_tr)\n",
    "# roc_auc_score(y_true, y_score) the 2nd parameter should be probability estimates of the positive class\n",
    "# not the predicted outputs\n",
    "\n",
    "#y_tr_pred = neigh.predict_proba(X_tr)   \n",
    "#y_te_pred = neigh.predict_proba(X_te)\n",
    "\n",
    "y_tr_pred = batch_predict(nb, X_tr)    \n",
    "y_te_pred = batch_predict(nb, X_te)\n",
    "\n",
    "train_fpr, train_tpr, tr_thresholds = roc_curve(y_tr, y_tr_pred)\n",
    "test_fpr, test_tpr, te_thresholds = roc_curve(y_te, y_te_pred)\n",
    "\n",
    "plt.plot(train_fpr, train_tpr, label=\"train AUC =\"+str(auc(train_fpr, train_tpr)))\n",
    "plt.plot(test_fpr, test_tpr, label=\"test AUC =\"+str(auc(test_fpr, test_tpr)))\n",
    "plt.legend()\n",
    "plt.xlabel(\"Alpha\")\n",
    "plt.ylabel(\"AUC\")\n",
    "plt.title(\"ERROR PLOTS\")\n",
    "plt.grid()\n",
    "plt.show()"
   ]
  },
  {
   "cell_type": "code",
   "execution_count": 47,
   "metadata": {},
   "outputs": [
    {
     "name": "stdout",
     "output_type": "stream",
     "text": [
      "the maximum value of tpr*(1-fpr) 0.8173826893918353 for threshold 0.561\n",
      "50*=\n",
      "==================================================\n",
      "Train confusion matrix\n",
      "[[50308  5107]\n",
      " [ 6189 55924]]\n",
      "==================================================\n",
      "Test confusion matrix\n",
      "[[22722  4573]\n",
      " [ 5639 24954]]\n",
      "==================================================\n",
      "Train F1 Score\n",
      "0.9082699928538945\n",
      "==================================================\n",
      "Test F1 Score\n",
      "0.8301397205588821\n",
      "==================================================\n",
      "Train Accuracy Score\n",
      "0.9038867333741747\n",
      "==================================================\n",
      "Test Accuracy Score\n",
      "0.8235903814262023\n"
     ]
    }
   ],
   "source": [
    "from sklearn.metrics import confusion_matrix\n",
    "from sklearn.metrics import f1_score\n",
    "\n",
    "best_t = find_best_threshold(tr_thresholds, train_fpr, train_tpr)\n",
    "print(50*\"=\")\n",
    "print(\"Train confusion matrix\")\n",
    "print(confusion_matrix(y_tr, predict_with_best_t(y_tr_pred, best_t)))\n",
    "print(50*\"=\")\n",
    "print(\"Test confusion matrix\")\n",
    "print(confusion_matrix(y_te, predict_with_best_t(y_te_pred, best_t)))\n",
    "print(50*\"=\")\n",
    "print(\"Train F1 Score\")\n",
    "print(f1_score(y_tr, predict_with_best_t(y_tr_pred, best_t)))\n",
    "print(50*\"=\")\n",
    "print(\"Test F1 Score\")\n",
    "print(f1_score(y_te, predict_with_best_t(y_te_pred, best_t)))\n",
    "print(50*\"=\")\n",
    "print(\"Train Accuracy Score\")\n",
    "print(accuracy_score(y_tr, predict_with_best_t(y_tr_pred, best_t)))\n",
    "print(50*\"=\")\n",
    "print(\"Test Accuracy Score\")\n",
    "print(accuracy_score(y_te, predict_with_best_t(y_te_pred, best_t)))"
   ]
  },
  {
   "cell_type": "code",
   "execution_count": null,
   "metadata": {},
   "outputs": [],
   "source": []
  }
 ],
 "metadata": {
  "kernelspec": {
   "display_name": "Python 3",
   "language": "python",
   "name": "python3"
  },
  "language_info": {
   "codemirror_mode": {
    "name": "ipython",
    "version": 3
   },
   "file_extension": ".py",
   "mimetype": "text/x-python",
   "name": "python",
   "nbconvert_exporter": "python",
   "pygments_lexer": "ipython3",
   "version": "3.6.5"
  }
 },
 "nbformat": 4,
 "nbformat_minor": 2
}
