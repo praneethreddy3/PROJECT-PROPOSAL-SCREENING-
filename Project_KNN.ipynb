{
 "cells": [
  {
   "cell_type": "code",
   "execution_count": 2,
   "metadata": {},
   "outputs": [],
   "source": [
    "%matplotlib inline\n",
    "import warnings\n",
    "warnings.filterwarnings(\"ignore\")\n",
    "\n",
    "import pandas as pd\n",
    "import numpy as np\n",
    "import nltk\n",
    "import matplotlib.pyplot as plt\n",
    "import seaborn as sns\n",
    "from sklearn.feature_extraction.text import TfidfVectorizer\n",
    "from sklearn.feature_extraction.text import CountVectorizer\n",
    "from sklearn.neighbors import KNeighborsClassifier\n",
    "from sklearn.metrics import confusion_matrix\n",
    "from sklearn.metrics import roc_curve, auc\n",
    "from sklearn.metrics import roc_auc_score\n",
    "from sklearn.metrics import accuracy_score\n",
    "from sklearn.metrics import f1_score\n",
    "from collections import Counter\n",
    "from sklearn.preprocessing import Normalizer\n",
    "from sklearn.model_selection import GridSearchCV"
   ]
  },
  {
   "cell_type": "code",
   "execution_count": 3,
   "metadata": {},
   "outputs": [],
   "source": [
    "preprocessed_data = pd.read_csv('data_preprocessed.csv')"
   ]
  },
  {
   "cell_type": "code",
   "execution_count": 4,
   "metadata": {},
   "outputs": [
    {
     "data": {
      "text/plain": [
       "(109248, 17)"
      ]
     },
     "execution_count": 4,
     "metadata": {},
     "output_type": "execute_result"
    }
   ],
   "source": [
    "preprocessed_data.shape"
   ]
  },
  {
   "cell_type": "code",
   "execution_count": 5,
   "metadata": {},
   "outputs": [],
   "source": [
    "preprocessed_data=preprocessed_data.iloc[:50000,:]\n"
   ]
  },
  {
   "cell_type": "code",
   "execution_count": 6,
   "metadata": {},
   "outputs": [
    {
     "data": {
      "text/plain": [
       "(50000, 17)"
      ]
     },
     "execution_count": 6,
     "metadata": {},
     "output_type": "execute_result"
    }
   ],
   "source": [
    "preprocessed_data.shape"
   ]
  },
  {
   "cell_type": "markdown",
   "metadata": {},
   "source": [
    "# Splitting data into X & Y"
   ]
  },
  {
   "cell_type": "code",
   "execution_count": 7,
   "metadata": {},
   "outputs": [
    {
     "data": {
      "text/html": [
       "<div>\n",
       "<style scoped>\n",
       "    .dataframe tbody tr th:only-of-type {\n",
       "        vertical-align: middle;\n",
       "    }\n",
       "\n",
       "    .dataframe tbody tr th {\n",
       "        vertical-align: top;\n",
       "    }\n",
       "\n",
       "    .dataframe thead th {\n",
       "        text-align: right;\n",
       "    }\n",
       "</style>\n",
       "<table border=\"1\" class=\"dataframe\">\n",
       "  <thead>\n",
       "    <tr style=\"text-align: right;\">\n",
       "      <th></th>\n",
       "      <th>Unnamed: 0</th>\n",
       "      <th>teacher_id</th>\n",
       "      <th>teacher_prefix</th>\n",
       "      <th>school_state</th>\n",
       "      <th>project_grade_category</th>\n",
       "      <th>project_subject_categories</th>\n",
       "      <th>project_subject_subcategories</th>\n",
       "      <th>teacher_number_of_previously_posted_projects</th>\n",
       "      <th>price</th>\n",
       "      <th>quantity</th>\n",
       "      <th>titles_word_count</th>\n",
       "      <th>essays_word_count</th>\n",
       "      <th>project_year_month</th>\n",
       "      <th>preprocessed_titles</th>\n",
       "      <th>preprocessed_essays</th>\n",
       "      <th>preprocessed_res_summary</th>\n",
       "    </tr>\n",
       "  </thead>\n",
       "  <tbody>\n",
       "    <tr>\n",
       "      <th>0</th>\n",
       "      <td>0</td>\n",
       "      <td>c90749f5d961ff158d4b4d1e7dc665fc</td>\n",
       "      <td>mrs</td>\n",
       "      <td>in</td>\n",
       "      <td>grades_prek_2</td>\n",
       "      <td>literacy_language</td>\n",
       "      <td>esl, literacy</td>\n",
       "      <td>0</td>\n",
       "      <td>154.6</td>\n",
       "      <td>23</td>\n",
       "      <td>7</td>\n",
       "      <td>272</td>\n",
       "      <td>16-12</td>\n",
       "      <td>educational support for english learners at home</td>\n",
       "      <td>my students are english learners that are work...</td>\n",
       "      <td>my students need opportunities to practice beg...</td>\n",
       "    </tr>\n",
       "  </tbody>\n",
       "</table>\n",
       "</div>"
      ],
      "text/plain": [
       "   Unnamed: 0                        teacher_id teacher_prefix school_state  \\\n",
       "0           0  c90749f5d961ff158d4b4d1e7dc665fc            mrs           in   \n",
       "\n",
       "  project_grade_category project_subject_categories  \\\n",
       "0          grades_prek_2          literacy_language   \n",
       "\n",
       "  project_subject_subcategories  teacher_number_of_previously_posted_projects  \\\n",
       "0                 esl, literacy                                             0   \n",
       "\n",
       "   price  quantity  titles_word_count  essays_word_count project_year_month  \\\n",
       "0  154.6        23                  7                272              16-12   \n",
       "\n",
       "                                preprocessed_titles  \\\n",
       "0  educational support for english learners at home   \n",
       "\n",
       "                                 preprocessed_essays  \\\n",
       "0  my students are english learners that are work...   \n",
       "\n",
       "                            preprocessed_res_summary  \n",
       "0  my students need opportunities to practice beg...  "
      ]
     },
     "execution_count": 7,
     "metadata": {},
     "output_type": "execute_result"
    }
   ],
   "source": [
    "y = preprocessed_data['project_is_approved'].values\n",
    "x = preprocessed_data.drop(['project_is_approved'], axis=1)\n",
    "x.head(1)"
   ]
  },
  {
   "cell_type": "markdown",
   "metadata": {},
   "source": [
    "# Splitting data into Train & Test data (No need for sep. CV because we are doing N-fold Grid Search CV)"
   ]
  },
  {
   "cell_type": "code",
   "execution_count": 8,
   "metadata": {},
   "outputs": [
    {
     "name": "stdout",
     "output_type": "stream",
     "text": [
      "[0 1 0 ... 1 1 1]\n",
      "<class 'numpy.ndarray'>\n"
     ]
    },
    {
     "data": {
      "text/plain": [
       "50000"
      ]
     },
     "execution_count": 8,
     "metadata": {},
     "output_type": "execute_result"
    }
   ],
   "source": [
    "print(y)\n",
    "print(type(y))\n",
    "y.size"
   ]
  },
  {
   "cell_type": "code",
   "execution_count": 9,
   "metadata": {},
   "outputs": [
    {
     "name": "stdout",
     "output_type": "stream",
     "text": [
      "33500\n",
      "16500\n",
      "(33500, 16)\n",
      "(16500, 16)\n"
     ]
    }
   ],
   "source": [
    "from sklearn.model_selection import train_test_split\n",
    "x_tr, x_te, y_tr, y_te = train_test_split(x, y, test_size=0.33, stratify=y)\n",
    "\n",
    "print(y_tr.size)\n",
    "print(y_te.size)\n",
    "print(x_tr.shape)\n",
    "print(x_te.shape)"
   ]
  },
  {
   "cell_type": "markdown",
   "metadata": {},
   "source": [
    "# Featurization of Essay, Project_title, Project Summary using BoW"
   ]
  },
  {
   "cell_type": "code",
   "execution_count": 10,
   "metadata": {},
   "outputs": [],
   "source": [
    "def bow(vectorizer, x_train, x_test):\n",
    "    vectorizer.fit(x_train)\n",
    "\n",
    "    x_train_bow = vectorizer.transform(x_train)\n",
    "    x_test_bow = vectorizer.transform(x_test)\n",
    "    return (x_train_bow, x_test_bow)"
   ]
  },
  {
   "cell_type": "code",
   "execution_count": 11,
   "metadata": {},
   "outputs": [
    {
     "name": "stdout",
     "output_type": "stream",
     "text": [
      "x_train essays matrix dimensions (33500, 91501)\n",
      "x_test essays matrix dimensions (16500, 91501)\n",
      "x_train titles matrix dimensions (33500, 9698)\n",
      "x_test titles matrix dimensions (16500, 9698)\n",
      "x_test titles matrix dimensions (33500, 13746)\n",
      "x_test titles matrix dimensions (16500, 13746)\n"
     ]
    }
   ],
   "source": [
    "#Essays featurization\n",
    "vectorizer = CountVectorizer(min_df=20,ngram_range=(1,3))\n",
    "(x_tr_essay_bow, x_te_essay_bow) = bow (vectorizer, x_tr['preprocessed_essays'].values, x_te['preprocessed_essays'].values)\n",
    "print(\"x_train essays matrix dimensions\", x_tr_essay_bow.shape)\n",
    "print(\"x_test essays matrix dimensions\", x_te_essay_bow.shape)\n",
    "\n",
    "#Titles featurization\n",
    "vectorizer = CountVectorizer()\n",
    "(x_tr_title_bow, x_te_title_bow) = bow (vectorizer, x_tr['preprocessed_titles'].values, x_te['preprocessed_titles'].values)\n",
    "\n",
    "print(\"x_train titles matrix dimensions\", x_tr_title_bow.shape)\n",
    "print(\"x_test titles matrix dimensions\", x_te_title_bow.shape)\n",
    "\n",
    "#Resource Summaries\n",
    "vectorizer = CountVectorizer()\n",
    "(x_tr_res_summary_bow, x_te_res_summary_bow) = bow (vectorizer, x_tr['preprocessed_res_summary'].values, x_te['preprocessed_res_summary'].values)\n",
    "\n",
    "print(\"x_test titles matrix dimensions\", x_tr_res_summary_bow.shape)\n",
    "print(\"x_test titles matrix dimensions\", x_te_res_summary_bow.shape)"
   ]
  },
  {
   "cell_type": "markdown",
   "metadata": {},
   "source": [
    "# Featurization of Essay, Project_title, Project Summary using tf-idf"
   ]
  },
  {
   "cell_type": "code",
   "execution_count": 29,
   "metadata": {},
   "outputs": [],
   "source": [
    "def tfidf(vectorizer, x_train, x_test):\n",
    "    vectorizer.fit(x_train)\n",
    "\n",
    "    x_train_bow = vectorizer.transform(x_train)\n",
    "    x_test_bow = vectorizer.transform(x_test)\n",
    "    return (x_train_bow, x_test_bow)"
   ]
  },
  {
   "cell_type": "code",
   "execution_count": 30,
   "metadata": {},
   "outputs": [
    {
     "name": "stdout",
     "output_type": "stream",
     "text": [
      "x_train essays matrix dimensions (33500, 91501)\n",
      "x_test essays matrix dimensions (16500, 91501)\n",
      "x_train titles matrix dimensions (33500, 9698)\n",
      "x_test titles matrix dimensions (16500, 9698)\n",
      "x_test titles matrix dimensions (33500, 13746)\n",
      "x_test titles matrix dimensions (16500, 13746)\n"
     ]
    }
   ],
   "source": [
    "#Essays featurization\n",
    "vectorizer = TfidfVectorizer(min_df=20,ngram_range=(1,3))\n",
    "(x_tr_essay_tfidf, x_te_essay_tfidf) = bow (vectorizer, x_tr['preprocessed_essays'].values, x_te['preprocessed_essays'].values)\n",
    "print(\"x_train essays matrix dimensions\", x_tr_essay_tfidf.shape)\n",
    "print(\"x_test essays matrix dimensions\", x_te_essay_tfidf.shape)\n",
    "\n",
    "#Titles featurization\n",
    "vectorizer = CountVectorizer()\n",
    "(x_tr_title_tfidf, x_te_title_tfidf) = bow (vectorizer, x_tr['preprocessed_titles'].values, x_te['preprocessed_titles'].values)\n",
    "\n",
    "print(\"x_train titles matrix dimensions\", x_tr_title_tfidf.shape)\n",
    "print(\"x_test titles matrix dimensions\", x_te_title_tfidf.shape)\n",
    "\n",
    "#Resource Summaries\n",
    "vectorizer = CountVectorizer()\n",
    "(x_tr_res_summary_tfidf, x_te_res_summary_tfidf) = bow (vectorizer, x_tr['preprocessed_res_summary'].values, x_te['preprocessed_res_summary'].values)\n",
    "\n",
    "print(\"x_test titles matrix dimensions\", x_tr_res_summary_tfidf.shape)\n",
    "print(\"x_test titles matrix dimensions\", x_te_res_summary_tfidf.shape)"
   ]
  },
  {
   "cell_type": "markdown",
   "metadata": {},
   "source": [
    "# Featurization of Categorical features"
   ]
  },
  {
   "cell_type": "code",
   "execution_count": 12,
   "metadata": {},
   "outputs": [],
   "source": [
    "def ohe(vectorizer, x_train, x_test):\n",
    "    vectorizer.fit(x_train)\n",
    "\n",
    "    x_train_ohe = vectorizer.transform(x_train)\n",
    "    x_test_ohe = vectorizer.transform(x_test)\n",
    "    return (x_train_bow, x_test_bow)"
   ]
  },
  {
   "cell_type": "code",
   "execution_count": 13,
   "metadata": {},
   "outputs": [
    {
     "name": "stdout",
     "output_type": "stream",
     "text": [
      "x_train subject categories matrix dimensions (33500, 11)\n",
      "x_test subject categories matrix dimensions (16500, 11)\n",
      "==================================================\n",
      "x_train subject subcategories matrix dimensions (33500, 29)\n",
      "x_test subject subcategories matrix dimensions (16500, 29)\n",
      "==================================================\n",
      "x_train teacher prefixs matrix dimensions (33500, 5)\n",
      "x_test teacher prefixs matrix dimensions (16500, 5)\n",
      "==================================================\n",
      "x_train state codes matrix dimensions (33500, 51)\n",
      "x_test state codes matrix dimensions (16500, 51)\n",
      "==================================================\n",
      "x_train grade categories matrix dimensions (33500, 4)\n",
      "x_test grade categories matrix dimensions (16500, 4)\n"
     ]
    }
   ],
   "source": [
    "vectorizer = CountVectorizer()\n",
    "\n",
    "# Project_subject_categories\n",
    "(x_tr_subjects_ohe, x_te_subjects_ohe) = bow (vectorizer, x_tr['project_subject_categories'].values, x_te['project_subject_categories'].values)\n",
    "print(\"x_train subject categories matrix dimensions\", x_tr_subjects_ohe.shape)\n",
    "print(\"x_test subject categories matrix dimensions\", x_te_subjects_ohe.shape)\n",
    "print(50*\"=\")\n",
    "\n",
    "# Project_subject_subcategories\n",
    "(x_tr_subject_subcat_ohe, x_te_subject_subcat_ohe) = bow (vectorizer, x_tr['project_subject_subcategories'].values, x_te['project_subject_subcategories'].values)\n",
    "print(\"x_train subject subcategories matrix dimensions\", x_tr_subject_subcat_ohe.shape)\n",
    "print(\"x_test subject subcategories matrix dimensions\", x_te_subject_subcat_ohe.shape)\n",
    "print(50*\"=\")\n",
    "\n",
    "# Teacher_prefixs\n",
    "(x_tr_teacher_prefix_ohe, x_te_teacher_prefix_ohe) = bow (vectorizer, x_tr['teacher_prefix'].values, x_te['teacher_prefix'].values)\n",
    "print(\"x_train teacher prefixs matrix dimensions\", x_tr_teacher_prefix_ohe.shape)\n",
    "print(\"x_test teacher prefixs matrix dimensions\", x_te_teacher_prefix_ohe.shape)\n",
    "print(50*\"=\")\n",
    "\n",
    "# School state codes\n",
    "(x_tr_school_state_ohe, x_te_school_state_ohe) = bow (vectorizer, x_tr['school_state'].values, x_te['school_state'].values)\n",
    "print(\"x_train state codes matrix dimensions\", x_tr_school_state_ohe.shape)\n",
    "print(\"x_test state codes matrix dimensions\", x_te_school_state_ohe.shape)\n",
    "print(50*\"=\")\n",
    "\n",
    "# Project grade categories\n",
    "(x_tr_grade_ohe, x_te_grade_ohe) = bow (vectorizer, x_tr['project_grade_category'].values, x_te['project_grade_category'].values)\n",
    "print(\"x_train grade categories matrix dimensions\", x_tr_grade_ohe.shape)\n",
    "print(\"x_test grade categories matrix dimensions\", x_te_grade_ohe.shape)"
   ]
  },
  {
   "cell_type": "markdown",
   "metadata": {},
   "source": [
    "# Normalization - Price, Quantity, Previous Projects, Word_counts"
   ]
  },
  {
   "cell_type": "code",
   "execution_count": 14,
   "metadata": {},
   "outputs": [],
   "source": [
    "def norm(x_train, x_test):\n",
    "    normalizer = Normalizer()\n",
    "    normalizer.fit(x_train)\n",
    "\n",
    "    x_train_norm = normalizer.transform(x_train)\n",
    "    x_test_norm = normalizer.transform(x_test)\n",
    "    return (x_train_norm, x_test_norm)"
   ]
  },
  {
   "cell_type": "code",
   "execution_count": 15,
   "metadata": {},
   "outputs": [],
   "source": [
    "#Project Price\n",
    "(x_tr_price_norm, x_te_price_norm) = norm(x_tr['price'].values.reshape(-1,1), x_te['price'].values.reshape(-1,1))\n",
    "\n",
    "#Resource Quantities\n",
    "(x_tr_quantity_norm, x_te_quantity_norm) = norm(x_tr['quantity'].values.reshape(-1,1), x_te['quantity'].values.reshape(-1,1))\n",
    "\n",
    "#Previously posted projects by a teacher\n",
    "(x_tr_prev_projects_norm, x_te_prev_projects_norm) = norm(x_tr['teacher_number_of_previously_posted_projects'].values.reshape(-1,1), x_te['teacher_number_of_previously_posted_projects'].values.reshape(-1,1))\n",
    "\n",
    "#No. of Words in a title\n",
    "(x_tr_title_word_count_norm, x_te_title_word_count_norm) = norm(x_tr['titles_word_count'].values.reshape(-1,1), x_te['titles_word_count'].values.reshape(-1,1))\n",
    "\n",
    "#No. of Words in an essay\n",
    "(x_tr_essay_word_count_norm, x_te_essay_word_count_norm) = norm(x_tr['essays_word_count'].values.reshape(-1,1), x_te['essays_word_count'].values.reshape(-1,1))"
   ]
  },
  {
   "cell_type": "markdown",
   "metadata": {},
   "source": [
    "# Stacking of vectors (BoW Featurization of text features)"
   ]
  },
  {
   "cell_type": "code",
   "execution_count": 16,
   "metadata": {},
   "outputs": [
    {
     "name": "stdout",
     "output_type": "stream",
     "text": [
      "Final Data matrix\n",
      "(33500, 115050) (33500,)\n",
      "(16500, 115050) (16500,)\n"
     ]
    }
   ],
   "source": [
    "# merge two sparse matrices: https://stackoverflow.com/a/19710648/4084039\n",
    "from scipy.sparse import hstack\n",
    "X_tr_bow = hstack((x_tr_essay_bow, x_tr_title_bow, x_tr_res_summary_bow, x_tr_subjects_ohe, x_tr_subject_subcat_ohe.shape, x_tr_school_state_ohe.shape, x_tr_teacher_prefix_ohe.shape, x_tr_grade_ohe, x_tr_price_norm, x_tr_quantity_norm, x_tr_prev_projects_norm, x_tr_essay_word_count_norm, x_tr_title_word_count_norm)).tocsr()\n",
    "X_te_bow = hstack((x_te_essay_bow, x_te_title_bow, x_te_res_summary_bow, x_te_subjects_ohe, x_te_subject_subcat_ohe.shape, x_te_school_state_ohe.shape, x_te_teacher_prefix_ohe.shape, x_te_grade_ohe, x_te_price_norm, x_te_quantity_norm, x_te_prev_projects_norm, x_te_essay_word_count_norm, x_te_title_word_count_norm)).tocsr()\n",
    "\n",
    "print(\"Final Data matrix\")\n",
    "print(X_tr_bow.shape, y_tr.shape)\n",
    "print(X_te_bow.shape, y_te.shape)"
   ]
  },
  {
   "cell_type": "markdown",
   "metadata": {},
   "source": [
    "# Stacking of vectors (tf-idf Featurization of text features)\n"
   ]
  },
  {
   "cell_type": "code",
   "execution_count": 31,
   "metadata": {},
   "outputs": [
    {
     "name": "stdout",
     "output_type": "stream",
     "text": [
      "Final Data matrix\n",
      "(33500, 115050) (33500,)\n",
      "(16500, 115050) (16500,)\n"
     ]
    }
   ],
   "source": [
    "# merge two sparse matrices: https://stackoverflow.com/a/19710648/4084039\n",
    "from scipy.sparse import hstack\n",
    "X_tr_tfidf = hstack((x_tr_essay_tfidf, x_tr_title_tfidf, x_tr_res_summary_tfidf, x_tr_subjects_ohe, x_tr_subject_subcat_ohe.shape, x_tr_school_state_ohe.shape, x_tr_teacher_prefix_ohe.shape, x_tr_grade_ohe, x_tr_price_norm, x_tr_quantity_norm, x_tr_prev_projects_norm, x_tr_essay_word_count_norm, x_tr_title_word_count_norm)).tocsr()\n",
    "X_te_tfidf = hstack((x_te_essay_tfidf, x_te_title_tfidf, x_te_res_summary_tfidf, x_te_subjects_ohe, x_te_subject_subcat_ohe.shape, x_te_school_state_ohe.shape, x_te_teacher_prefix_ohe.shape, x_te_grade_ohe, x_te_price_norm, x_te_quantity_norm, x_te_prev_projects_norm, x_te_essay_word_count_norm, x_te_title_word_count_norm)).tocsr()\n",
    "\n",
    "print(\"Final Data matrix\")\n",
    "print(X_tr_tfidf.shape, y_tr.shape)\n",
    "print(X_te_tfidf.shape, y_te.shape)"
   ]
  },
  {
   "cell_type": "markdown",
   "metadata": {},
   "source": [
    "# KNN (BoW Featurization of text features)"
   ]
  },
  {
   "cell_type": "code",
   "execution_count": 18,
   "metadata": {},
   "outputs": [],
   "source": [
    "def batch_predict(clf, data):\n",
    "    y_data_pred = []\n",
    "    tr_loop = data.shape[0] - data.shape[0]%1000\n",
    "    for i in range(0, tr_loop, 1000):\n",
    "        y_data_pred.extend(clf.predict_proba(data[i:i+1000])[:,1])\n",
    "    if data.shape[0]%1000 !=0:\n",
    "        y_data_pred.extend(clf.predict_proba(data[tr_loop:])[:,1])\n",
    "    return y_data_pred"
   ]
  },
  {
   "cell_type": "code",
   "execution_count": 23,
   "metadata": {},
   "outputs": [
    {
     "data": {
      "image/png": "[encoded data removed]",
      "text/plain": [
       "<Figure size 432x288 with 1 Axes>"
      ]
     },
     "metadata": {},
     "output_type": "display_data"
    },
    {
     "data": {
      "text/html": [
       "<div>\n",
       "<style scoped>\n",
       "    .dataframe tbody tr th:only-of-type {\n",
       "        vertical-align: middle;\n",
       "    }\n",
       "\n",
       "    .dataframe tbody tr th {\n",
       "        vertical-align: top;\n",
       "    }\n",
       "\n",
       "    .dataframe thead th {\n",
       "        text-align: right;\n",
       "    }\n",
       "</style>\n",
       "<table border=\"1\" class=\"dataframe\">\n",
       "  <thead>\n",
       "    <tr style=\"text-align: right;\">\n",
       "      <th></th>\n",
       "      <th>mean_fit_time</th>\n",
       "      <th>std_fit_time</th>\n",
       "      <th>mean_score_time</th>\n",
       "      <th>std_score_time</th>\n",
       "      <th>param_n_neighbors</th>\n",
       "      <th>params</th>\n",
       "      <th>split0_test_score</th>\n",
       "      <th>split1_test_score</th>\n",
       "      <th>split2_test_score</th>\n",
       "      <th>mean_test_score</th>\n",
       "      <th>std_test_score</th>\n",
       "      <th>rank_test_score</th>\n",
       "      <th>split0_train_score</th>\n",
       "      <th>split1_train_score</th>\n",
       "      <th>split2_train_score</th>\n",
       "      <th>mean_train_score</th>\n",
       "      <th>std_train_score</th>\n",
       "    </tr>\n",
       "  </thead>\n",
       "  <tbody>\n",
       "    <tr>\n",
       "      <th>0</th>\n",
       "      <td>0.327696</td>\n",
       "      <td>0.084550</td>\n",
       "      <td>26.331125</td>\n",
       "      <td>3.596393</td>\n",
       "      <td>3</td>\n",
       "      <td>{'n_neighbors': 3}</td>\n",
       "      <td>0.539057</td>\n",
       "      <td>0.527332</td>\n",
       "      <td>0.533869</td>\n",
       "      <td>0.533420</td>\n",
       "      <td>0.004798</td>\n",
       "      <td>5</td>\n",
       "      <td>0.872292</td>\n",
       "      <td>0.875877</td>\n",
       "      <td>0.879026</td>\n",
       "      <td>0.875732</td>\n",
       "      <td>0.002751</td>\n",
       "    </tr>\n",
       "    <tr>\n",
       "      <th>1</th>\n",
       "      <td>0.321088</td>\n",
       "      <td>0.039302</td>\n",
       "      <td>24.986495</td>\n",
       "      <td>2.776121</td>\n",
       "      <td>15</td>\n",
       "      <td>{'n_neighbors': 15}</td>\n",
       "      <td>0.555391</td>\n",
       "      <td>0.546260</td>\n",
       "      <td>0.558469</td>\n",
       "      <td>0.553373</td>\n",
       "      <td>0.005184</td>\n",
       "      <td>4</td>\n",
       "      <td>0.723146</td>\n",
       "      <td>0.721766</td>\n",
       "      <td>0.711621</td>\n",
       "      <td>0.718844</td>\n",
       "      <td>0.005138</td>\n",
       "    </tr>\n",
       "    <tr>\n",
       "      <th>2</th>\n",
       "      <td>0.432071</td>\n",
       "      <td>0.166391</td>\n",
       "      <td>31.308788</td>\n",
       "      <td>7.407355</td>\n",
       "      <td>25</td>\n",
       "      <td>{'n_neighbors': 25}</td>\n",
       "      <td>0.559127</td>\n",
       "      <td>0.555911</td>\n",
       "      <td>0.562071</td>\n",
       "      <td>0.559036</td>\n",
       "      <td>0.002516</td>\n",
       "      <td>3</td>\n",
       "      <td>0.690578</td>\n",
       "      <td>0.688877</td>\n",
       "      <td>0.682206</td>\n",
       "      <td>0.687220</td>\n",
       "      <td>0.003613</td>\n",
       "    </tr>\n",
       "    <tr>\n",
       "      <th>3</th>\n",
       "      <td>0.547584</td>\n",
       "      <td>0.026099</td>\n",
       "      <td>32.281013</td>\n",
       "      <td>4.302299</td>\n",
       "      <td>51</td>\n",
       "      <td>{'n_neighbors': 51}</td>\n",
       "      <td>0.572604</td>\n",
       "      <td>0.567623</td>\n",
       "      <td>0.575509</td>\n",
       "      <td>0.571912</td>\n",
       "      <td>0.003256</td>\n",
       "      <td>2</td>\n",
       "      <td>0.659611</td>\n",
       "      <td>0.660998</td>\n",
       "      <td>0.651902</td>\n",
       "      <td>0.657504</td>\n",
       "      <td>0.004001</td>\n",
       "    </tr>\n",
       "    <tr>\n",
       "      <th>4</th>\n",
       "      <td>0.510614</td>\n",
       "      <td>0.016474</td>\n",
       "      <td>39.386039</td>\n",
       "      <td>0.511138</td>\n",
       "      <td>101</td>\n",
       "      <td>{'n_neighbors': 101}</td>\n",
       "      <td>0.587962</td>\n",
       "      <td>0.590593</td>\n",
       "      <td>0.583592</td>\n",
       "      <td>0.587382</td>\n",
       "      <td>0.002887</td>\n",
       "      <td>1</td>\n",
       "      <td>0.643250</td>\n",
       "      <td>0.644475</td>\n",
       "      <td>0.638816</td>\n",
       "      <td>0.642180</td>\n",
       "      <td>0.002431</td>\n",
       "    </tr>\n",
       "  </tbody>\n",
       "</table>\n",
       "</div>"
      ],
      "text/plain": [
       "   mean_fit_time  std_fit_time  mean_score_time  std_score_time  \\\n",
       "0       0.327696      0.084550        26.331125        3.596393   \n",
       "1       0.321088      0.039302        24.986495        2.776121   \n",
       "2       0.432071      0.166391        31.308788        7.407355   \n",
       "3       0.547584      0.026099        32.281013        4.302299   \n",
       "4       0.510614      0.016474        39.386039        0.511138   \n",
       "\n",
       "  param_n_neighbors                params  split0_test_score  \\\n",
       "0                 3    {'n_neighbors': 3}           0.539057   \n",
       "1                15   {'n_neighbors': 15}           0.555391   \n",
       "2                25   {'n_neighbors': 25}           0.559127   \n",
       "3                51   {'n_neighbors': 51}           0.572604   \n",
       "4               101  {'n_neighbors': 101}           0.587962   \n",
       "\n",
       "   split1_test_score  split2_test_score  mean_test_score  std_test_score  \\\n",
       "0           0.527332           0.533869         0.533420        0.004798   \n",
       "1           0.546260           0.558469         0.553373        0.005184   \n",
       "2           0.555911           0.562071         0.559036        0.002516   \n",
       "3           0.567623           0.575509         0.571912        0.003256   \n",
       "4           0.590593           0.583592         0.587382        0.002887   \n",
       "\n",
       "   rank_test_score  split0_train_score  split1_train_score  \\\n",
       "0                5            0.872292            0.875877   \n",
       "1                4            0.723146            0.721766   \n",
       "2                3            0.690578            0.688877   \n",
       "3                2            0.659611            0.660998   \n",
       "4                1            0.643250            0.644475   \n",
       "\n",
       "   split2_train_score  mean_train_score  std_train_score  \n",
       "0            0.879026          0.875732         0.002751  \n",
       "1            0.711621          0.718844         0.005138  \n",
       "2            0.682206          0.687220         0.003613  \n",
       "3            0.651902          0.657504         0.004001  \n",
       "4            0.638816          0.642180         0.002431  "
      ]
     },
     "execution_count": 23,
     "metadata": {},
     "output_type": "execute_result"
    }
   ],
   "source": [
    "neigh = KNeighborsClassifier(n_jobs=-1)\n",
    "parameters = {'n_neighbors':[3, 15, 25, 51, 101]}\n",
    "clf = GridSearchCV(neigh, parameters, cv=3, scoring='roc_auc')\n",
    "clf.fit(X_tr_bow, y_tr)\n",
    "\n",
    "results = pd.DataFrame.from_dict(clf.cv_results_)\n",
    "results = results.sort_values(['param_n_neighbors'])\n",
    "\n",
    "train_auc= results['mean_train_score']\n",
    "cv_auc = results['mean_test_score'] \n",
    "K =  results['param_n_neighbors']\n",
    "\n",
    "plt.plot(K, train_auc, label='Train AUC')\n",
    "plt.plot(K, cv_auc, label='CV AUC')\n",
    "plt.scatter(K, train_auc, label='Train AUC points')\n",
    "plt.scatter(K, cv_auc, label='CV AUC points')\n",
    "plt.legend()\n",
    "plt.xlabel(\"K\")\n",
    "plt.ylabel(\"AUC\")\n",
    "plt.title(\"K Vs AUC\")\n",
    "plt.grid()\n",
    "plt.show()\n",
    "results.head()"
   ]
  },
  {
   "cell_type": "code",
   "execution_count": 24,
   "metadata": {},
   "outputs": [
    {
     "data": {
      "image/png": "[encoded data removed]",
      "text/plain": [
       "<Figure size 432x288 with 1 Axes>"
      ]
     },
     "metadata": {},
     "output_type": "display_data"
    }
   ],
   "source": [
    "neigh = KNeighborsClassifier(n_neighbors=101, n_jobs=-1)\n",
    "neigh.fit(X_tr_bow, y_tr)\n",
    "\n",
    "y_tr_pred = batch_predict(neigh, X_tr_bow)    \n",
    "y_te_pred = batch_predict(neigh, X_te_bow)\n",
    "\n",
    "train_fpr, train_tpr, tr_thresholds = roc_curve(y_tr, y_tr_pred)\n",
    "test_fpr, test_tpr, te_thresholds = roc_curve(y_te, y_te_pred)\n",
    "\n",
    "plt.plot(train_fpr, train_tpr, label=\"train AUC =\"+str(auc(train_fpr, train_tpr)))\n",
    "plt.plot(test_fpr, test_tpr, label=\"test AUC =\"+str(auc(test_fpr, test_tpr)))\n",
    "plt.legend()\n",
    "plt.xlabel(\"FPR\")\n",
    "plt.ylabel(\"TPR\")\n",
    "plt.title(\"ROC Curve\")\n",
    "plt.grid()\n",
    "plt.show()"
   ]
  },
  {
   "cell_type": "code",
   "execution_count": 27,
   "metadata": {},
   "outputs": [],
   "source": [
    "def best_threshold(threshold, fpr, tpr):\n",
    "    t = threshold[np.argmax(tpr*(1-fpr))]\n",
    "    print(\"best threshold:\", t)\n",
    "    print(50*\"=\")\n",
    "    return t\n",
    "\n",
    "def prediction(proba, threshold):\n",
    "    predictions = []\n",
    "    for i in proba:\n",
    "        if i>=threshold:\n",
    "            predictions.append(1)\n",
    "        else:\n",
    "            predictions.append(0)\n",
    "    return predictions"
   ]
  },
  {
   "cell_type": "code",
   "execution_count": 28,
   "metadata": {},
   "outputs": [
    {
     "name": "stdout",
     "output_type": "stream",
     "text": [
      "best threshold: 0.801980198019802\n",
      "==================================================\n",
      "Test Accuracy Score\n",
      "0.6083030303030303\n",
      "==================================================\n",
      "Test F1 Score\n",
      "0.7311228522694181\n"
     ]
    }
   ],
   "source": [
    "t = best_threshold(tr_thresholds, train_fpr, train_tpr)\n",
    "\n",
    "print(\"Test Accuracy Score\")\n",
    "print(accuracy_score(y_te, prediction(y_te_pred, t)))\n",
    "print(50*\"=\")\n",
    "\n",
    "print(\"Test F1 Score\")\n",
    "print(f1_score(y_te, prediction(y_te_pred, t)))"
   ]
  },
  {
   "cell_type": "markdown",
   "metadata": {},
   "source": [
    "# KNN (tf-idf Featurization of text features)"
   ]
  },
  {
   "cell_type": "code",
   "execution_count": 32,
   "metadata": {},
   "outputs": [
    {
     "data": {
      "image/png": "[encoded data removed]",
      "text/plain": [
       "<Figure size 432x288 with 1 Axes>"
      ]
     },
     "metadata": {},
     "output_type": "display_data"
    }
   ],
   "source": [
    "neigh = KNeighborsClassifier(n_jobs=-1)\n",
    "parameters = {'n_neighbors':[3, 15, 25, 51, 101]}\n",
    "clf = GridSearchCV(neigh, parameters, cv=3, scoring='roc_auc')\n",
    "clf.fit(X_tr_tfidf, y_tr)\n",
    "\n",
    "results = pd.DataFrame.from_dict(clf.cv_results_)\n",
    "results = results.sort_values(['param_n_neighbors'])\n",
    "\n",
    "train_auc= results['mean_train_score']\n",
    "cv_auc = results['mean_test_score'] \n",
    "K =  results['param_n_neighbors']\n",
    "\n",
    "plt.plot(K, train_auc, label='Train AUC')\n",
    "plt.plot(K, cv_auc, label='CV AUC')\n",
    "plt.scatter(K, train_auc, label='Train AUC points')\n",
    "plt.scatter(K, cv_auc, label='CV AUC points')\n",
    "plt.legend()\n",
    "plt.xlabel(\"K\")\n",
    "plt.ylabel(\"AUC\")\n",
    "plt.title(\"K Vs AUC\")\n",
    "plt.grid()\n",
    "plt.show()\n",
    "results.head()"
   ]
  },
  {
   "cell_type": "code",
   "execution_count": 33,
   "metadata": {},
   "outputs": [
    {
     "data": {
      "image/png": "[encoded data removed]",
      "text/plain": [
       "<Figure size 432x288 with 1 Axes>"
      ]
     },
     "metadata": {},
     "output_type": "display_data"
    }
   ],
   "source": [
    "neigh = KNeighborsClassifier(n_neighbors=101, n_jobs=-1)\n",
    "neigh.fit(X_tr_tfidf, y_tr)\n",
    "\n",
    "y_tr_pred = batch_predict(neigh, X_tr_tfidf)    \n",
    "y_te_pred = batch_predict(neigh, X_te_tfidf)\n",
    "\n",
    "train_fpr, train_tpr, tr_thresholds = roc_curve(y_tr, y_tr_pred)\n",
    "test_fpr, test_tpr, te_thresholds = roc_curve(y_te, y_te_pred)\n",
    "\n",
    "plt.plot(train_fpr, train_tpr, label=\"train AUC =\"+str(auc(train_fpr, train_tpr)))\n",
    "plt.plot(test_fpr, test_tpr, label=\"test AUC =\"+str(auc(test_fpr, test_tpr)))\n",
    "plt.legend()\n",
    "plt.xlabel(\"FPR\")\n",
    "plt.ylabel(\"TPR\")\n",
    "plt.title(\"ROC Curve\")\n",
    "plt.grid()\n",
    "plt.show()"
   ]
  },
  {
   "cell_type": "code",
   "execution_count": 34,
   "metadata": {},
   "outputs": [
    {
     "name": "stdout",
     "output_type": "stream",
     "text": [
      "best threshold: 0.8514851485148515\n",
      "==================================================\n",
      "Test Accuracy Score\n",
      "0.612\n",
      "==================================================\n",
      "Test F1 Score\n",
      "0.7300784214520617\n"
     ]
    }
   ],
   "source": [
    "t = best_threshold(tr_thresholds, train_fpr, train_tpr)\n",
    "\n",
    "print(\"Test Accuracy Score\")\n",
    "print(accuracy_score(y_te, prediction(y_te_pred, t)))\n",
    "print(50*\"=\")\n",
    "\n",
    "print(\"Test F1 Score\")\n",
    "print(f1_score(y_te, prediction(y_te_pred, t)))"
   ]
  }
 ],
 "metadata": {
  "kernelspec": {
   "display_name": "Python 3",
   "language": "python",
   "name": "python3"
  },
  "language_info": {
   "codemirror_mode": {
    "name": "ipython",
    "version": 3
   },
   "file_extension": ".py",
   "mimetype": "text/x-python",
   "name": "python",
   "nbconvert_exporter": "python",
   "pygments_lexer": "ipython3",
   "version": "3.6.5"
  }
 },
 "nbformat": 4,
 "nbformat_minor": 2
}
