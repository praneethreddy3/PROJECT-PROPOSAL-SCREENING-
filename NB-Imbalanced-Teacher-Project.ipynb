{
 "cells": [
  {
   "cell_type": "code",
   "execution_count": 25,
   "metadata": {},
   "outputs": [],
   "source": [
    "%matplotlib inline\n",
    "import warnings\n",
    "warnings.filterwarnings(\"ignore\")\n",
    "\n",
    "import pandas as pd\n",
    "import numpy as np\n",
    "import nltk\n",
    "import matplotlib.pyplot as plt\n",
    "\n",
    "from sklearn.feature_extraction.text import TfidfVectorizer\n",
    "from sklearn.feature_extraction.text import CountVectorizer\n",
    "from sklearn.metrics import confusion_matrix\n",
    "from sklearn.metrics import confusion_matrix\n",
    "from sklearn.metrics import accuracy_score\n",
    "from sklearn.metrics import f1_score\n",
    "from sklearn.metrics import roc_auc_score\n",
    "from collections import Counter\n",
    "from sklearn.preprocessing import Normalizer"
   ]
  },
  {
   "cell_type": "code",
   "execution_count": 3,
   "metadata": {},
   "outputs": [],
   "source": [
    "preprocessed_data = pd.read_csv('data_preprocessed.csv')"
   ]
  },
  {
   "cell_type": "code",
   "execution_count": 5,
   "metadata": {},
   "outputs": [
    {
     "data": {
      "text/html": [
       "<div>\n",
       "<style scoped>\n",
       "    .dataframe tbody tr th:only-of-type {\n",
       "        vertical-align: middle;\n",
       "    }\n",
       "\n",
       "    .dataframe tbody tr th {\n",
       "        vertical-align: top;\n",
       "    }\n",
       "\n",
       "    .dataframe thead th {\n",
       "        text-align: right;\n",
       "    }\n",
       "</style>\n",
       "<table border=\"1\" class=\"dataframe\">\n",
       "  <thead>\n",
       "    <tr style=\"text-align: right;\">\n",
       "      <th></th>\n",
       "      <th>Unnamed: 0</th>\n",
       "      <th>teacher_id</th>\n",
       "      <th>teacher_prefix</th>\n",
       "      <th>school_state</th>\n",
       "      <th>project_grade_category</th>\n",
       "      <th>project_subject_categories</th>\n",
       "      <th>project_subject_subcategories</th>\n",
       "      <th>teacher_number_of_previously_posted_projects</th>\n",
       "      <th>project_is_approved</th>\n",
       "      <th>price</th>\n",
       "      <th>quantity</th>\n",
       "      <th>preprocessed_titles</th>\n",
       "      <th>preprocessed_essays</th>\n",
       "      <th>preprocessed_res_summary</th>\n",
       "      <th>project_year_month</th>\n",
       "    </tr>\n",
       "  </thead>\n",
       "  <tbody>\n",
       "    <tr>\n",
       "      <th>0</th>\n",
       "      <td>0</td>\n",
       "      <td>c90749f5d961ff158d4b4d1e7dc665fc</td>\n",
       "      <td>mrs</td>\n",
       "      <td>in</td>\n",
       "      <td>grades_prek_2</td>\n",
       "      <td>literacy_language</td>\n",
       "      <td>esl, literacy</td>\n",
       "      <td>0</td>\n",
       "      <td>0</td>\n",
       "      <td>154.6</td>\n",
       "      <td>23</td>\n",
       "      <td>educational support for english learners at home</td>\n",
       "      <td>my students are english learners that are work...</td>\n",
       "      <td>my students need opportunities to practice beg...</td>\n",
       "      <td>16-12</td>\n",
       "    </tr>\n",
       "  </tbody>\n",
       "</table>\n",
       "</div>"
      ],
      "text/plain": [
       "   Unnamed: 0                        teacher_id teacher_prefix school_state  \\\n",
       "0           0  c90749f5d961ff158d4b4d1e7dc665fc            mrs           in   \n",
       "\n",
       "  project_grade_category project_subject_categories  \\\n",
       "0          grades_prek_2          literacy_language   \n",
       "\n",
       "  project_subject_subcategories  teacher_number_of_previously_posted_projects  \\\n",
       "0                 esl, literacy                                             0   \n",
       "\n",
       "   project_is_approved  price  quantity  \\\n",
       "0                    0  154.6        23   \n",
       "\n",
       "                                preprocessed_titles  \\\n",
       "0  educational support for english learners at home   \n",
       "\n",
       "                                 preprocessed_essays  \\\n",
       "0  my students are english learners that are work...   \n",
       "\n",
       "                            preprocessed_res_summary project_year_month  \n",
       "0  my students need opportunities to practice beg...              16-12  "
      ]
     },
     "execution_count": 5,
     "metadata": {},
     "output_type": "execute_result"
    }
   ],
   "source": [
    "preprocessed_data.shape\n",
    "preprocessed_data.head(1)"
   ]
  },
  {
   "cell_type": "markdown",
   "metadata": {},
   "source": [
    "# Splitting data into X & Y"
   ]
  },
  {
   "cell_type": "code",
   "execution_count": 6,
   "metadata": {},
   "outputs": [
    {
     "data": {
      "text/html": [
       "<div>\n",
       "<style scoped>\n",
       "    .dataframe tbody tr th:only-of-type {\n",
       "        vertical-align: middle;\n",
       "    }\n",
       "\n",
       "    .dataframe tbody tr th {\n",
       "        vertical-align: top;\n",
       "    }\n",
       "\n",
       "    .dataframe thead th {\n",
       "        text-align: right;\n",
       "    }\n",
       "</style>\n",
       "<table border=\"1\" class=\"dataframe\">\n",
       "  <thead>\n",
       "    <tr style=\"text-align: right;\">\n",
       "      <th></th>\n",
       "      <th>Unnamed: 0</th>\n",
       "      <th>teacher_id</th>\n",
       "      <th>teacher_prefix</th>\n",
       "      <th>school_state</th>\n",
       "      <th>project_grade_category</th>\n",
       "      <th>project_subject_categories</th>\n",
       "      <th>project_subject_subcategories</th>\n",
       "      <th>teacher_number_of_previously_posted_projects</th>\n",
       "      <th>price</th>\n",
       "      <th>quantity</th>\n",
       "      <th>preprocessed_titles</th>\n",
       "      <th>preprocessed_essays</th>\n",
       "      <th>preprocessed_res_summary</th>\n",
       "      <th>project_year_month</th>\n",
       "    </tr>\n",
       "  </thead>\n",
       "  <tbody>\n",
       "    <tr>\n",
       "      <th>0</th>\n",
       "      <td>0</td>\n",
       "      <td>c90749f5d961ff158d4b4d1e7dc665fc</td>\n",
       "      <td>mrs</td>\n",
       "      <td>in</td>\n",
       "      <td>grades_prek_2</td>\n",
       "      <td>literacy_language</td>\n",
       "      <td>esl, literacy</td>\n",
       "      <td>0</td>\n",
       "      <td>154.6</td>\n",
       "      <td>23</td>\n",
       "      <td>educational support for english learners at home</td>\n",
       "      <td>my students are english learners that are work...</td>\n",
       "      <td>my students need opportunities to practice beg...</td>\n",
       "      <td>16-12</td>\n",
       "    </tr>\n",
       "  </tbody>\n",
       "</table>\n",
       "</div>"
      ],
      "text/plain": [
       "   Unnamed: 0                        teacher_id teacher_prefix school_state  \\\n",
       "0           0  c90749f5d961ff158d4b4d1e7dc665fc            mrs           in   \n",
       "\n",
       "  project_grade_category project_subject_categories  \\\n",
       "0          grades_prek_2          literacy_language   \n",
       "\n",
       "  project_subject_subcategories  teacher_number_of_previously_posted_projects  \\\n",
       "0                 esl, literacy                                             0   \n",
       "\n",
       "   price  quantity                               preprocessed_titles  \\\n",
       "0  154.6        23  educational support for english learners at home   \n",
       "\n",
       "                                 preprocessed_essays  \\\n",
       "0  my students are english learners that are work...   \n",
       "\n",
       "                            preprocessed_res_summary project_year_month  \n",
       "0  my students need opportunities to practice beg...              16-12  "
      ]
     },
     "execution_count": 6,
     "metadata": {},
     "output_type": "execute_result"
    }
   ],
   "source": [
    "y = preprocessed_data['project_is_approved'].values\n",
    "x = preprocessed_data.drop(['project_is_approved'], axis=1)\n",
    "x.head(1)"
   ]
  },
  {
   "cell_type": "markdown",
   "metadata": {},
   "source": [
    "# Splitting data into Train & Test data (No need for sep. CV because we are doing N-fold Grid Search CV)"
   ]
  },
  {
   "cell_type": "code",
   "execution_count": 10,
   "metadata": {},
   "outputs": [
    {
     "name": "stdout",
     "output_type": "stream",
     "text": [
      "73196\n",
      "36052\n",
      "(73196, 14)\n",
      "(36052, 14)\n"
     ]
    }
   ],
   "source": [
    "from sklearn.model_selection import train_test_split\n",
    "x_tr, x_te, y_tr, y_te = train_test_split(x, y, test_size=0.33, stratify=y)\n",
    "print(y_tr.size)\n",
    "print(y_te.size)\n",
    "print(x_tr.shape)\n",
    "print(x_te.shape)"
   ]
  },
  {
   "cell_type": "markdown",
   "metadata": {},
   "source": [
    "# Vectorization - Essay, Project_title, Project Summary"
   ]
  },
  {
   "cell_type": "code",
   "execution_count": 11,
   "metadata": {},
   "outputs": [
    {
     "name": "stdout",
     "output_type": "stream",
     "text": [
      "(73196, 512981) (73196,)\n",
      "(36052, 512981) (36052,)\n"
     ]
    }
   ],
   "source": [
    "#Essays vectorization using BOW\n",
    "vectorizer = CountVectorizer(min_df=10,ngram_range=(1,4))\n",
    "vectorizer.fit(x_tr['preprocessed_essays'].values)\n",
    "\n",
    "x_tr_essay_bow = vectorizer.transform(x_tr['preprocessed_essays'].values)\n",
    "x_te_essay_bow = vectorizer.transform(x_te['preprocessed_essays'].values)\n",
    "\n",
    "print(x_tr_essay_bow.shape, y_tr.shape)\n",
    "print(x_te_essay_bow.shape, y_te.shape)"
   ]
  },
  {
   "cell_type": "code",
   "execution_count": 12,
   "metadata": {},
   "outputs": [
    {
     "name": "stdout",
     "output_type": "stream",
     "text": [
      "(73196, 14082) (73196,)\n",
      "(36052, 14082) (36052,)\n"
     ]
    }
   ],
   "source": [
    "#Titles vectorization using BOW\n",
    "vectorizer = CountVectorizer()\n",
    "vectorizer.fit(x_tr['preprocessed_titles'].values)\n",
    "\n",
    "x_tr_title_bow = vectorizer.transform(x_tr['preprocessed_titles'].values)\n",
    "x_te_title_bow = vectorizer.transform(x_te['preprocessed_titles'].values)\n",
    "\n",
    "print(x_tr_title_bow.shape, y_tr.shape)\n",
    "print(x_te_title_bow.shape, y_te.shape)"
   ]
  },
  {
   "cell_type": "code",
   "execution_count": 14,
   "metadata": {},
   "outputs": [
    {
     "name": "stdout",
     "output_type": "stream",
     "text": [
      "(73196, 18857) (73196,)\n",
      "(36052, 18857) (36052,)\n"
     ]
    }
   ],
   "source": [
    "#Resource Summaries vectorization using BOW\n",
    "vectorizer = CountVectorizer()\n",
    "vectorizer.fit(x_tr['preprocessed_res_summary'].values)\n",
    "\n",
    "x_tr_res_summary_bow = vectorizer.transform(x_tr['preprocessed_res_summary'].values)\n",
    "x_te_res_summary_bow = vectorizer.transform(x_te['preprocessed_res_summary'].values)\n",
    "\n",
    "print(x_tr_res_summary_bow.shape, y_tr.shape)\n",
    "print(x_te_res_summary_bow.shape, y_te.shape)"
   ]
  },
  {
   "cell_type": "code",
   "execution_count": 16,
   "metadata": {},
   "outputs": [
    {
     "name": "stdout",
     "output_type": "stream",
     "text": [
      "(73196, 11) (73196,)\n",
      "(36052, 11) (36052,)\n"
     ]
    }
   ],
   "source": [
    "#One hot encoding of project_subject_categories\n",
    "vectorizer = CountVectorizer()\n",
    "vectorizer.fit(x_tr['project_subject_categories'].values)\n",
    "\n",
    "x_tr_subjects_ohe = vectorizer.transform(x_tr['project_subject_categories'].values)\n",
    "x_te_subjects_ohe = vectorizer.transform(x_te['project_subject_categories'].values)\n",
    "\n",
    "print(x_tr_subjects_ohe.shape, y_tr.shape)\n",
    "print(x_te_subjects_ohe.shape, y_te.shape)"
   ]
  },
  {
   "cell_type": "code",
   "execution_count": 17,
   "metadata": {},
   "outputs": [
    {
     "name": "stdout",
     "output_type": "stream",
     "text": [
      "(73196, 29) (73196,)\n",
      "(36052, 29) (36052,)\n"
     ]
    }
   ],
   "source": [
    "#One hot encoding of project_subject_subcategories\n",
    "vectorizer = CountVectorizer()\n",
    "vectorizer.fit(x_tr['project_subject_subcategories'].values)\n",
    "\n",
    "x_tr_subject_subcat_ohe = vectorizer.transform(x_tr['project_subject_subcategories'].values)\n",
    "x_te_subject_subcat_ohe = vectorizer.transform(x_te['project_subject_subcategories'].values)\n",
    "\n",
    "print(x_tr_subject_subcat_ohe.shape, y_tr.shape)\n",
    "print(x_te_subject_subcat_ohe.shape, y_te.shape)"
   ]
  },
  {
   "cell_type": "markdown",
   "metadata": {},
   "source": [
    "\n",
    "# Vectorization of Categorical features"
   ]
  },
  {
   "cell_type": "code",
   "execution_count": 18,
   "metadata": {},
   "outputs": [
    {
     "name": "stdout",
     "output_type": "stream",
     "text": [
      "After vectorizations\n",
      "(73196, 52817) (73196,)\n",
      "(36052, 52817) (36052,)\n"
     ]
    }
   ],
   "source": [
    "#One hot encoding of Teacher ids\n",
    "vectorizer = CountVectorizer()\n",
    "vectorizer.fit(x_tr['teacher_id'].values)\n",
    "\n",
    "x_tr_teacher_id_ohe = vectorizer.transform(x_tr['teacher_id'].values)\n",
    "x_te_teacher_id_ohe = vectorizer.transform(x_te['teacher_id'].values)\n",
    "\n",
    "print(\"After vectorizations\")\n",
    "print(x_tr_teacher_id_ohe.shape, y_tr.shape)\n",
    "print(x_te_teacher_id_ohe.shape, y_te.shape)"
   ]
  },
  {
   "cell_type": "code",
   "execution_count": 22,
   "metadata": {},
   "outputs": [
    {
     "name": "stdout",
     "output_type": "stream",
     "text": [
      "(73196, 51) (73196,)\n",
      "(36052, 51) (36052,)\n"
     ]
    }
   ],
   "source": [
    "#One hot encoding of State codes\n",
    "vectorizer = CountVectorizer()\n",
    "vectorizer.fit(x_tr['school_state'].values)\n",
    "\n",
    "x_tr_state_ohe = vectorizer.transform(x_tr['school_state'].values)\n",
    "x_te_state_ohe = vectorizer.transform(x_te['school_state'].values)\n",
    "\n",
    "print(x_tr_state_ohe.shape, y_tr.shape)\n",
    "print(x_te_state_ohe.shape, y_te.shape)"
   ]
  },
  {
   "cell_type": "code",
   "execution_count": 21,
   "metadata": {},
   "outputs": [
    {
     "name": "stdout",
     "output_type": "stream",
     "text": [
      "(73196, 5) (73196,)\n",
      "(36052, 5) (36052,)\n"
     ]
    }
   ],
   "source": [
    "#One hot encoding of Teacher Prefixs\n",
    "vectorizer = CountVectorizer()\n",
    "vectorizer.fit(x_tr['teacher_prefix'].values)\n",
    "\n",
    "x_tr_tprefix_ohe = vectorizer.transform(x_tr['teacher_prefix'].values)\n",
    "x_te_tprefix_ohe = vectorizer.transform(x_te['teacher_prefix'].values)\n",
    "\n",
    "print(x_tr_tprefix_ohe.shape, y_tr.shape)\n",
    "print(x_te_tprefix_ohe.shape, y_te.shape)"
   ]
  },
  {
   "cell_type": "code",
   "execution_count": 23,
   "metadata": {},
   "outputs": [
    {
     "name": "stdout",
     "output_type": "stream",
     "text": [
      "(73196, 4) (73196,)\n",
      "(36052, 4) (36052,)\n"
     ]
    }
   ],
   "source": [
    "#One hot encoding of Grade categories\n",
    "vectorizer = CountVectorizer()\n",
    "vectorizer.fit(x_tr['project_grade_category'].values) # fit has to happen only on train data\n",
    "\n",
    "x_tr_grade_ohe = vectorizer.transform(x_tr['project_grade_category'].values)\n",
    "x_te_grade_ohe = vectorizer.transform(x_te['project_grade_category'].values)\n",
    "\n",
    "print(x_tr_grade_ohe.shape, y_tr.shape)\n",
    "print(x_te_grade_ohe.shape, y_te.shape)"
   ]
  },
  {
   "cell_type": "markdown",
   "metadata": {},
   "source": [
    "# Normalization - Price, Quantity, Previous Projects, Word_counts"
   ]
  },
  {
   "cell_type": "code",
   "execution_count": 26,
   "metadata": {},
   "outputs": [
    {
     "name": "stdout",
     "output_type": "stream",
     "text": [
      "(73196, 1) (73196,)\n",
      "(36052, 1) (36052,)\n"
     ]
    }
   ],
   "source": [
    "#Normalization of Project Prices\n",
    "normalizer = Normalizer()\n",
    "normalizer.fit(x_tr['price'].values.reshape(-1,1))\n",
    "\n",
    "x_tr_price_norm = normalizer.transform(x_tr['price'].values.reshape(-1,1))\n",
    "x_te_price_norm = normalizer.transform(x_te['price'].values.reshape(-1,1))\n",
    "\n",
    "print(x_tr_price_norm.shape, y_tr.shape)\n",
    "print(x_te_price_norm.shape, y_te.shape)"
   ]
  },
  {
   "cell_type": "code",
   "execution_count": 27,
   "metadata": {},
   "outputs": [
    {
     "name": "stdout",
     "output_type": "stream",
     "text": [
      "(73196, 1) (73196,)\n",
      "(36052, 1) (36052,)\n"
     ]
    }
   ],
   "source": [
    "#Normalization of Resource Quantities\n",
    "normalizer = Normalizer()\n",
    "normalizer.fit(x_tr['quantity'].values.reshape(-1,1))\n",
    "\n",
    "x_tr_quantity_norm = normalizer.transform(x_tr['quantity'].values.reshape(-1,1))\n",
    "x_te_quantity_norm = normalizer.transform(x_te['quantity'].values.reshape(-1,1))\n",
    "\n",
    "print(x_tr_quantity_norm.shape, y_tr.shape)\n",
    "print(x_te_quantity_norm.shape, y_te.shape)"
   ]
  },
  {
   "cell_type": "code",
   "execution_count": 28,
   "metadata": {},
   "outputs": [
    {
     "name": "stdout",
     "output_type": "stream",
     "text": [
      "(73196, 1) (73196,)\n",
      "(36052, 1) (36052,)\n"
     ]
    }
   ],
   "source": [
    "normalizer = Normalizer()\n",
    "normalizer.fit(x_tr['teacher_number_of_previously_posted_projects'].values.reshape(-1,1))\n",
    "\n",
    "x_tr_prev_projects_norm = normalizer.transform(x_tr['teacher_number_of_previously_posted_projects'].values.reshape(-1,1))\n",
    "x_te_prev_projects_norm = normalizer.transform(x_te['teacher_number_of_previously_posted_projects'].values.reshape(-1,1))\n",
    "\n",
    "print(x_tr_prev_projects_norm.shape, y_tr.shape)\n",
    "print(x_te_prev_projects_norm.shape, y_te.shape)"
   ]
  },
  {
   "cell_type": "code",
   "execution_count": 29,
   "metadata": {},
   "outputs": [
    {
     "ename": "KeyError",
     "evalue": "'essay_word_count'",
     "output_type": "error",
     "traceback": [
      "\u001b[1;31m---------------------------------------------------------------------------\u001b[0m",
      "\u001b[1;31mKeyError\u001b[0m                                  Traceback (most recent call last)",
      "\u001b[1;32m~\\Anaconda3\\lib\\site-packages\\pandas\\core\\indexes\\base.py\u001b[0m in \u001b[0;36mget_loc\u001b[1;34m(self, key, method, tolerance)\u001b[0m\n\u001b[0;32m   3062\u001b[0m             \u001b[1;32mtry\u001b[0m\u001b[1;33m:\u001b[0m\u001b[1;33m\u001b[0m\u001b[0m\n\u001b[1;32m-> 3063\u001b[1;33m                 \u001b[1;32mreturn\u001b[0m \u001b[0mself\u001b[0m\u001b[1;33m.\u001b[0m\u001b[0m_engine\u001b[0m\u001b[1;33m.\u001b[0m\u001b[0mget_loc\u001b[0m\u001b[1;33m(\u001b[0m\u001b[0mkey\u001b[0m\u001b[1;33m)\u001b[0m\u001b[1;33m\u001b[0m\u001b[0m\n\u001b[0m\u001b[0;32m   3064\u001b[0m             \u001b[1;32mexcept\u001b[0m \u001b[0mKeyError\u001b[0m\u001b[1;33m:\u001b[0m\u001b[1;33m\u001b[0m\u001b[0m\n",
      "\u001b[1;32mpandas\\_libs\\index.pyx\u001b[0m in \u001b[0;36mpandas._libs.index.IndexEngine.get_loc\u001b[1;34m()\u001b[0m\n",
      "\u001b[1;32mpandas\\_libs\\index.pyx\u001b[0m in \u001b[0;36mpandas._libs.index.IndexEngine.get_loc\u001b[1;34m()\u001b[0m\n",
      "\u001b[1;32mpandas\\_libs\\hashtable_class_helper.pxi\u001b[0m in \u001b[0;36mpandas._libs.hashtable.PyObjectHashTable.get_item\u001b[1;34m()\u001b[0m\n",
      "\u001b[1;32mpandas\\_libs\\hashtable_class_helper.pxi\u001b[0m in \u001b[0;36mpandas._libs.hashtable.PyObjectHashTable.get_item\u001b[1;34m()\u001b[0m\n",
      "\u001b[1;31mKeyError\u001b[0m: 'essay_word_count'",
      "\nDuring handling of the above exception, another exception occurred:\n",
      "\u001b[1;31mKeyError\u001b[0m                                  Traceback (most recent call last)",
      "\u001b[1;32m<ipython-input-29-cbc93999d766>\u001b[0m in \u001b[0;36m<module>\u001b[1;34m()\u001b[0m\n\u001b[0;32m      1\u001b[0m \u001b[0mnormalizer\u001b[0m \u001b[1;33m=\u001b[0m \u001b[0mNormalizer\u001b[0m\u001b[1;33m(\u001b[0m\u001b[1;33m)\u001b[0m\u001b[1;33m\u001b[0m\u001b[0m\n\u001b[1;32m----> 2\u001b[1;33m \u001b[0mnormalizer\u001b[0m\u001b[1;33m.\u001b[0m\u001b[0mfit\u001b[0m\u001b[1;33m(\u001b[0m\u001b[0mx_tr\u001b[0m\u001b[1;33m[\u001b[0m\u001b[1;34m'essay_word_count'\u001b[0m\u001b[1;33m]\u001b[0m\u001b[1;33m.\u001b[0m\u001b[0mvalues\u001b[0m\u001b[1;33m.\u001b[0m\u001b[0mreshape\u001b[0m\u001b[1;33m(\u001b[0m\u001b[1;33m-\u001b[0m\u001b[1;36m1\u001b[0m\u001b[1;33m,\u001b[0m\u001b[1;36m1\u001b[0m\u001b[1;33m)\u001b[0m\u001b[1;33m)\u001b[0m\u001b[1;33m\u001b[0m\u001b[0m\n\u001b[0m\u001b[0;32m      3\u001b[0m \u001b[1;33m\u001b[0m\u001b[0m\n\u001b[0;32m      4\u001b[0m \u001b[0mx_tr_essay_word_count_norm\u001b[0m \u001b[1;33m=\u001b[0m \u001b[0mnormalizer\u001b[0m\u001b[1;33m.\u001b[0m\u001b[0mtransform\u001b[0m\u001b[1;33m(\u001b[0m\u001b[0mx_tr\u001b[0m\u001b[1;33m[\u001b[0m\u001b[1;34m'essay_word_count'\u001b[0m\u001b[1;33m]\u001b[0m\u001b[1;33m.\u001b[0m\u001b[0mvalues\u001b[0m\u001b[1;33m.\u001b[0m\u001b[0mreshape\u001b[0m\u001b[1;33m(\u001b[0m\u001b[1;33m-\u001b[0m\u001b[1;36m1\u001b[0m\u001b[1;33m,\u001b[0m\u001b[1;36m1\u001b[0m\u001b[1;33m)\u001b[0m\u001b[1;33m)\u001b[0m\u001b[1;33m\u001b[0m\u001b[0m\n\u001b[0;32m      5\u001b[0m \u001b[0mx_te_essay_word_count_norm\u001b[0m \u001b[1;33m=\u001b[0m \u001b[0mnormalizer\u001b[0m\u001b[1;33m.\u001b[0m\u001b[0mtransform\u001b[0m\u001b[1;33m(\u001b[0m\u001b[0mx_te\u001b[0m\u001b[1;33m[\u001b[0m\u001b[1;34m'essay_word_count'\u001b[0m\u001b[1;33m]\u001b[0m\u001b[1;33m.\u001b[0m\u001b[0mvalues\u001b[0m\u001b[1;33m.\u001b[0m\u001b[0mreshape\u001b[0m\u001b[1;33m(\u001b[0m\u001b[1;33m-\u001b[0m\u001b[1;36m1\u001b[0m\u001b[1;33m,\u001b[0m\u001b[1;36m1\u001b[0m\u001b[1;33m)\u001b[0m\u001b[1;33m)\u001b[0m\u001b[1;33m\u001b[0m\u001b[0m\n",
      "\u001b[1;32m~\\Anaconda3\\lib\\site-packages\\pandas\\core\\frame.py\u001b[0m in \u001b[0;36m__getitem__\u001b[1;34m(self, key)\u001b[0m\n\u001b[0;32m   2683\u001b[0m             \u001b[1;32mreturn\u001b[0m \u001b[0mself\u001b[0m\u001b[1;33m.\u001b[0m\u001b[0m_getitem_multilevel\u001b[0m\u001b[1;33m(\u001b[0m\u001b[0mkey\u001b[0m\u001b[1;33m)\u001b[0m\u001b[1;33m\u001b[0m\u001b[0m\n\u001b[0;32m   2684\u001b[0m         \u001b[1;32melse\u001b[0m\u001b[1;33m:\u001b[0m\u001b[1;33m\u001b[0m\u001b[0m\n\u001b[1;32m-> 2685\u001b[1;33m             \u001b[1;32mreturn\u001b[0m \u001b[0mself\u001b[0m\u001b[1;33m.\u001b[0m\u001b[0m_getitem_column\u001b[0m\u001b[1;33m(\u001b[0m\u001b[0mkey\u001b[0m\u001b[1;33m)\u001b[0m\u001b[1;33m\u001b[0m\u001b[0m\n\u001b[0m\u001b[0;32m   2686\u001b[0m \u001b[1;33m\u001b[0m\u001b[0m\n\u001b[0;32m   2687\u001b[0m     \u001b[1;32mdef\u001b[0m \u001b[0m_getitem_column\u001b[0m\u001b[1;33m(\u001b[0m\u001b[0mself\u001b[0m\u001b[1;33m,\u001b[0m \u001b[0mkey\u001b[0m\u001b[1;33m)\u001b[0m\u001b[1;33m:\u001b[0m\u001b[1;33m\u001b[0m\u001b[0m\n",
      "\u001b[1;32m~\\Anaconda3\\lib\\site-packages\\pandas\\core\\frame.py\u001b[0m in \u001b[0;36m_getitem_column\u001b[1;34m(self, key)\u001b[0m\n\u001b[0;32m   2690\u001b[0m         \u001b[1;31m# get column\u001b[0m\u001b[1;33m\u001b[0m\u001b[1;33m\u001b[0m\u001b[0m\n\u001b[0;32m   2691\u001b[0m         \u001b[1;32mif\u001b[0m \u001b[0mself\u001b[0m\u001b[1;33m.\u001b[0m\u001b[0mcolumns\u001b[0m\u001b[1;33m.\u001b[0m\u001b[0mis_unique\u001b[0m\u001b[1;33m:\u001b[0m\u001b[1;33m\u001b[0m\u001b[0m\n\u001b[1;32m-> 2692\u001b[1;33m             \u001b[1;32mreturn\u001b[0m \u001b[0mself\u001b[0m\u001b[1;33m.\u001b[0m\u001b[0m_get_item_cache\u001b[0m\u001b[1;33m(\u001b[0m\u001b[0mkey\u001b[0m\u001b[1;33m)\u001b[0m\u001b[1;33m\u001b[0m\u001b[0m\n\u001b[0m\u001b[0;32m   2693\u001b[0m \u001b[1;33m\u001b[0m\u001b[0m\n\u001b[0;32m   2694\u001b[0m         \u001b[1;31m# duplicate columns & possible reduce dimensionality\u001b[0m\u001b[1;33m\u001b[0m\u001b[1;33m\u001b[0m\u001b[0m\n",
      "\u001b[1;32m~\\Anaconda3\\lib\\site-packages\\pandas\\core\\generic.py\u001b[0m in \u001b[0;36m_get_item_cache\u001b[1;34m(self, item)\u001b[0m\n\u001b[0;32m   2484\u001b[0m         \u001b[0mres\u001b[0m \u001b[1;33m=\u001b[0m \u001b[0mcache\u001b[0m\u001b[1;33m.\u001b[0m\u001b[0mget\u001b[0m\u001b[1;33m(\u001b[0m\u001b[0mitem\u001b[0m\u001b[1;33m)\u001b[0m\u001b[1;33m\u001b[0m\u001b[0m\n\u001b[0;32m   2485\u001b[0m         \u001b[1;32mif\u001b[0m \u001b[0mres\u001b[0m \u001b[1;32mis\u001b[0m \u001b[1;32mNone\u001b[0m\u001b[1;33m:\u001b[0m\u001b[1;33m\u001b[0m\u001b[0m\n\u001b[1;32m-> 2486\u001b[1;33m             \u001b[0mvalues\u001b[0m \u001b[1;33m=\u001b[0m \u001b[0mself\u001b[0m\u001b[1;33m.\u001b[0m\u001b[0m_data\u001b[0m\u001b[1;33m.\u001b[0m\u001b[0mget\u001b[0m\u001b[1;33m(\u001b[0m\u001b[0mitem\u001b[0m\u001b[1;33m)\u001b[0m\u001b[1;33m\u001b[0m\u001b[0m\n\u001b[0m\u001b[0;32m   2487\u001b[0m             \u001b[0mres\u001b[0m \u001b[1;33m=\u001b[0m \u001b[0mself\u001b[0m\u001b[1;33m.\u001b[0m\u001b[0m_box_item_values\u001b[0m\u001b[1;33m(\u001b[0m\u001b[0mitem\u001b[0m\u001b[1;33m,\u001b[0m \u001b[0mvalues\u001b[0m\u001b[1;33m)\u001b[0m\u001b[1;33m\u001b[0m\u001b[0m\n\u001b[0;32m   2488\u001b[0m             \u001b[0mcache\u001b[0m\u001b[1;33m[\u001b[0m\u001b[0mitem\u001b[0m\u001b[1;33m]\u001b[0m \u001b[1;33m=\u001b[0m \u001b[0mres\u001b[0m\u001b[1;33m\u001b[0m\u001b[0m\n",
      "\u001b[1;32m~\\Anaconda3\\lib\\site-packages\\pandas\\core\\internals.py\u001b[0m in \u001b[0;36mget\u001b[1;34m(self, item, fastpath)\u001b[0m\n\u001b[0;32m   4113\u001b[0m \u001b[1;33m\u001b[0m\u001b[0m\n\u001b[0;32m   4114\u001b[0m             \u001b[1;32mif\u001b[0m \u001b[1;32mnot\u001b[0m \u001b[0misna\u001b[0m\u001b[1;33m(\u001b[0m\u001b[0mitem\u001b[0m\u001b[1;33m)\u001b[0m\u001b[1;33m:\u001b[0m\u001b[1;33m\u001b[0m\u001b[0m\n\u001b[1;32m-> 4115\u001b[1;33m                 \u001b[0mloc\u001b[0m \u001b[1;33m=\u001b[0m \u001b[0mself\u001b[0m\u001b[1;33m.\u001b[0m\u001b[0mitems\u001b[0m\u001b[1;33m.\u001b[0m\u001b[0mget_loc\u001b[0m\u001b[1;33m(\u001b[0m\u001b[0mitem\u001b[0m\u001b[1;33m)\u001b[0m\u001b[1;33m\u001b[0m\u001b[0m\n\u001b[0m\u001b[0;32m   4116\u001b[0m             \u001b[1;32melse\u001b[0m\u001b[1;33m:\u001b[0m\u001b[1;33m\u001b[0m\u001b[0m\n\u001b[0;32m   4117\u001b[0m                 \u001b[0mindexer\u001b[0m \u001b[1;33m=\u001b[0m \u001b[0mnp\u001b[0m\u001b[1;33m.\u001b[0m\u001b[0marange\u001b[0m\u001b[1;33m(\u001b[0m\u001b[0mlen\u001b[0m\u001b[1;33m(\u001b[0m\u001b[0mself\u001b[0m\u001b[1;33m.\u001b[0m\u001b[0mitems\u001b[0m\u001b[1;33m)\u001b[0m\u001b[1;33m)\u001b[0m\u001b[1;33m[\u001b[0m\u001b[0misna\u001b[0m\u001b[1;33m(\u001b[0m\u001b[0mself\u001b[0m\u001b[1;33m.\u001b[0m\u001b[0mitems\u001b[0m\u001b[1;33m)\u001b[0m\u001b[1;33m]\u001b[0m\u001b[1;33m\u001b[0m\u001b[0m\n",
      "\u001b[1;32m~\\Anaconda3\\lib\\site-packages\\pandas\\core\\indexes\\base.py\u001b[0m in \u001b[0;36mget_loc\u001b[1;34m(self, key, method, tolerance)\u001b[0m\n\u001b[0;32m   3063\u001b[0m                 \u001b[1;32mreturn\u001b[0m \u001b[0mself\u001b[0m\u001b[1;33m.\u001b[0m\u001b[0m_engine\u001b[0m\u001b[1;33m.\u001b[0m\u001b[0mget_loc\u001b[0m\u001b[1;33m(\u001b[0m\u001b[0mkey\u001b[0m\u001b[1;33m)\u001b[0m\u001b[1;33m\u001b[0m\u001b[0m\n\u001b[0;32m   3064\u001b[0m             \u001b[1;32mexcept\u001b[0m \u001b[0mKeyError\u001b[0m\u001b[1;33m:\u001b[0m\u001b[1;33m\u001b[0m\u001b[0m\n\u001b[1;32m-> 3065\u001b[1;33m                 \u001b[1;32mreturn\u001b[0m \u001b[0mself\u001b[0m\u001b[1;33m.\u001b[0m\u001b[0m_engine\u001b[0m\u001b[1;33m.\u001b[0m\u001b[0mget_loc\u001b[0m\u001b[1;33m(\u001b[0m\u001b[0mself\u001b[0m\u001b[1;33m.\u001b[0m\u001b[0m_maybe_cast_indexer\u001b[0m\u001b[1;33m(\u001b[0m\u001b[0mkey\u001b[0m\u001b[1;33m)\u001b[0m\u001b[1;33m)\u001b[0m\u001b[1;33m\u001b[0m\u001b[0m\n\u001b[0m\u001b[0;32m   3066\u001b[0m \u001b[1;33m\u001b[0m\u001b[0m\n\u001b[0;32m   3067\u001b[0m         \u001b[0mindexer\u001b[0m \u001b[1;33m=\u001b[0m \u001b[0mself\u001b[0m\u001b[1;33m.\u001b[0m\u001b[0mget_indexer\u001b[0m\u001b[1;33m(\u001b[0m\u001b[1;33m[\u001b[0m\u001b[0mkey\u001b[0m\u001b[1;33m]\u001b[0m\u001b[1;33m,\u001b[0m \u001b[0mmethod\u001b[0m\u001b[1;33m=\u001b[0m\u001b[0mmethod\u001b[0m\u001b[1;33m,\u001b[0m \u001b[0mtolerance\u001b[0m\u001b[1;33m=\u001b[0m\u001b[0mtolerance\u001b[0m\u001b[1;33m)\u001b[0m\u001b[1;33m\u001b[0m\u001b[0m\n",
      "\u001b[1;32mpandas\\_libs\\index.pyx\u001b[0m in \u001b[0;36mpandas._libs.index.IndexEngine.get_loc\u001b[1;34m()\u001b[0m\n",
      "\u001b[1;32mpandas\\_libs\\index.pyx\u001b[0m in \u001b[0;36mpandas._libs.index.IndexEngine.get_loc\u001b[1;34m()\u001b[0m\n",
      "\u001b[1;32mpandas\\_libs\\hashtable_class_helper.pxi\u001b[0m in \u001b[0;36mpandas._libs.hashtable.PyObjectHashTable.get_item\u001b[1;34m()\u001b[0m\n",
      "\u001b[1;32mpandas\\_libs\\hashtable_class_helper.pxi\u001b[0m in \u001b[0;36mpandas._libs.hashtable.PyObjectHashTable.get_item\u001b[1;34m()\u001b[0m\n",
      "\u001b[1;31mKeyError\u001b[0m: 'essay_word_count'"
     ]
    }
   ],
   "source": [
    "normalizer = Normalizer()\n",
    "normalizer.fit(x_tr['essay_word_count'].values.reshape(-1,1))\n",
    "\n",
    "x_tr_essay_word_count_norm = normalizer.transform(x_tr['essay_word_count'].values.reshape(-1,1))\n",
    "x_te_essay_word_count_norm = normalizer.transform(x_te['essay_word_count'].values.reshape(-1,1))\n",
    "\n",
    "print(x_tr_essay_word_count_norm.shape, y_tr.shape)\n",
    "print(x_te_essay_word_count_norm.shape, y_te.shape)"
   ]
  },
  {
   "cell_type": "code",
   "execution_count": 54,
   "metadata": {},
   "outputs": [
    {
     "name": "stdout",
     "output_type": "stream",
     "text": [
      "After vectorizations\n",
      "(73196, 1) (73196,)\n",
      "(36052, 1) (36052,)\n"
     ]
    }
   ],
   "source": [
    "normalizer = Normalizer()\n",
    "normalizer.fit(x_tr['title_word_count'].values.reshape(-1,1))\n",
    "\n",
    "x_tr_title_word_count_norm = normalizer.transform(x_tr['title_word_count'].values.reshape(-1,1))\n",
    "x_te_title_word_count_norm = normalizer.transform(x_te['title_word_count'].values.reshape(-1,1))\n",
    "\n",
    "print(\"After vectorizations\")\n",
    "print(x_tr_title_word_count_norm.shape, y_tr.shape)\n",
    "print(x_te_title_word_count_norm.shape, y_te.shape)"
   ]
  },
  {
   "cell_type": "markdown",
   "metadata": {},
   "source": [
    "# Stacking of vectors"
   ]
  },
  {
   "cell_type": "code",
   "execution_count": 81,
   "metadata": {},
   "outputs": [
    {
     "name": "stdout",
     "output_type": "stream",
     "text": [
      "Final Data matrix\n",
      "(73196, 320081) (73196,)\n",
      "(36052, 320081) (36052,)\n"
     ]
    }
   ],
   "source": [
    "# merge two sparse matrices: https://stackoverflow.com/a/19710648/4084039\n",
    "from scipy.sparse import hstack\n",
    "X_tr = hstack((x_tr_essay_bow, x_tr_title_bow, x_tr_res_summary_bow, x_tr_subjects_ohe, x_tr_subject_subcat_ohe.shape, x_tr_teacher_id_ohe, x_tr_state_ohe.shape, x_tr_tprefix_ohe.shape, x_tr_grade_ohe, x_tr_price_norm, x_tr_quantity_norm, x_tr_prev_projects_norm, x_tr_essay_word_count_norm, x_tr_title_word_count_norm)).tocsr()\n",
    "X_te = hstack((x_te_essay_bow, x_te_title_bow, x_te_res_summary_bow, x_te_subjects_ohe, x_te_subject_subcat_ohe.shape, x_te_teacher_id_ohe, x_te_state_ohe.shape, x_te_tprefix_ohe.shape, x_te_grade_ohe, x_te_price_norm, x_te_quantity_norm, x_te_prev_projects_norm, x_te_essay_word_count_norm, x_te_title_word_count_norm)).tocsr()\n",
    "\n",
    "print(\"Final Data matrix\")\n",
    "print(X_tr.shape, y_tr.shape)\n",
    "print(X_te.shape, y_te.shape)"
   ]
  },
  {
   "cell_type": "markdown",
   "metadata": {},
   "source": [
    "# Naive Bayes"
   ]
  },
  {
   "cell_type": "code",
   "execution_count": 82,
   "metadata": {},
   "outputs": [
    {
     "data": {
      "image/png": "[encoded data removed]",
      "text/plain": [
       "<Figure size 432x288 with 1 Axes>"
      ]
     },
     "metadata": {},
     "output_type": "display_data"
    },
    {
     "data": {
      "text/html": [
       "<div>\n",
       "<style scoped>\n",
       "    .dataframe tbody tr th:only-of-type {\n",
       "        vertical-align: middle;\n",
       "    }\n",
       "\n",
       "    .dataframe tbody tr th {\n",
       "        vertical-align: top;\n",
       "    }\n",
       "\n",
       "    .dataframe thead th {\n",
       "        text-align: right;\n",
       "    }\n",
       "</style>\n",
       "<table border=\"1\" class=\"dataframe\">\n",
       "  <thead>\n",
       "    <tr style=\"text-align: right;\">\n",
       "      <th></th>\n",
       "      <th>mean_fit_time</th>\n",
       "      <th>std_fit_time</th>\n",
       "      <th>mean_score_time</th>\n",
       "      <th>std_score_time</th>\n",
       "      <th>param_alpha</th>\n",
       "      <th>params</th>\n",
       "      <th>split0_test_score</th>\n",
       "      <th>split1_test_score</th>\n",
       "      <th>split2_test_score</th>\n",
       "      <th>split3_test_score</th>\n",
       "      <th>...</th>\n",
       "      <th>mean_test_score</th>\n",
       "      <th>std_test_score</th>\n",
       "      <th>rank_test_score</th>\n",
       "      <th>split0_train_score</th>\n",
       "      <th>split1_train_score</th>\n",
       "      <th>split2_train_score</th>\n",
       "      <th>split3_train_score</th>\n",
       "      <th>split4_train_score</th>\n",
       "      <th>mean_train_score</th>\n",
       "      <th>std_train_score</th>\n",
       "    </tr>\n",
       "  </thead>\n",
       "  <tbody>\n",
       "    <tr>\n",
       "      <th>0</th>\n",
       "      <td>0.354253</td>\n",
       "      <td>0.018642</td>\n",
       "      <td>0.024334</td>\n",
       "      <td>0.000489</td>\n",
       "      <td>1e-05</td>\n",
       "      <td>{'alpha': 1e-05}</td>\n",
       "      <td>0.581631</td>\n",
       "      <td>0.562174</td>\n",
       "      <td>0.575653</td>\n",
       "      <td>0.570022</td>\n",
       "      <td>...</td>\n",
       "      <td>0.571314</td>\n",
       "      <td>0.006758</td>\n",
       "      <td>12</td>\n",
       "      <td>0.994202</td>\n",
       "      <td>0.992945</td>\n",
       "      <td>0.993607</td>\n",
       "      <td>0.994019</td>\n",
       "      <td>0.994567</td>\n",
       "      <td>0.993868</td>\n",
       "      <td>0.000556</td>\n",
       "    </tr>\n",
       "    <tr>\n",
       "      <th>1</th>\n",
       "      <td>0.393251</td>\n",
       "      <td>0.036805</td>\n",
       "      <td>0.023203</td>\n",
       "      <td>0.007182</td>\n",
       "      <td>5e-05</td>\n",
       "      <td>{'alpha': 5e-05}</td>\n",
       "      <td>0.596642</td>\n",
       "      <td>0.573034</td>\n",
       "      <td>0.588320</td>\n",
       "      <td>0.582633</td>\n",
       "      <td>...</td>\n",
       "      <td>0.584516</td>\n",
       "      <td>0.007791</td>\n",
       "      <td>11</td>\n",
       "      <td>0.993294</td>\n",
       "      <td>0.991864</td>\n",
       "      <td>0.992803</td>\n",
       "      <td>0.993092</td>\n",
       "      <td>0.993677</td>\n",
       "      <td>0.992946</td>\n",
       "      <td>0.000611</td>\n",
       "    </tr>\n",
       "    <tr>\n",
       "      <th>2</th>\n",
       "      <td>0.380776</td>\n",
       "      <td>0.023384</td>\n",
       "      <td>0.026129</td>\n",
       "      <td>0.001466</td>\n",
       "      <td>0.0001</td>\n",
       "      <td>{'alpha': 0.0001}</td>\n",
       "      <td>0.603903</td>\n",
       "      <td>0.579000</td>\n",
       "      <td>0.597476</td>\n",
       "      <td>0.589100</td>\n",
       "      <td>...</td>\n",
       "      <td>0.591668</td>\n",
       "      <td>0.008466</td>\n",
       "      <td>10</td>\n",
       "      <td>0.992698</td>\n",
       "      <td>0.991359</td>\n",
       "      <td>0.992358</td>\n",
       "      <td>0.992631</td>\n",
       "      <td>0.993180</td>\n",
       "      <td>0.992445</td>\n",
       "      <td>0.000604</td>\n",
       "    </tr>\n",
       "    <tr>\n",
       "      <th>3</th>\n",
       "      <td>0.387164</td>\n",
       "      <td>0.016847</td>\n",
       "      <td>0.035505</td>\n",
       "      <td>0.013059</td>\n",
       "      <td>0.0005</td>\n",
       "      <td>{'alpha': 0.0005}</td>\n",
       "      <td>0.626114</td>\n",
       "      <td>0.597626</td>\n",
       "      <td>0.619394</td>\n",
       "      <td>0.611773</td>\n",
       "      <td>...</td>\n",
       "      <td>0.612596</td>\n",
       "      <td>0.009739</td>\n",
       "      <td>9</td>\n",
       "      <td>0.991130</td>\n",
       "      <td>0.989746</td>\n",
       "      <td>0.990911</td>\n",
       "      <td>0.991107</td>\n",
       "      <td>0.991631</td>\n",
       "      <td>0.990905</td>\n",
       "      <td>0.000626</td>\n",
       "    </tr>\n",
       "    <tr>\n",
       "      <th>4</th>\n",
       "      <td>0.368644</td>\n",
       "      <td>0.023358</td>\n",
       "      <td>0.023270</td>\n",
       "      <td>0.003895</td>\n",
       "      <td>0.001</td>\n",
       "      <td>{'alpha': 0.001}</td>\n",
       "      <td>0.635008</td>\n",
       "      <td>0.607967</td>\n",
       "      <td>0.626317</td>\n",
       "      <td>0.621980</td>\n",
       "      <td>...</td>\n",
       "      <td>0.621826</td>\n",
       "      <td>0.008965</td>\n",
       "      <td>8</td>\n",
       "      <td>0.990247</td>\n",
       "      <td>0.988837</td>\n",
       "      <td>0.990078</td>\n",
       "      <td>0.990223</td>\n",
       "      <td>0.990722</td>\n",
       "      <td>0.990021</td>\n",
       "      <td>0.000631</td>\n",
       "    </tr>\n",
       "  </tbody>\n",
       "</table>\n",
       "<p>5 rows × 21 columns</p>\n",
       "</div>"
      ],
      "text/plain": [
       "   mean_fit_time  std_fit_time  mean_score_time  std_score_time param_alpha  \\\n",
       "0       0.354253      0.018642         0.024334        0.000489       1e-05   \n",
       "1       0.393251      0.036805         0.023203        0.007182       5e-05   \n",
       "2       0.380776      0.023384         0.026129        0.001466      0.0001   \n",
       "3       0.387164      0.016847         0.035505        0.013059      0.0005   \n",
       "4       0.368644      0.023358         0.023270        0.003895       0.001   \n",
       "\n",
       "              params  split0_test_score  split1_test_score  split2_test_score  \\\n",
       "0   {'alpha': 1e-05}           0.581631           0.562174           0.575653   \n",
       "1   {'alpha': 5e-05}           0.596642           0.573034           0.588320   \n",
       "2  {'alpha': 0.0001}           0.603903           0.579000           0.597476   \n",
       "3  {'alpha': 0.0005}           0.626114           0.597626           0.619394   \n",
       "4   {'alpha': 0.001}           0.635008           0.607967           0.626317   \n",
       "\n",
       "   split3_test_score       ...         mean_test_score  std_test_score  \\\n",
       "0           0.570022       ...                0.571314        0.006758   \n",
       "1           0.582633       ...                0.584516        0.007791   \n",
       "2           0.589100       ...                0.591668        0.008466   \n",
       "3           0.611773       ...                0.612596        0.009739   \n",
       "4           0.621980       ...                0.621826        0.008965   \n",
       "\n",
       "   rank_test_score  split0_train_score  split1_train_score  \\\n",
       "0               12            0.994202            0.992945   \n",
       "1               11            0.993294            0.991864   \n",
       "2               10            0.992698            0.991359   \n",
       "3                9            0.991130            0.989746   \n",
       "4                8            0.990247            0.988837   \n",
       "\n",
       "   split2_train_score  split3_train_score  split4_train_score  \\\n",
       "0            0.993607            0.994019            0.994567   \n",
       "1            0.992803            0.993092            0.993677   \n",
       "2            0.992358            0.992631            0.993180   \n",
       "3            0.990911            0.991107            0.991631   \n",
       "4            0.990078            0.990223            0.990722   \n",
       "\n",
       "   mean_train_score  std_train_score  \n",
       "0          0.993868         0.000556  \n",
       "1          0.992946         0.000611  \n",
       "2          0.992445         0.000604  \n",
       "3          0.990905         0.000626  \n",
       "4          0.990021         0.000631  \n",
       "\n",
       "[5 rows x 21 columns]"
      ]
     },
     "execution_count": 82,
     "metadata": {},
     "output_type": "execute_result"
    }
   ],
   "source": [
    "from sklearn.model_selection import GridSearchCV\n",
    "from sklearn.naive_bayes import MultinomialNB\n",
    "from sklearn.metrics import roc_auc_score\n",
    "\n",
    "nb = MultinomialNB(class_prior=[0.5,0.5])\n",
    "parameters = {'alpha':[0.00001,0.00005, 0.0001,0.0005,0.001,0.005,0.01,0.05,0.1,0.5,1,2]}\n",
    "clf = GridSearchCV(nb, parameters, cv=5, scoring='roc_auc')\n",
    "clf.fit(X_tr, y_tr)\n",
    "\n",
    "results = pd.DataFrame.from_dict(clf.cv_results_)\n",
    "results = results.sort_values(['param_alpha'])\n",
    "\n",
    "train_auc= results['mean_train_score']\n",
    "train_auc_std= results['std_train_score']\n",
    "cv_auc = results['mean_test_score'] \n",
    "cv_auc_std= results['std_test_score']\n",
    "alp =  results['param_alpha']\n",
    "\n",
    "plt.plot(alp, train_auc, label='Train AUC')\n",
    "\n",
    "plt.plot(alp, cv_auc, label='CV AUC')\n",
    "\n",
    "plt.scatter(alp, train_auc, label='Train AUC points')\n",
    "plt.scatter(alp, cv_auc, label='CV AUC points')\n",
    "\n",
    "\n",
    "plt.legend()\n",
    "plt.xlabel(\"Alpha\")\n",
    "plt.ylabel(\"AUC\")\n",
    "plt.title(\"Alpha Vs AUC\")\n",
    "plt.grid()\n",
    "plt.show()\n",
    "\n",
    "results.head()"
   ]
  },
  {
   "cell_type": "code",
   "execution_count": 83,
   "metadata": {},
   "outputs": [
    {
     "data": {
      "image/png": "[encoded data removed]",
      "text/plain": [
       "<Figure size 432x288 with 1 Axes>"
      ]
     },
     "metadata": {},
     "output_type": "display_data"
    }
   ],
   "source": [
    "from sklearn.metrics import roc_curve, auc\n",
    "\n",
    "nb = MultinomialNB(alpha=1,class_prior=[0.5,0.5])\n",
    "nb.fit(X_tr, y_tr)\n",
    "\n",
    "y_tr_pred = nb.predict_proba(X_tr)[:,1]\n",
    "y_te_pred = nb.predict_proba(X_te)[:,1]\n",
    "\n",
    "train_fpr, train_tpr, tr_thresholds = roc_curve(y_tr, y_tr_pred)\n",
    "test_fpr, test_tpr, te_thresholds = roc_curve(y_te, y_te_pred)\n",
    "\n",
    "plt.plot(train_fpr, train_tpr, label=\"train AUC =\"+str(auc(train_fpr, train_tpr)))\n",
    "plt.plot(test_fpr, test_tpr, label=\"test AUC =\"+str(auc(test_fpr, test_tpr)))\n",
    "plt.legend()\n",
    "plt.xlabel(\"Alpha\")\n",
    "plt.ylabel(\"AUC\")\n",
    "plt.title(\"ERROR PLOTS\")\n",
    "plt.grid()\n",
    "plt.show()"
   ]
  },
  {
   "cell_type": "code",
   "execution_count": 84,
   "metadata": {},
   "outputs": [],
   "source": [
    "# we are writing our own function for predict, with defined thresould\n",
    "# we will pick a threshold that will give the least fpr\n",
    "def find_best_threshold(threshold, fpr, tpr):\n",
    "    t = threshold[np.argmax(tpr*(1-fpr))]\n",
    "    # (tpr*(1-fpr)) will be maximum if your fpr is very low and tpr is very high\n",
    "    print(\"the maximum value of tpr*(1-fpr)\", max(tpr*(1-fpr)), \"for threshold\", np.round(t,3))\n",
    "    print(50*\"=\")\n",
    "    return t\n",
    "\n",
    "def predict_with_best_t(proba, threshold):\n",
    "    predictions = []\n",
    "    for i in proba:\n",
    "        if i>=threshold:\n",
    "            predictions.append(1)\n",
    "        else:\n",
    "            predictions.append(0)\n",
    "    return predictions"
   ]
  },
  {
   "cell_type": "code",
   "execution_count": 86,
   "metadata": {},
   "outputs": [
    {
     "name": "stdout",
     "output_type": "stream",
     "text": [
      "the maximum value of tpr*(1-fpr) 0.7214979946953071 for threshold 0.854\n",
      "==================================================\n",
      "==================================================\n",
      "Train Accuracy Score\n",
      "0.8499781408820154\n",
      "==================================================\n",
      "Test Accuracy Score\n",
      "0.7652834794186175\n",
      "==================================================\n",
      "Train confusion matrix\n",
      "[[ 9405  1678]\n",
      " [ 9303 52810]]\n",
      "==================================================\n",
      "Test confusion matrix\n",
      "[[ 2311  3148]\n",
      " [ 5314 25279]]\n",
      "==================================================\n",
      "Train F1 Score\n",
      "0.9058241352990111\n",
      "==================================================\n",
      "Test F1 Score\n",
      "0.8566248729244325\n"
     ]
    }
   ],
   "source": [
    "from sklearn.metrics import confusion_matrix\n",
    "from sklearn.metrics import accuracy_score\n",
    "from sklearn.metrics import f1_score\n",
    "from sklearn.metrics import roc_auc_score\n",
    "\n",
    "best_t = find_best_threshold(tr_thresholds, train_fpr, train_tpr)\n",
    "print(50*\"=\")\n",
    "print(\"Train Accuracy Score\")\n",
    "print(accuracy_score(y_tr, predict_with_best_t(y_tr_pred, best_t)))\n",
    "print(50*\"=\")\n",
    "print(\"Test Accuracy Score\")\n",
    "print(accuracy_score(y_te, predict_with_best_t(y_te_pred, best_t)))\n",
    "print(50*\"=\")\n",
    "print(\"Train confusion matrix\")\n",
    "print(confusion_matrix(y_tr, predict_with_best_t(y_tr_pred, best_t)))\n",
    "print(50*\"=\")\n",
    "print(\"Test confusion matrix\")\n",
    "print(confusion_matrix(y_te, predict_with_best_t(y_te_pred, best_t)))\n",
    "print(50*\"=\")\n",
    "print(\"Train F1 Score\")\n",
    "print(f1_score(y_tr, predict_with_best_t(y_tr_pred, best_t)))\n",
    "print(50*\"=\")\n",
    "print(\"Test F1 Score\")\n",
    "print(f1_score(y_te, predict_with_best_t(y_te_pred, best_t)))"
   ]
  },
  {
   "cell_type": "markdown",
   "metadata": {},
   "source": [
    "# Vectorization of Essays, Project Titles, Resource Summary with Tfidf"
   ]
  },
  {
   "cell_type": "code",
   "execution_count": 62,
   "metadata": {},
   "outputs": [
    {
     "name": "stdout",
     "output_type": "stream",
     "text": [
      "After vectorizations\n",
      "(73196, 234304) (73196,)\n",
      "(36052, 234304) (36052,)\n"
     ]
    }
   ],
   "source": [
    "from sklearn.feature_extraction.text import TfidfVectorizer\n",
    "\n",
    "vectorizer = TfidfVectorizer(min_df=10,ngram_range=(1,4))\n",
    "vectorizer.fit(x_tr['ppd_essays'].values) \n",
    "x_tr_essay_tfidf = vectorizer.transform(x_tr['ppd_essays'].values)\n",
    "x_te_essay_tfidf = vectorizer.transform(x_te['ppd_essays'].values)\n",
    "\n",
    "print(\"After vectorizations\")\n",
    "print(x_tr_essay_tfidf.shape, y_tr.shape)\n",
    "print(x_te_essay_tfidf.shape, y_te.shape)"
   ]
  },
  {
   "cell_type": "code",
   "execution_count": 63,
   "metadata": {},
   "outputs": [
    {
     "name": "stdout",
     "output_type": "stream",
     "text": [
      "After vectorizations\n",
      "(73196, 14112) (73196,)\n",
      "(36052, 14112) (36052,)\n"
     ]
    }
   ],
   "source": [
    "vectorizer = TfidfVectorizer()\n",
    "vectorizer.fit(x_tr['ppd_titles'].values)\n",
    "\n",
    "x_tr_title_tfidf = vectorizer.transform(x_tr['ppd_titles'].values)\n",
    "x_te_title_tfidf = vectorizer.transform(x_te['ppd_titles'].values)\n",
    "\n",
    "print(\"After vectorizations\")\n",
    "print(x_tr_title_tfidf.shape, y_tr.shape)\n",
    "print(x_te_title_tfidf.shape, y_te.shape)"
   ]
  },
  {
   "cell_type": "code",
   "execution_count": 64,
   "metadata": {},
   "outputs": [
    {
     "name": "stdout",
     "output_type": "stream",
     "text": [
      "After vectorizations\n",
      "(73196, 18795) (73196,)\n",
      "(36052, 18795) (36052,)\n"
     ]
    }
   ],
   "source": [
    "vectorizer = TfidfVectorizer()\n",
    "vectorizer.fit(x_tr['ppd_res_summary'].values)\n",
    "\n",
    "x_tr_res_summary_tfidf = vectorizer.transform(x_tr['ppd_res_summary'].values)\n",
    "x_te_res_summary_tfidf = vectorizer.transform(x_te['ppd_res_summary'].values)\n",
    "\n",
    "print(\"After vectorizations\")\n",
    "print(x_tr_res_summary_tfidf.shape, y_tr.shape)\n",
    "print(x_te_res_summary_tfidf.shape, y_te.shape)"
   ]
  },
  {
   "cell_type": "markdown",
   "metadata": {},
   "source": [
    "# Stacking of vectors"
   ]
  },
  {
   "cell_type": "code",
   "execution_count": 87,
   "metadata": {},
   "outputs": [
    {
     "name": "stdout",
     "output_type": "stream",
     "text": [
      "Final Data matrix\n",
      "(73196, 320081) (73196,)\n",
      "(36052, 320081) (36052,)\n"
     ]
    }
   ],
   "source": [
    "# merge two sparse matrices: https://stackoverflow.com/a/19710648/4084039\n",
    "from scipy.sparse import hstack\n",
    "X_tr = hstack((x_tr_essay_tfidf, x_tr_title_tfidf, x_tr_res_summary_tfidf, x_tr_subjects_ohe, x_tr_subject_subcat_ohe.shape, x_tr_teacher_id_ohe, x_tr_state_ohe.shape, x_tr_tprefix_ohe.shape, x_tr_grade_ohe, x_tr_price_norm, x_tr_quantity_norm, x_tr_prev_projects_norm, x_tr_essay_word_count_norm, x_tr_title_word_count_norm)).tocsr()\n",
    "X_te = hstack((x_te_essay_tfidf, x_te_title_tfidf, x_te_res_summary_tfidf, x_te_subjects_ohe, x_te_subject_subcat_ohe.shape, x_te_teacher_id_ohe, x_te_state_ohe.shape, x_te_tprefix_ohe.shape, x_te_grade_ohe, x_te_price_norm, x_te_quantity_norm, x_te_prev_projects_norm, x_te_essay_word_count_norm, x_te_title_word_count_norm)).tocsr()\n",
    "\n",
    "print(\"Final Data matrix\")\n",
    "print(X_tr.shape, y_tr.shape)\n",
    "print(X_te.shape, y_te.shape)"
   ]
  },
  {
   "cell_type": "code",
   "execution_count": 88,
   "metadata": {},
   "outputs": [
    {
     "data": {
      "image/png": "[encoded data removed]",
      "text/plain": [
       "<Figure size 432x288 with 1 Axes>"
      ]
     },
     "metadata": {},
     "output_type": "display_data"
    },
    {
     "data": {
      "text/html": [
       "<div>\n",
       "<style scoped>\n",
       "    .dataframe tbody tr th:only-of-type {\n",
       "        vertical-align: middle;\n",
       "    }\n",
       "\n",
       "    .dataframe tbody tr th {\n",
       "        vertical-align: top;\n",
       "    }\n",
       "\n",
       "    .dataframe thead th {\n",
       "        text-align: right;\n",
       "    }\n",
       "</style>\n",
       "<table border=\"1\" class=\"dataframe\">\n",
       "  <thead>\n",
       "    <tr style=\"text-align: right;\">\n",
       "      <th></th>\n",
       "      <th>mean_fit_time</th>\n",
       "      <th>std_fit_time</th>\n",
       "      <th>mean_score_time</th>\n",
       "      <th>std_score_time</th>\n",
       "      <th>param_alpha</th>\n",
       "      <th>params</th>\n",
       "      <th>split0_test_score</th>\n",
       "      <th>split1_test_score</th>\n",
       "      <th>split2_test_score</th>\n",
       "      <th>mean_test_score</th>\n",
       "      <th>std_test_score</th>\n",
       "      <th>rank_test_score</th>\n",
       "      <th>split0_train_score</th>\n",
       "      <th>split1_train_score</th>\n",
       "      <th>split2_train_score</th>\n",
       "      <th>mean_train_score</th>\n",
       "      <th>std_train_score</th>\n",
       "    </tr>\n",
       "  </thead>\n",
       "  <tbody>\n",
       "    <tr>\n",
       "      <th>0</th>\n",
       "      <td>0.381232</td>\n",
       "      <td>0.063918</td>\n",
       "      <td>0.044695</td>\n",
       "      <td>0.003238</td>\n",
       "      <td>1e-05</td>\n",
       "      <td>{'alpha': 1e-05}</td>\n",
       "      <td>0.619448</td>\n",
       "      <td>0.625161</td>\n",
       "      <td>0.615744</td>\n",
       "      <td>0.620118</td>\n",
       "      <td>0.003873</td>\n",
       "      <td>11</td>\n",
       "      <td>0.999596</td>\n",
       "      <td>0.999571</td>\n",
       "      <td>0.999623</td>\n",
       "      <td>0.999597</td>\n",
       "      <td>0.000021</td>\n",
       "    </tr>\n",
       "    <tr>\n",
       "      <th>1</th>\n",
       "      <td>0.372248</td>\n",
       "      <td>0.028283</td>\n",
       "      <td>0.044999</td>\n",
       "      <td>0.003759</td>\n",
       "      <td>5e-05</td>\n",
       "      <td>{'alpha': 5e-05}</td>\n",
       "      <td>0.623851</td>\n",
       "      <td>0.629537</td>\n",
       "      <td>0.620031</td>\n",
       "      <td>0.624473</td>\n",
       "      <td>0.003905</td>\n",
       "      <td>10</td>\n",
       "      <td>0.999511</td>\n",
       "      <td>0.999476</td>\n",
       "      <td>0.999539</td>\n",
       "      <td>0.999509</td>\n",
       "      <td>0.000026</td>\n",
       "    </tr>\n",
       "    <tr>\n",
       "      <th>2</th>\n",
       "      <td>0.393010</td>\n",
       "      <td>0.012323</td>\n",
       "      <td>0.053667</td>\n",
       "      <td>0.008225</td>\n",
       "      <td>0.0001</td>\n",
       "      <td>{'alpha': 0.0001}</td>\n",
       "      <td>0.626061</td>\n",
       "      <td>0.631745</td>\n",
       "      <td>0.622255</td>\n",
       "      <td>0.626687</td>\n",
       "      <td>0.003899</td>\n",
       "      <td>9</td>\n",
       "      <td>0.999461</td>\n",
       "      <td>0.999422</td>\n",
       "      <td>0.999485</td>\n",
       "      <td>0.999456</td>\n",
       "      <td>0.000026</td>\n",
       "    </tr>\n",
       "    <tr>\n",
       "      <th>3</th>\n",
       "      <td>0.431961</td>\n",
       "      <td>0.043965</td>\n",
       "      <td>0.083359</td>\n",
       "      <td>0.033974</td>\n",
       "      <td>0.0005</td>\n",
       "      <td>{'alpha': 0.0005}</td>\n",
       "      <td>0.632250</td>\n",
       "      <td>0.637941</td>\n",
       "      <td>0.628518</td>\n",
       "      <td>0.632903</td>\n",
       "      <td>0.003875</td>\n",
       "      <td>8</td>\n",
       "      <td>0.999274</td>\n",
       "      <td>0.999230</td>\n",
       "      <td>0.999296</td>\n",
       "      <td>0.999267</td>\n",
       "      <td>0.000027</td>\n",
       "    </tr>\n",
       "    <tr>\n",
       "      <th>4</th>\n",
       "      <td>0.373694</td>\n",
       "      <td>0.014355</td>\n",
       "      <td>0.046900</td>\n",
       "      <td>0.004886</td>\n",
       "      <td>0.001</td>\n",
       "      <td>{'alpha': 0.001}</td>\n",
       "      <td>0.635453</td>\n",
       "      <td>0.641205</td>\n",
       "      <td>0.631791</td>\n",
       "      <td>0.636150</td>\n",
       "      <td>0.003874</td>\n",
       "      <td>7</td>\n",
       "      <td>0.999144</td>\n",
       "      <td>0.999099</td>\n",
       "      <td>0.999172</td>\n",
       "      <td>0.999139</td>\n",
       "      <td>0.000030</td>\n",
       "    </tr>\n",
       "  </tbody>\n",
       "</table>\n",
       "</div>"
      ],
      "text/plain": [
       "   mean_fit_time  std_fit_time  mean_score_time  std_score_time param_alpha  \\\n",
       "0       0.381232      0.063918         0.044695        0.003238       1e-05   \n",
       "1       0.372248      0.028283         0.044999        0.003759       5e-05   \n",
       "2       0.393010      0.012323         0.053667        0.008225      0.0001   \n",
       "3       0.431961      0.043965         0.083359        0.033974      0.0005   \n",
       "4       0.373694      0.014355         0.046900        0.004886       0.001   \n",
       "\n",
       "              params  split0_test_score  split1_test_score  split2_test_score  \\\n",
       "0   {'alpha': 1e-05}           0.619448           0.625161           0.615744   \n",
       "1   {'alpha': 5e-05}           0.623851           0.629537           0.620031   \n",
       "2  {'alpha': 0.0001}           0.626061           0.631745           0.622255   \n",
       "3  {'alpha': 0.0005}           0.632250           0.637941           0.628518   \n",
       "4   {'alpha': 0.001}           0.635453           0.641205           0.631791   \n",
       "\n",
       "   mean_test_score  std_test_score  rank_test_score  split0_train_score  \\\n",
       "0         0.620118        0.003873               11            0.999596   \n",
       "1         0.624473        0.003905               10            0.999511   \n",
       "2         0.626687        0.003899                9            0.999461   \n",
       "3         0.632903        0.003875                8            0.999274   \n",
       "4         0.636150        0.003874                7            0.999144   \n",
       "\n",
       "   split1_train_score  split2_train_score  mean_train_score  std_train_score  \n",
       "0            0.999571            0.999623          0.999597         0.000021  \n",
       "1            0.999476            0.999539          0.999509         0.000026  \n",
       "2            0.999422            0.999485          0.999456         0.000026  \n",
       "3            0.999230            0.999296          0.999267         0.000027  \n",
       "4            0.999099            0.999172          0.999139         0.000030  "
      ]
     },
     "execution_count": 88,
     "metadata": {},
     "output_type": "execute_result"
    }
   ],
   "source": [
    "from sklearn.model_selection import GridSearchCV\n",
    "from sklearn.naive_bayes import MultinomialNB\n",
    "from sklearn.metrics import roc_auc_score\n",
    "\n",
    "nb = MultinomialNB(class_prior=[0.5,0.5])\n",
    "parameters = {'alpha':[0.00001,0.00005, 0.0001,0.0005,0.001,0.005,0.01,0.05,0.1,0.5,1]}\n",
    "clf = GridSearchCV(nb, parameters, cv=3, scoring='roc_auc')\n",
    "clf.fit(X_tr, y_tr)\n",
    "\n",
    "results = pd.DataFrame.from_dict(clf.cv_results_)\n",
    "results = results.sort_values(['param_alpha'])\n",
    "\n",
    "train_auc= results['mean_train_score']\n",
    "train_auc_std= results['std_train_score']\n",
    "cv_auc = results['mean_test_score'] \n",
    "cv_auc_std= results['std_test_score']\n",
    "alp =  results['param_alpha']\n",
    "\n",
    "plt.plot(alp, train_auc, label='Train AUC')\n",
    "# this code is copied from here: https://stackoverflow.com/a/48803361/4084039\n",
    "# plt.gca().fill_between(K, train_auc - train_auc_std,train_auc + train_auc_std,alpha=0.2,color='darkblue')\n",
    "\n",
    "plt.plot(alp, cv_auc, label='CV AUC')\n",
    "# this code is copied from here: https://stackoverflow.com/a/48803361/4084039\n",
    "# plt.gca().fill_between(K, cv_auc - cv_auc_std,cv_auc + cv_auc_std,alpha=0.2,color='darkorange')\n",
    "\n",
    "plt.scatter(alp, train_auc, label='Train AUC points')\n",
    "plt.scatter(alp, cv_auc, label='CV AUC points')\n",
    "\n",
    "\n",
    "plt.legend()\n",
    "plt.xlabel(\"Alpha\")\n",
    "plt.ylabel(\"AUC\")\n",
    "plt.title(\"Alpha Vs AUC\")\n",
    "plt.grid()\n",
    "plt.show()\n",
    "\n",
    "results.head()"
   ]
  },
  {
   "cell_type": "code",
   "execution_count": 89,
   "metadata": {},
   "outputs": [
    {
     "data": {
      "image/png": "[encoded data removed]",
      "text/plain": [
       "<Figure size 432x288 with 1 Axes>"
      ]
     },
     "metadata": {},
     "output_type": "display_data"
    }
   ],
   "source": [
    "from sklearn.metrics import roc_curve, auc\n",
    "\n",
    "nb = MultinomialNB(alpha=0.1, class_prior=[0.5,0.5] )\n",
    "nb.fit(X_tr, y_tr)\n",
    "\n",
    "y_tr_pred = nb.predict_proba(X_tr)[:,1]\n",
    "y_te_pred = nb.predict_proba(X_te)[:,1]\n",
    "\n",
    "train_fpr, train_tpr, tr_thresholds = roc_curve(y_tr, y_tr_pred)\n",
    "test_fpr, test_tpr, te_thresholds = roc_curve(y_te, y_te_pred)\n",
    "\n",
    "plt.plot(train_fpr, train_tpr, label=\"train AUC =\"+str(auc(train_fpr, train_tpr)))\n",
    "plt.plot(test_fpr, test_tpr, label=\"test AUC =\"+str(auc(test_fpr, test_tpr)))\n",
    "plt.legend()\n",
    "plt.xlabel(\"Alpha\")\n",
    "plt.ylabel(\"AUC\")\n",
    "plt.title(\"ERROR PLOTS\")\n",
    "plt.grid()\n",
    "plt.show()"
   ]
  },
  {
   "cell_type": "code",
   "execution_count": 90,
   "metadata": {},
   "outputs": [
    {
     "name": "stdout",
     "output_type": "stream",
     "text": [
      "the maximum value of tpr*(1-fpr) 0.9130974682321268 for threshold 0.302\n",
      "==================================================\n",
      "==================================================\n",
      "Train Accuracy Score\n",
      "0.9607355593201814\n",
      "==================================================\n",
      "Test Accuracy Score\n",
      "0.8007322756019084\n",
      "==================================================\n",
      "Train confusion matrix\n",
      "[[10509   574]\n",
      " [ 2300 59813]]\n",
      "==================================================\n",
      "Test confusion matrix\n",
      "[[ 1180  4279]\n",
      " [ 2905 27688]]\n",
      "==================================================\n",
      "Train F1 Score\n",
      "0.9765387755102042\n",
      "==================================================\n",
      "Test F1 Score\n",
      "0.885166240409207\n"
     ]
    }
   ],
   "source": [
    "from sklearn.metrics import confusion_matrix\n",
    "from sklearn.metrics import accuracy_score\n",
    "from sklearn.metrics import f1_score\n",
    "from sklearn.metrics import roc_auc_score\n",
    "\n",
    "best_t = find_best_threshold(tr_thresholds, train_fpr, train_tpr)\n",
    "print(50*\"=\")\n",
    "print(\"Train Accuracy Score\")\n",
    "print(accuracy_score(y_tr, predict_with_best_t(y_tr_pred, best_t)))\n",
    "print(50*\"=\")\n",
    "print(\"Test Accuracy Score\")\n",
    "print(accuracy_score(y_te, predict_with_best_t(y_te_pred, best_t)))\n",
    "print(50*\"=\")\n",
    "print(\"Train confusion matrix\")\n",
    "print(confusion_matrix(y_tr, predict_with_best_t(y_tr_pred, best_t)))\n",
    "print(50*\"=\")\n",
    "print(\"Test confusion matrix\")\n",
    "print(confusion_matrix(y_te, predict_with_best_t(y_te_pred, best_t)))\n",
    "print(50*\"=\")\n",
    "print(\"Train F1 Score\")\n",
    "print(f1_score(y_tr, predict_with_best_t(y_tr_pred, best_t)))\n",
    "print(50*\"=\")\n",
    "print(\"Test F1 Score\")\n",
    "print(f1_score(y_te, predict_with_best_t(y_te_pred, best_t)))"
   ]
  },
  {
   "cell_type": "code",
   "execution_count": null,
   "metadata": {},
   "outputs": [],
   "source": []
  }
 ],
 "metadata": {
  "kernelspec": {
   "display_name": "Python 3",
   "language": "python",
   "name": "python3"
  },
  "language_info": {
   "codemirror_mode": {
    "name": "ipython",
    "version": 3
   },
   "file_extension": ".py",
   "mimetype": "text/x-python",
   "name": "python",
   "nbconvert_exporter": "python",
   "pygments_lexer": "ipython3",
   "version": "3.6.5"
  }
 },
 "nbformat": 4,
 "nbformat_minor": 2
}
