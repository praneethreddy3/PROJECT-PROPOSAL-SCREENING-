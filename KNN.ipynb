{
 "cells": [
  {
   "cell_type": "code",
   "execution_count": 1,
   "metadata": {},
   "outputs": [],
   "source": [
    "%matplotlib inline\n",
    "import warnings\n",
    "warnings.filterwarnings(\"ignore\")\n",
    "\n",
    "import pandas as pd\n",
    "import numpy as np\n",
    "import nltk\n",
    "import matplotlib.pyplot as plt\n",
    "import seaborn as sns\n",
    "from sklearn.feature_extraction.text import TfidfVectorizer\n",
    "from sklearn.feature_extraction.text import CountVectorizer\n",
    "from sklearn.metrics import confusion_matrix\n",
    "from sklearn import metrics\n",
    "from sklearn.metrics import roc_curve, auc\n",
    "\n",
    "import re\n",
    "# Tutorial about Python regular expressions: https://pymotw.com/2/re/\n",
    "\n",
    "import pickle\n",
    "from tqdm import tqdm\n",
    "import os\n",
    "\n",
    "#from plotly import plotly\n",
    "#import plotly.offline as offline\n",
    "#import plotly.graph_objs as go\n",
    "#offline.init_notebook_mode()\n",
    "from collections import Counter"
   ]
  },
  {
   "cell_type": "code",
   "execution_count": 2,
   "metadata": {},
   "outputs": [],
   "source": [
    "preprocessed_data = pd.read_csv('preprocessed_data.csv')"
   ]
  },
  {
   "cell_type": "code",
   "execution_count": 3,
   "metadata": {},
   "outputs": [
    {
     "data": {
      "text/plain": [
       "(109248, 16)"
      ]
     },
     "execution_count": 3,
     "metadata": {},
     "output_type": "execute_result"
    }
   ],
   "source": [
    "preprocessed_data.head(2)\n",
    "preprocessed_data.shape"
   ]
  },
  {
   "cell_type": "code",
   "execution_count": 4,
   "metadata": {},
   "outputs": [],
   "source": [
    "preprocessed_data=preprocessed_data.iloc[:50000,:]\n"
   ]
  },
  {
   "cell_type": "code",
   "execution_count": 5,
   "metadata": {},
   "outputs": [
    {
     "data": {
      "text/plain": [
       "(50000, 16)"
      ]
     },
     "execution_count": 5,
     "metadata": {},
     "output_type": "execute_result"
    }
   ],
   "source": [
    "preprocessed_data.shape"
   ]
  },
  {
   "cell_type": "markdown",
   "metadata": {},
   "source": [
    "# Splitting data into X & Y"
   ]
  },
  {
   "cell_type": "code",
   "execution_count": 6,
   "metadata": {},
   "outputs": [
    {
     "data": {
      "text/html": [
       "<div>\n",
       "<style scoped>\n",
       "    .dataframe tbody tr th:only-of-type {\n",
       "        vertical-align: middle;\n",
       "    }\n",
       "\n",
       "    .dataframe tbody tr th {\n",
       "        vertical-align: top;\n",
       "    }\n",
       "\n",
       "    .dataframe thead th {\n",
       "        text-align: right;\n",
       "    }\n",
       "</style>\n",
       "<table border=\"1\" class=\"dataframe\">\n",
       "  <thead>\n",
       "    <tr style=\"text-align: right;\">\n",
       "      <th></th>\n",
       "      <th>Unnamed: 0</th>\n",
       "      <th>teacher_prefix</th>\n",
       "      <th>project_grade_category</th>\n",
       "      <th>project_subject_subcategories</th>\n",
       "      <th>teacher_number_of_previously_posted_projects</th>\n",
       "      <th>year_month</th>\n",
       "      <th>cleaned_subjects</th>\n",
       "      <th>ppd_essays</th>\n",
       "      <th>ppd_res_summary</th>\n",
       "      <th>price</th>\n",
       "      <th>quantity</th>\n",
       "      <th>essay_word_count</th>\n",
       "      <th>title_word_count</th>\n",
       "      <th>ppd_titles</th>\n",
       "      <th>school_state</th>\n",
       "    </tr>\n",
       "  </thead>\n",
       "  <tbody>\n",
       "    <tr>\n",
       "      <th>0</th>\n",
       "      <td>41656</td>\n",
       "      <td>mrs</td>\n",
       "      <td>grades_6_8</td>\n",
       "      <td>Literature_Writing &amp; Special_Needs</td>\n",
       "      <td>11</td>\n",
       "      <td>17-03</td>\n",
       "      <td>Literacy_Language &amp; Special_Needs</td>\n",
       "      <td>remember given work independently seat teacher...</td>\n",
       "      <td>students need reading kits reading writing ski...</td>\n",
       "      <td>343.97</td>\n",
       "      <td>10</td>\n",
       "      <td>240</td>\n",
       "      <td>6</td>\n",
       "      <td>i do we do you do</td>\n",
       "      <td>il</td>\n",
       "    </tr>\n",
       "  </tbody>\n",
       "</table>\n",
       "</div>"
      ],
      "text/plain": [
       "   Unnamed: 0 teacher_prefix project_grade_category  \\\n",
       "0       41656            mrs             grades_6_8   \n",
       "\n",
       "        project_subject_subcategories  \\\n",
       "0  Literature_Writing & Special_Needs   \n",
       "\n",
       "   teacher_number_of_previously_posted_projects year_month  \\\n",
       "0                                            11      17-03   \n",
       "\n",
       "                    cleaned_subjects  \\\n",
       "0  Literacy_Language & Special_Needs   \n",
       "\n",
       "                                          ppd_essays  \\\n",
       "0  remember given work independently seat teacher...   \n",
       "\n",
       "                                     ppd_res_summary   price  quantity  \\\n",
       "0  students need reading kits reading writing ski...  343.97        10   \n",
       "\n",
       "   essay_word_count  title_word_count         ppd_titles school_state  \n",
       "0               240                 6  i do we do you do           il  "
      ]
     },
     "execution_count": 6,
     "metadata": {},
     "output_type": "execute_result"
    }
   ],
   "source": [
    "y = preprocessed_data['project_is_approved'].values\n",
    "x = preprocessed_data.drop(['project_is_approved'], axis=1)\n",
    "x.head(1)"
   ]
  },
  {
   "cell_type": "markdown",
   "metadata": {},
   "source": [
    "# Splitting data into Train & Test data (No need for sep. CV because we are doing N-fold Grid Search CV)"
   ]
  },
  {
   "cell_type": "code",
   "execution_count": 7,
   "metadata": {},
   "outputs": [
    {
     "name": "stdout",
     "output_type": "stream",
     "text": [
      "[0 0 0 ... 1 0 1]\n",
      "<class 'numpy.ndarray'>\n"
     ]
    },
    {
     "data": {
      "text/plain": [
       "50000"
      ]
     },
     "execution_count": 7,
     "metadata": {},
     "output_type": "execute_result"
    }
   ],
   "source": [
    "print(y)\n",
    "print(type(y))\n",
    "y.size"
   ]
  },
  {
   "cell_type": "code",
   "execution_count": 8,
   "metadata": {},
   "outputs": [
    {
     "name": "stdout",
     "output_type": "stream",
     "text": [
      "33500\n",
      "16500\n",
      "(33500, 15)\n",
      "(16500, 15)\n"
     ]
    }
   ],
   "source": [
    "from sklearn.model_selection import train_test_split\n",
    "x_tr, x_te, y_tr, y_te = train_test_split(x, y, test_size=0.33, stratify=y)\n",
    "\n",
    "print(y_tr.size)\n",
    "print(y_te.size)\n",
    "print(x_tr.shape)\n",
    "print(x_te.shape)"
   ]
  },
  {
   "cell_type": "markdown",
   "metadata": {},
   "source": [
    "# Vectorization - Essay, Project_title, Project Summary"
   ]
  },
  {
   "cell_type": "code",
   "execution_count": 9,
   "metadata": {},
   "outputs": [
    {
     "name": "stdout",
     "output_type": "stream",
     "text": [
      "After vectorizations\n",
      "(33500, 43209) (33500,)\n",
      "(16500, 43209) (16500,)\n"
     ]
    }
   ],
   "source": [
    "vectorizer = CountVectorizer(min_df=20,ngram_range=(1,3))\n",
    "vectorizer.fit(x_tr['ppd_essays'].values) # fit has to happen only on train data\n",
    "\n",
    "# we use the fitted CountVectorizer to convert the text to vector\n",
    "x_tr_essay_bow = vectorizer.transform(x_tr['ppd_essays'].values)\n",
    "x_te_essay_bow = vectorizer.transform(x_te['ppd_essays'].values)\n",
    "\n",
    "print(\"After vectorizations\")\n",
    "print(x_tr_essay_bow.shape, y_tr.shape)\n",
    "print(x_te_essay_bow.shape, y_te.shape)"
   ]
  },
  {
   "cell_type": "code",
   "execution_count": 10,
   "metadata": {},
   "outputs": [
    {
     "name": "stdout",
     "output_type": "stream",
     "text": [
      "After vectorizations\n",
      "(33500, 9293) (33500,)\n",
      "(16500, 9293) (16500,)\n"
     ]
    }
   ],
   "source": [
    "vectorizer = CountVectorizer()\n",
    "vectorizer.fit(x_tr['ppd_titles'].values) # fit has to happen only on train data\n",
    "\n",
    "x_tr_title_bow = vectorizer.transform(x_tr['ppd_titles'].values)\n",
    "x_te_title_bow = vectorizer.transform(x_te['ppd_titles'].values)\n",
    "\n",
    "print(\"After vectorizations\")\n",
    "print(x_tr_title_bow.shape, y_tr.shape)\n",
    "print(x_te_title_bow.shape, y_te.shape)"
   ]
  },
  {
   "cell_type": "code",
   "execution_count": 11,
   "metadata": {},
   "outputs": [
    {
     "name": "stdout",
     "output_type": "stream",
     "text": [
      "After vectorizations\n",
      "(33500, 13740) (33500,)\n",
      "(16500, 13740) (16500,)\n"
     ]
    }
   ],
   "source": [
    "vectorizer = CountVectorizer()\n",
    "vectorizer.fit(x_tr['ppd_res_summary'].values)\n",
    "\n",
    "x_tr_res_summary_bow = vectorizer.transform(x_tr['ppd_res_summary'].values)\n",
    "x_te_res_summary_bow = vectorizer.transform(x_te['ppd_res_summary'].values)\n",
    "\n",
    "print(\"After vectorizations\")\n",
    "print(x_tr_res_summary_bow.shape, y_tr.shape)\n",
    "print(x_te_res_summary_bow.shape, y_te.shape)"
   ]
  },
  {
   "cell_type": "code",
   "execution_count": 12,
   "metadata": {},
   "outputs": [
    {
     "name": "stdout",
     "output_type": "stream",
     "text": [
      "After vectorizations\n",
      "(33500, 9) (33500,)\n",
      "(16500, 9) (16500,)\n"
     ]
    }
   ],
   "source": [
    "vectorizer = CountVectorizer()\n",
    "vectorizer.fit(x_tr['cleaned_subjects'].values)\n",
    "\n",
    "x_tr_subjects_ohe = vectorizer.transform(x_tr['cleaned_subjects'].values)\n",
    "x_te_subjects_ohe = vectorizer.transform(x_te['cleaned_subjects'].values)\n",
    "\n",
    "print(\"After vectorizations\")\n",
    "print(x_tr_subjects_ohe.shape, y_tr.shape)\n",
    "print(x_te_subjects_ohe.shape, y_te.shape)"
   ]
  },
  {
   "cell_type": "code",
   "execution_count": 13,
   "metadata": {},
   "outputs": [
    {
     "name": "stdout",
     "output_type": "stream",
     "text": [
      "After vectorizations\n",
      "(33500, 30) (33500,)\n",
      "(16500, 30) (16500,)\n"
     ]
    }
   ],
   "source": [
    "vectorizer = CountVectorizer()\n",
    "vectorizer.fit(x_tr['project_subject_subcategories'].values)\n",
    "\n",
    "x_tr_subject_subcat_ohe = vectorizer.transform(x_tr['project_subject_subcategories'].values)\n",
    "x_te_subject_subcat_ohe = vectorizer.transform(x_te['project_subject_subcategories'].values)\n",
    "\n",
    "print(\"After vectorizations\")\n",
    "print(x_tr_subject_subcat_ohe.shape, y_tr.shape)\n",
    "print(x_te_subject_subcat_ohe.shape, y_te.shape)"
   ]
  },
  {
   "cell_type": "markdown",
   "metadata": {},
   "source": [
    "# Vectorization of Categorical features"
   ]
  },
  {
   "cell_type": "code",
   "execution_count": 14,
   "metadata": {},
   "outputs": [
    {
     "name": "stdout",
     "output_type": "stream",
     "text": [
      "After vectorizations\n",
      "(33500, 51) (33500,)\n",
      "(16500, 51) (16500,)\n"
     ]
    }
   ],
   "source": [
    "vectorizer = CountVectorizer()\n",
    "vectorizer.fit(x_tr['school_state'].values) # fit has to happen only on train data\n",
    "\n",
    "x_tr_state_ohe = vectorizer.transform(x_tr['school_state'].values)\n",
    "x_te_state_ohe = vectorizer.transform(x_te['school_state'].values)\n",
    "\n",
    "print(\"After vectorizations\")\n",
    "print(x_tr_state_ohe.shape, y_tr.shape)\n",
    "print(x_te_state_ohe.shape, y_te.shape)"
   ]
  },
  {
   "cell_type": "code",
   "execution_count": 15,
   "metadata": {},
   "outputs": [
    {
     "name": "stdout",
     "output_type": "stream",
     "text": [
      "After vectorizations\n",
      "(33500, 5) (33500,)\n",
      "(16500, 5) (16500,)\n"
     ]
    }
   ],
   "source": [
    "vectorizer = CountVectorizer()\n",
    "vectorizer.fit(x_tr['teacher_prefix'].values) # fit has to happen only on train data\n",
    "\n",
    "x_tr_tprefix_ohe = vectorizer.transform(x_tr['teacher_prefix'].values)\n",
    "x_te_tprefix_ohe = vectorizer.transform(x_te['teacher_prefix'].values)\n",
    "\n",
    "print(\"After vectorizations\")\n",
    "print(x_tr_tprefix_ohe.shape, y_tr.shape)\n",
    "print(x_te_tprefix_ohe.shape, y_te.shape)"
   ]
  },
  {
   "cell_type": "code",
   "execution_count": 16,
   "metadata": {},
   "outputs": [
    {
     "name": "stdout",
     "output_type": "stream",
     "text": [
      "After vectorizations\n",
      "(33500, 4) (33500,)\n",
      "(16500, 4) (16500,)\n"
     ]
    }
   ],
   "source": [
    "vectorizer = CountVectorizer()\n",
    "vectorizer.fit(x_tr['project_grade_category'].values) # fit has to happen only on train data\n",
    "\n",
    "x_tr_grade_ohe = vectorizer.transform(x_tr['project_grade_category'].values)\n",
    "x_te_grade_ohe = vectorizer.transform(x_te['project_grade_category'].values)\n",
    "\n",
    "print(\"After vectorizations\")\n",
    "print(x_tr_grade_ohe.shape, y_tr.shape)\n",
    "print(x_te_grade_ohe.shape, y_te.shape)"
   ]
  },
  {
   "cell_type": "markdown",
   "metadata": {},
   "source": [
    "# Normalization - Price, Quantity, Previous Projects, Word_counts"
   ]
  },
  {
   "cell_type": "code",
   "execution_count": 17,
   "metadata": {},
   "outputs": [
    {
     "name": "stdout",
     "output_type": "stream",
     "text": [
      "After vectorizations\n",
      "(33500, 1) (33500,)\n",
      "(16500, 1) (16500,)\n"
     ]
    }
   ],
   "source": [
    "from sklearn.preprocessing import Normalizer\n",
    "normalizer = Normalizer()\n",
    "normalizer.fit(x_tr['price'].values.reshape(-1,1))\n",
    "\n",
    "x_tr_price_norm = normalizer.transform(x_tr['price'].values.reshape(-1,1))\n",
    "x_te_price_norm = normalizer.transform(x_te['price'].values.reshape(-1,1))\n",
    "\n",
    "print(\"After vectorizations\")\n",
    "print(x_tr_price_norm.shape, y_tr.shape)\n",
    "print(x_te_price_norm.shape, y_te.shape)"
   ]
  },
  {
   "cell_type": "code",
   "execution_count": 18,
   "metadata": {},
   "outputs": [
    {
     "name": "stdout",
     "output_type": "stream",
     "text": [
      "After vectorizations\n",
      "(33500, 1) (33500,)\n",
      "(16500, 1) (16500,)\n"
     ]
    }
   ],
   "source": [
    "normalizer = Normalizer()\n",
    "normalizer.fit(x_tr['quantity'].values.reshape(-1,1))\n",
    "\n",
    "x_tr_quantity_norm = normalizer.transform(x_tr['quantity'].values.reshape(-1,1))\n",
    "x_te_quantity_norm = normalizer.transform(x_te['quantity'].values.reshape(-1,1))\n",
    "\n",
    "print(\"After vectorizations\")\n",
    "print(x_tr_quantity_norm.shape, y_tr.shape)\n",
    "print(x_te_quantity_norm.shape, y_te.shape)"
   ]
  },
  {
   "cell_type": "code",
   "execution_count": 19,
   "metadata": {},
   "outputs": [
    {
     "name": "stdout",
     "output_type": "stream",
     "text": [
      "After vectorizations\n",
      "(33500, 1) (33500,)\n",
      "(16500, 1) (16500,)\n"
     ]
    }
   ],
   "source": [
    "normalizer = Normalizer()\n",
    "normalizer.fit(x_tr['teacher_number_of_previously_posted_projects'].values.reshape(-1,1))\n",
    "\n",
    "x_tr_prev_projects_norm = normalizer.transform(x_tr['teacher_number_of_previously_posted_projects'].values.reshape(-1,1))\n",
    "x_te_prev_projects_norm = normalizer.transform(x_te['teacher_number_of_previously_posted_projects'].values.reshape(-1,1))\n",
    "\n",
    "print(\"After vectorizations\")\n",
    "print(x_tr_prev_projects_norm.shape, y_tr.shape)\n",
    "print(x_te_prev_projects_norm.shape, y_te.shape)"
   ]
  },
  {
   "cell_type": "code",
   "execution_count": 20,
   "metadata": {},
   "outputs": [
    {
     "name": "stdout",
     "output_type": "stream",
     "text": [
      "After vectorizations\n",
      "(33500, 1) (33500,)\n",
      "(16500, 1) (16500,)\n"
     ]
    }
   ],
   "source": [
    "normalizer = Normalizer()\n",
    "normalizer.fit(x_tr['essay_word_count'].values.reshape(-1,1))\n",
    "\n",
    "x_tr_essay_word_count_norm = normalizer.transform(x_tr['essay_word_count'].values.reshape(-1,1))\n",
    "x_te_essay_word_count_norm = normalizer.transform(x_te['essay_word_count'].values.reshape(-1,1))\n",
    "\n",
    "print(\"After vectorizations\")\n",
    "print(x_tr_essay_word_count_norm.shape, y_tr.shape)\n",
    "print(x_te_essay_word_count_norm.shape, y_te.shape)"
   ]
  },
  {
   "cell_type": "code",
   "execution_count": 21,
   "metadata": {},
   "outputs": [
    {
     "name": "stdout",
     "output_type": "stream",
     "text": [
      "After vectorizations\n",
      "(33500, 1) (33500,)\n",
      "(16500, 1) (16500,)\n"
     ]
    }
   ],
   "source": [
    "normalizer = Normalizer()\n",
    "normalizer.fit(x_tr['title_word_count'].values.reshape(-1,1))\n",
    "\n",
    "x_tr_title_word_count_norm = normalizer.transform(x_tr['title_word_count'].values.reshape(-1,1))\n",
    "x_te_title_word_count_norm = normalizer.transform(x_te['title_word_count'].values.reshape(-1,1))\n",
    "\n",
    "print(\"After vectorizations\")\n",
    "print(x_tr_title_word_count_norm.shape, y_tr.shape)\n",
    "print(x_te_title_word_count_norm.shape, y_te.shape)"
   ]
  },
  {
   "cell_type": "markdown",
   "metadata": {},
   "source": [
    "# Stacking of vectors"
   ]
  },
  {
   "cell_type": "code",
   "execution_count": 22,
   "metadata": {},
   "outputs": [
    {
     "name": "stdout",
     "output_type": "stream",
     "text": [
      "Final Data matrix\n",
      "(33500, 66346) (33500,)\n",
      "(16500, 66346) (16500,)\n"
     ]
    }
   ],
   "source": [
    "# merge two sparse matrices: https://stackoverflow.com/a/19710648/4084039\n",
    "from scipy.sparse import hstack\n",
    "X_tr = hstack((x_tr_essay_bow, x_tr_title_bow, x_tr_res_summary_bow, x_tr_subjects_ohe, x_tr_subject_subcat_ohe.shape, x_tr_state_ohe.shape, x_tr_tprefix_ohe.shape, x_tr_grade_ohe, x_tr_price_norm, x_tr_quantity_norm, x_tr_prev_projects_norm, x_tr_essay_word_count_norm, x_tr_title_word_count_norm)).tocsr()\n",
    "X_te = hstack((x_te_essay_bow, x_te_title_bow, x_te_res_summary_bow, x_te_subjects_ohe, x_te_subject_subcat_ohe.shape, x_te_state_ohe.shape, x_te_tprefix_ohe.shape, x_te_grade_ohe, x_te_price_norm, x_te_quantity_norm, x_te_prev_projects_norm, x_te_essay_word_count_norm, x_te_title_word_count_norm)).tocsr()\n",
    "\n",
    "print(\"Final Data matrix\")\n",
    "print(X_tr.shape, y_tr.shape)\n",
    "print(X_te.shape, y_te.shape)"
   ]
  },
  {
   "cell_type": "code",
   "execution_count": 23,
   "metadata": {},
   "outputs": [],
   "source": [
    "def batch_predict(clf, data):\n",
    "    # roc_auc_score(y_true, y_score) the 2nd parameter should be probability estimates of the positive class\n",
    "    # not the predicted outputs\n",
    "\n",
    "    y_data_pred = []\n",
    "    tr_loop = data.shape[0] - data.shape[0]%1000\n",
    "    # consider you X_tr shape is 49041, then your tr_loop will be 49041 - 49041%1000 = 49000\n",
    "    # in this for loop we will iterate unti the last 1000 multiplier\n",
    "    for i in range(0, tr_loop, 1000):\n",
    "        y_data_pred.extend(clf.predict_proba(data[i:i+1000])[:,1])\n",
    "    # we will be predicting for the last data points\n",
    "    if data.shape[0]%1000 !=0:\n",
    "        y_data_pred.extend(clf.predict_proba(data[tr_loop:])[:,1])\n",
    "    \n",
    "    return y_data_pred"
   ]
  },
  {
   "cell_type": "code",
   "execution_count": 24,
   "metadata": {},
   "outputs": [
    {
     "data": {
      "image/png": "[encoded data removed]",
      "text/plain": [
       "<Figure size 432x288 with 1 Axes>"
      ]
     },
     "metadata": {},
     "output_type": "display_data"
    },
    {
     "data": {
      "text/html": [
       "<div>\n",
       "<style scoped>\n",
       "    .dataframe tbody tr th:only-of-type {\n",
       "        vertical-align: middle;\n",
       "    }\n",
       "\n",
       "    .dataframe tbody tr th {\n",
       "        vertical-align: top;\n",
       "    }\n",
       "\n",
       "    .dataframe thead th {\n",
       "        text-align: right;\n",
       "    }\n",
       "</style>\n",
       "<table border=\"1\" class=\"dataframe\">\n",
       "  <thead>\n",
       "    <tr style=\"text-align: right;\">\n",
       "      <th></th>\n",
       "      <th>mean_fit_time</th>\n",
       "      <th>std_fit_time</th>\n",
       "      <th>mean_score_time</th>\n",
       "      <th>std_score_time</th>\n",
       "      <th>param_n_neighbors</th>\n",
       "      <th>params</th>\n",
       "      <th>split0_test_score</th>\n",
       "      <th>split1_test_score</th>\n",
       "      <th>split2_test_score</th>\n",
       "      <th>mean_test_score</th>\n",
       "      <th>std_test_score</th>\n",
       "      <th>rank_test_score</th>\n",
       "      <th>split0_train_score</th>\n",
       "      <th>split1_train_score</th>\n",
       "      <th>split2_train_score</th>\n",
       "      <th>mean_train_score</th>\n",
       "      <th>std_train_score</th>\n",
       "    </tr>\n",
       "  </thead>\n",
       "  <tbody>\n",
       "    <tr>\n",
       "      <th>0</th>\n",
       "      <td>0.092665</td>\n",
       "      <td>0.014075</td>\n",
       "      <td>13.977168</td>\n",
       "      <td>0.682865</td>\n",
       "      <td>51</td>\n",
       "      <td>{'n_neighbors': 51}</td>\n",
       "      <td>0.601247</td>\n",
       "      <td>0.592956</td>\n",
       "      <td>0.618616</td>\n",
       "      <td>0.604273</td>\n",
       "      <td>0.010692</td>\n",
       "      <td>7</td>\n",
       "      <td>0.691010</td>\n",
       "      <td>0.689073</td>\n",
       "      <td>0.693167</td>\n",
       "      <td>0.691083</td>\n",
       "      <td>0.001672</td>\n",
       "    </tr>\n",
       "    <tr>\n",
       "      <th>1</th>\n",
       "      <td>0.088510</td>\n",
       "      <td>0.007357</td>\n",
       "      <td>14.514852</td>\n",
       "      <td>0.062380</td>\n",
       "      <td>101</td>\n",
       "      <td>{'n_neighbors': 101}</td>\n",
       "      <td>0.618460</td>\n",
       "      <td>0.606617</td>\n",
       "      <td>0.625115</td>\n",
       "      <td>0.616731</td>\n",
       "      <td>0.007650</td>\n",
       "      <td>6</td>\n",
       "      <td>0.677604</td>\n",
       "      <td>0.675960</td>\n",
       "      <td>0.680952</td>\n",
       "      <td>0.678172</td>\n",
       "      <td>0.002077</td>\n",
       "    </tr>\n",
       "    <tr>\n",
       "      <th>2</th>\n",
       "      <td>0.088521</td>\n",
       "      <td>0.007365</td>\n",
       "      <td>14.656367</td>\n",
       "      <td>0.082140</td>\n",
       "      <td>151</td>\n",
       "      <td>{'n_neighbors': 151}</td>\n",
       "      <td>0.622195</td>\n",
       "      <td>0.614793</td>\n",
       "      <td>0.628081</td>\n",
       "      <td>0.621690</td>\n",
       "      <td>0.005437</td>\n",
       "      <td>5</td>\n",
       "      <td>0.667127</td>\n",
       "      <td>0.664247</td>\n",
       "      <td>0.675212</td>\n",
       "      <td>0.668862</td>\n",
       "      <td>0.004642</td>\n",
       "    </tr>\n",
       "    <tr>\n",
       "      <th>3</th>\n",
       "      <td>0.093733</td>\n",
       "      <td>0.012757</td>\n",
       "      <td>14.658675</td>\n",
       "      <td>0.044710</td>\n",
       "      <td>201</td>\n",
       "      <td>{'n_neighbors': 201}</td>\n",
       "      <td>0.625419</td>\n",
       "      <td>0.625254</td>\n",
       "      <td>0.636568</td>\n",
       "      <td>0.629080</td>\n",
       "      <td>0.005295</td>\n",
       "      <td>4</td>\n",
       "      <td>0.667904</td>\n",
       "      <td>0.660039</td>\n",
       "      <td>0.669078</td>\n",
       "      <td>0.665674</td>\n",
       "      <td>0.004013</td>\n",
       "    </tr>\n",
       "    <tr>\n",
       "      <th>4</th>\n",
       "      <td>0.088520</td>\n",
       "      <td>0.007365</td>\n",
       "      <td>14.893288</td>\n",
       "      <td>0.104142</td>\n",
       "      <td>251</td>\n",
       "      <td>{'n_neighbors': 251}</td>\n",
       "      <td>0.624398</td>\n",
       "      <td>0.625572</td>\n",
       "      <td>0.638770</td>\n",
       "      <td>0.629580</td>\n",
       "      <td>0.006516</td>\n",
       "      <td>3</td>\n",
       "      <td>0.667408</td>\n",
       "      <td>0.658318</td>\n",
       "      <td>0.665935</td>\n",
       "      <td>0.663887</td>\n",
       "      <td>0.003984</td>\n",
       "    </tr>\n",
       "  </tbody>\n",
       "</table>\n",
       "</div>"
      ],
      "text/plain": [
       "   mean_fit_time  std_fit_time  mean_score_time  std_score_time  \\\n",
       "0       0.092665      0.014075        13.977168        0.682865   \n",
       "1       0.088510      0.007357        14.514852        0.062380   \n",
       "2       0.088521      0.007365        14.656367        0.082140   \n",
       "3       0.093733      0.012757        14.658675        0.044710   \n",
       "4       0.088520      0.007365        14.893288        0.104142   \n",
       "\n",
       "  param_n_neighbors                params  split0_test_score  \\\n",
       "0                51   {'n_neighbors': 51}           0.601247   \n",
       "1               101  {'n_neighbors': 101}           0.618460   \n",
       "2               151  {'n_neighbors': 151}           0.622195   \n",
       "3               201  {'n_neighbors': 201}           0.625419   \n",
       "4               251  {'n_neighbors': 251}           0.624398   \n",
       "\n",
       "   split1_test_score  split2_test_score  mean_test_score  std_test_score  \\\n",
       "0           0.592956           0.618616         0.604273        0.010692   \n",
       "1           0.606617           0.625115         0.616731        0.007650   \n",
       "2           0.614793           0.628081         0.621690        0.005437   \n",
       "3           0.625254           0.636568         0.629080        0.005295   \n",
       "4           0.625572           0.638770         0.629580        0.006516   \n",
       "\n",
       "   rank_test_score  split0_train_score  split1_train_score  \\\n",
       "0                7            0.691010            0.689073   \n",
       "1                6            0.677604            0.675960   \n",
       "2                5            0.667127            0.664247   \n",
       "3                4            0.667904            0.660039   \n",
       "4                3            0.667408            0.658318   \n",
       "\n",
       "   split2_train_score  mean_train_score  std_train_score  \n",
       "0            0.693167          0.691083         0.001672  \n",
       "1            0.680952          0.678172         0.002077  \n",
       "2            0.675212          0.668862         0.004642  \n",
       "3            0.669078          0.665674         0.004013  \n",
       "4            0.665935          0.663887         0.003984  "
      ]
     },
     "execution_count": 24,
     "metadata": {},
     "output_type": "execute_result"
    }
   ],
   "source": [
    "# https://scikit-learn.org/stable/modules/generated/sklearn.model_selection.GridSearchCV.html\n",
    "from sklearn.model_selection import GridSearchCV\n",
    "from scipy.stats import randint as sp_randint\n",
    "from sklearn.model_selection import RandomizedSearchCV\n",
    "from sklearn.neighbors import KNeighborsClassifier\n",
    "from sklearn.metrics import roc_auc_score\n",
    "\n",
    "neigh = KNeighborsClassifier(n_jobs=-1)\n",
    "parameters = {'n_neighbors':[51, 101,151,201,251,301,351]}\n",
    "clf = GridSearchCV(neigh, parameters, cv=3, scoring='roc_auc')\n",
    "clf.fit(X_tr, y_tr)\n",
    "\n",
    "results = pd.DataFrame.from_dict(clf.cv_results_)\n",
    "results = results.sort_values(['param_n_neighbors'])\n",
    "\n",
    "train_auc= results['mean_train_score']\n",
    "train_auc_std= results['std_train_score']\n",
    "cv_auc = results['mean_test_score'] \n",
    "cv_auc_std= results['std_test_score']\n",
    "K =  results['param_n_neighbors']\n",
    "\n",
    "plt.plot(K, train_auc, label='Train AUC')\n",
    "\n",
    "plt.plot(K, cv_auc, label='CV AUC')\n",
    "\n",
    "plt.scatter(K, train_auc, label='Train AUC points')\n",
    "plt.scatter(K, cv_auc, label='CV AUC points')\n",
    "\n",
    "\n",
    "plt.legend()\n",
    "plt.xlabel(\"K\")\n",
    "plt.ylabel(\"AUC\")\n",
    "plt.title(\"K Vs AUC\")\n",
    "plt.grid()\n",
    "plt.show()\n",
    "\n",
    "results.head()"
   ]
  },
  {
   "cell_type": "code",
   "execution_count": 26,
   "metadata": {},
   "outputs": [
    {
     "data": {
      "image/png": "[encoded data removed]",
      "text/plain": [
       "<Figure size 432x288 with 1 Axes>"
      ]
     },
     "metadata": {},
     "output_type": "display_data"
    }
   ],
   "source": [
    "from sklearn.metrics import roc_curve, auc\n",
    "\n",
    "neigh = KNeighborsClassifier(n_neighbors=351, n_jobs=-1)\n",
    "neigh.fit(X_tr, y_tr)\n",
    "# roc_auc_score(y_true, y_score) the 2nd parameter should be probability estimates of the positive class\n",
    "# not the predicted outputs\n",
    "\n",
    "#y_tr_pred = neigh.predict_proba(X_tr)   \n",
    "#y_te_pred = neigh.predict_proba(X_te)\n",
    "\n",
    "y_tr_pred = batch_predict(neigh, X_tr)    \n",
    "y_te_pred = batch_predict(neigh, X_te)\n",
    "\n",
    "train_fpr, train_tpr, tr_thresholds = roc_curve(y_tr, y_tr_pred)\n",
    "test_fpr, test_tpr, te_thresholds = roc_curve(y_te, y_te_pred)\n",
    "\n",
    "plt.plot(train_fpr, train_tpr, label=\"train AUC =\"+str(auc(train_fpr, train_tpr)))\n",
    "plt.plot(test_fpr, test_tpr, label=\"test AUC =\"+str(auc(test_fpr, test_tpr)))\n",
    "plt.legend()\n",
    "plt.xlabel(\"K\")\n",
    "plt.ylabel(\"AUC\")\n",
    "plt.title(\"ERROR PLOTS\")\n",
    "plt.grid()\n",
    "plt.show()"
   ]
  },
  {
   "cell_type": "code",
   "execution_count": 28,
   "metadata": {},
   "outputs": [],
   "source": [
    "# we are writing our own function for predict, with defined thresould\n",
    "# we will pick a threshold that will give the least fpr\n",
    "def find_best_threshold(threshold, fpr, tpr):\n",
    "    t = threshold[np.argmax(tpr*(1-fpr))]\n",
    "    # (tpr*(1-fpr)) will be maximum if your fpr is very low and tpr is very high\n",
    "    print(\"the maximum value of tpr*(1-fpr)\", max(tpr*(1-fpr)), \"for threshold\", np.round(t,3))\n",
    "    print(\"50*=\")\n",
    "    return t\n",
    "\n",
    "def predict_with_best_t(proba, threshold):\n",
    "    predictions = []\n",
    "    for i in proba:\n",
    "        if i>=threshold:\n",
    "            predictions.append(1)\n",
    "        else:\n",
    "            predictions.append(0)\n",
    "    return predictions"
   ]
  },
  {
   "cell_type": "code",
   "execution_count": 32,
   "metadata": {},
   "outputs": [
    {
     "name": "stdout",
     "output_type": "stream",
     "text": [
      "the maximum value of tpr*(1-fpr) 0.384082344473777 for threshold 0.792\n",
      "==================================================\n",
      "Train confusion matrix\n",
      "[[ 3207  1891]\n",
      " [11061 17341]]\n",
      "==================================================\n",
      "Test confusion matrix\n",
      "[[1534  977]\n",
      " [5543 8446]]\n",
      "==================================================\n",
      "Train F1 Score\n",
      "0.7280933786790948\n",
      "==================================================\n",
      "Test F1 Score\n",
      "0.7215103365795319\n"
     ]
    }
   ],
   "source": [
    "from sklearn.metrics import confusion_matrix\n",
    "from sklearn.metrics import f1_score\n",
    "\n",
    "best_t = find_best_threshold(tr_thresholds, train_fpr, train_tpr)\n",
    "print(50*\"=\")\n",
    "print(\"Train confusion matrix\")\n",
    "print(confusion_matrix(y_tr, predict_with_best_t(y_tr_pred, best_t)))\n",
    "print(50*\"=\")\n",
    "print(\"Test confusion matrix\")\n",
    "print(confusion_matrix(y_te, predict_with_best_t(y_te_pred, best_t)))\n",
    "print(50*\"=\")\n",
    "print(\"Train F1 Score\")\n",
    "print(f1_score(y_tr, predict_with_best_t(y_tr_pred, best_t)))\n",
    "print(50*\"=\")\n",
    "print(\"Test F1 Score\")\n",
    "print(f1_score(y_te, predict_with_best_t(y_te_pred, best_t)))"
   ]
  },
  {
   "cell_type": "markdown",
   "metadata": {},
   "source": [
    "# Naive Bayes"
   ]
  },
  {
   "cell_type": "code",
   "execution_count": 35,
   "metadata": {},
   "outputs": [
    {
     "data": {
      "image/png": "[encoded data removed]",
      "text/plain": [
       "<Figure size 432x288 with 1 Axes>"
      ]
     },
     "metadata": {},
     "output_type": "display_data"
    },
    {
     "data": {
      "text/html": [
       "<div>\n",
       "<style scoped>\n",
       "    .dataframe tbody tr th:only-of-type {\n",
       "        vertical-align: middle;\n",
       "    }\n",
       "\n",
       "    .dataframe tbody tr th {\n",
       "        vertical-align: top;\n",
       "    }\n",
       "\n",
       "    .dataframe thead th {\n",
       "        text-align: right;\n",
       "    }\n",
       "</style>\n",
       "<table border=\"1\" class=\"dataframe\">\n",
       "  <thead>\n",
       "    <tr style=\"text-align: right;\">\n",
       "      <th></th>\n",
       "      <th>mean_fit_time</th>\n",
       "      <th>std_fit_time</th>\n",
       "      <th>mean_score_time</th>\n",
       "      <th>std_score_time</th>\n",
       "      <th>param_alpha</th>\n",
       "      <th>params</th>\n",
       "      <th>split0_test_score</th>\n",
       "      <th>split1_test_score</th>\n",
       "      <th>split2_test_score</th>\n",
       "      <th>mean_test_score</th>\n",
       "      <th>std_test_score</th>\n",
       "      <th>rank_test_score</th>\n",
       "      <th>split0_train_score</th>\n",
       "      <th>split1_train_score</th>\n",
       "      <th>split2_train_score</th>\n",
       "      <th>mean_train_score</th>\n",
       "      <th>std_train_score</th>\n",
       "    </tr>\n",
       "  </thead>\n",
       "  <tbody>\n",
       "    <tr>\n",
       "      <th>0</th>\n",
       "      <td>0.122405</td>\n",
       "      <td>0.021176</td>\n",
       "      <td>0.031313</td>\n",
       "      <td>0.006377</td>\n",
       "      <td>1e-05</td>\n",
       "      <td>{'alpha': 1e-05}</td>\n",
       "      <td>0.631978</td>\n",
       "      <td>0.639576</td>\n",
       "      <td>0.636652</td>\n",
       "      <td>0.636068</td>\n",
       "      <td>0.003129</td>\n",
       "      <td>11</td>\n",
       "      <td>0.982104</td>\n",
       "      <td>0.983197</td>\n",
       "      <td>0.983350</td>\n",
       "      <td>0.982884</td>\n",
       "      <td>0.000555</td>\n",
       "    </tr>\n",
       "    <tr>\n",
       "      <th>2</th>\n",
       "      <td>0.104935</td>\n",
       "      <td>0.015849</td>\n",
       "      <td>0.018823</td>\n",
       "      <td>0.003505</td>\n",
       "      <td>0.0001</td>\n",
       "      <td>{'alpha': 0.0001}</td>\n",
       "      <td>0.649517</td>\n",
       "      <td>0.653993</td>\n",
       "      <td>0.649922</td>\n",
       "      <td>0.651144</td>\n",
       "      <td>0.002021</td>\n",
       "      <td>10</td>\n",
       "      <td>0.979096</td>\n",
       "      <td>0.980212</td>\n",
       "      <td>0.980433</td>\n",
       "      <td>0.979914</td>\n",
       "      <td>0.000585</td>\n",
       "    </tr>\n",
       "    <tr>\n",
       "      <th>1</th>\n",
       "      <td>0.120922</td>\n",
       "      <td>0.021401</td>\n",
       "      <td>0.021550</td>\n",
       "      <td>0.006910</td>\n",
       "      <td>0.0005</td>\n",
       "      <td>{'alpha': 0.0005}</td>\n",
       "      <td>0.660567</td>\n",
       "      <td>0.662146</td>\n",
       "      <td>0.660853</td>\n",
       "      <td>0.661189</td>\n",
       "      <td>0.000687</td>\n",
       "      <td>8</td>\n",
       "      <td>0.976001</td>\n",
       "      <td>0.977102</td>\n",
       "      <td>0.977396</td>\n",
       "      <td>0.976833</td>\n",
       "      <td>0.000601</td>\n",
       "    </tr>\n",
       "    <tr>\n",
       "      <th>4</th>\n",
       "      <td>0.114100</td>\n",
       "      <td>0.012202</td>\n",
       "      <td>0.023874</td>\n",
       "      <td>0.006408</td>\n",
       "      <td>0.001</td>\n",
       "      <td>{'alpha': 0.001}</td>\n",
       "      <td>0.664742</td>\n",
       "      <td>0.667080</td>\n",
       "      <td>0.665810</td>\n",
       "      <td>0.665877</td>\n",
       "      <td>0.000956</td>\n",
       "      <td>7</td>\n",
       "      <td>0.974276</td>\n",
       "      <td>0.975372</td>\n",
       "      <td>0.975706</td>\n",
       "      <td>0.975118</td>\n",
       "      <td>0.000611</td>\n",
       "    </tr>\n",
       "    <tr>\n",
       "      <th>3</th>\n",
       "      <td>0.107314</td>\n",
       "      <td>0.006167</td>\n",
       "      <td>0.022277</td>\n",
       "      <td>0.004854</td>\n",
       "      <td>0.005</td>\n",
       "      <td>{'alpha': 0.005}</td>\n",
       "      <td>0.675083</td>\n",
       "      <td>0.679060</td>\n",
       "      <td>0.676384</td>\n",
       "      <td>0.676842</td>\n",
       "      <td>0.001655</td>\n",
       "      <td>6</td>\n",
       "      <td>0.968893</td>\n",
       "      <td>0.969992</td>\n",
       "      <td>0.970444</td>\n",
       "      <td>0.969776</td>\n",
       "      <td>0.000651</td>\n",
       "    </tr>\n",
       "  </tbody>\n",
       "</table>\n",
       "</div>"
      ],
      "text/plain": [
       "   mean_fit_time  std_fit_time  mean_score_time  std_score_time param_alpha  \\\n",
       "0       0.122405      0.021176         0.031313        0.006377       1e-05   \n",
       "2       0.104935      0.015849         0.018823        0.003505      0.0001   \n",
       "1       0.120922      0.021401         0.021550        0.006910      0.0005   \n",
       "4       0.114100      0.012202         0.023874        0.006408       0.001   \n",
       "3       0.107314      0.006167         0.022277        0.004854       0.005   \n",
       "\n",
       "              params  split0_test_score  split1_test_score  split2_test_score  \\\n",
       "0   {'alpha': 1e-05}           0.631978           0.639576           0.636652   \n",
       "2  {'alpha': 0.0001}           0.649517           0.653993           0.649922   \n",
       "1  {'alpha': 0.0005}           0.660567           0.662146           0.660853   \n",
       "4   {'alpha': 0.001}           0.664742           0.667080           0.665810   \n",
       "3   {'alpha': 0.005}           0.675083           0.679060           0.676384   \n",
       "\n",
       "   mean_test_score  std_test_score  rank_test_score  split0_train_score  \\\n",
       "0         0.636068        0.003129               11            0.982104   \n",
       "2         0.651144        0.002021               10            0.979096   \n",
       "1         0.661189        0.000687                8            0.976001   \n",
       "4         0.665877        0.000956                7            0.974276   \n",
       "3         0.676842        0.001655                6            0.968893   \n",
       "\n",
       "   split1_train_score  split2_train_score  mean_train_score  std_train_score  \n",
       "0            0.983197            0.983350          0.982884         0.000555  \n",
       "2            0.980212            0.980433          0.979914         0.000585  \n",
       "1            0.977102            0.977396          0.976833         0.000601  \n",
       "4            0.975372            0.975706          0.975118         0.000611  \n",
       "3            0.969992            0.970444          0.969776         0.000651  "
      ]
     },
     "execution_count": 35,
     "metadata": {},
     "output_type": "execute_result"
    }
   ],
   "source": [
    "from sklearn.model_selection import GridSearchCV\n",
    "from sklearn.naive_bayes import MultinomialNB\n",
    "from sklearn.metrics import roc_auc_score\n",
    "\n",
    "nb = MultinomialNB()\n",
    "parameters = {'alpha':[0.00001,0.0005, 0.0001,0.005,0.001,0.05,0.01,0.1,0.5,1,5,10,50,100]}\n",
    "clf = GridSearchCV(nb, parameters, cv=3, scoring='roc_auc')\n",
    "clf.fit(X_tr, y_tr)\n",
    "\n",
    "results = pd.DataFrame.from_dict(clf.cv_results_)\n",
    "results = results.sort_values(['param_alpha'])\n",
    "\n",
    "train_auc= results['mean_train_score']\n",
    "train_auc_std= results['std_train_score']\n",
    "cv_auc = results['mean_test_score'] \n",
    "cv_auc_std= results['std_test_score']\n",
    "alp =  results['param_alpha']\n",
    "\n",
    "plt.plot(alp, train_auc, label='Train AUC')\n",
    "# this code is copied from here: https://stackoverflow.com/a/48803361/4084039\n",
    "# plt.gca().fill_between(K, train_auc - train_auc_std,train_auc + train_auc_std,alpha=0.2,color='darkblue')\n",
    "\n",
    "plt.plot(alp, cv_auc, label='CV AUC')\n",
    "# this code is copied from here: https://stackoverflow.com/a/48803361/4084039\n",
    "# plt.gca().fill_between(K, cv_auc - cv_auc_std,cv_auc + cv_auc_std,alpha=0.2,color='darkorange')\n",
    "\n",
    "plt.scatter(alp, train_auc, label='Train AUC points')\n",
    "plt.scatter(alp, cv_auc, label='CV AUC points')\n",
    "\n",
    "\n",
    "plt.legend()\n",
    "plt.xlabel(\"Alpha\")\n",
    "plt.ylabel(\"AUC\")\n",
    "plt.title(\"Alpha Vs AUC\")\n",
    "plt.grid()\n",
    "plt.show()\n",
    "\n",
    "results.head()"
   ]
  },
  {
   "cell_type": "code",
   "execution_count": null,
   "metadata": {},
   "outputs": [],
   "source": []
  }
 ],
 "metadata": {
  "kernelspec": {
   "display_name": "Python 3",
   "language": "python",
   "name": "python3"
  },
  "language_info": {
   "codemirror_mode": {
    "name": "ipython",
    "version": 3
   },
   "file_extension": ".py",
   "mimetype": "text/x-python",
   "name": "python",
   "nbconvert_exporter": "python",
   "pygments_lexer": "ipython3",
   "version": "3.6.5"
  }
 },
 "nbformat": 4,
 "nbformat_minor": 2
}
