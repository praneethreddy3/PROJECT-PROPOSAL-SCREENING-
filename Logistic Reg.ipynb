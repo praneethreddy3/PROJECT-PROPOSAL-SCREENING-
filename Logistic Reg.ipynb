{
 "cells": [
  {
   "cell_type": "code",
   "execution_count": 1,
   "metadata": {},
   "outputs": [],
   "source": [
    "%matplotlib inline\n",
    "import warnings\n",
    "warnings.filterwarnings(\"ignore\")\n",
    "\n",
    "import pandas as pd\n",
    "import numpy as np\n",
    "import nltk\n",
    "import matplotlib.pyplot as plt\n",
    "import seaborn as sns\n",
    "from sklearn.feature_extraction.text import TfidfVectorizer\n",
    "from sklearn.feature_extraction.text import CountVectorizer\n",
    "from sklearn.metrics import confusion_matrix\n",
    "from sklearn import metrics\n",
    "from sklearn.metrics import roc_curve, auc\n",
    "\n",
    "from sklearn.linear_model import LogisticRegression\n",
    "\n",
    "import re\n",
    "# Tutorial about Python regular expressions: https://pymotw.com/2/re/\n",
    "\n",
    "import pickle\n",
    "from tqdm import tqdm\n",
    "import os\n",
    "\n",
    "#from plotly import plotly\n",
    "#import plotly.offline as offline\n",
    "#import plotly.graph_objs as go\n",
    "#offline.init_notebook_mode()\n",
    "from collections import Counter"
   ]
  },
  {
   "cell_type": "code",
   "execution_count": 2,
   "metadata": {},
   "outputs": [],
   "source": [
    "preprocessed_data = pd.read_csv('preprocessed_data.csv')"
   ]
  },
  {
   "cell_type": "code",
   "execution_count": 3,
   "metadata": {},
   "outputs": [
    {
     "data": {
      "text/plain": [
       "(109248, 16)"
      ]
     },
     "execution_count": 3,
     "metadata": {},
     "output_type": "execute_result"
    }
   ],
   "source": [
    "preprocessed_data.shape"
   ]
  },
  {
   "cell_type": "markdown",
   "metadata": {},
   "source": [
    "# Splitting data into X & Y"
   ]
  },
  {
   "cell_type": "code",
   "execution_count": 4,
   "metadata": {},
   "outputs": [
    {
     "data": {
      "text/html": [
       "<div>\n",
       "<style scoped>\n",
       "    .dataframe tbody tr th:only-of-type {\n",
       "        vertical-align: middle;\n",
       "    }\n",
       "\n",
       "    .dataframe tbody tr th {\n",
       "        vertical-align: top;\n",
       "    }\n",
       "\n",
       "    .dataframe thead th {\n",
       "        text-align: right;\n",
       "    }\n",
       "</style>\n",
       "<table border=\"1\" class=\"dataframe\">\n",
       "  <thead>\n",
       "    <tr style=\"text-align: right;\">\n",
       "      <th></th>\n",
       "      <th>Unnamed: 0</th>\n",
       "      <th>teacher_prefix</th>\n",
       "      <th>project_grade_category</th>\n",
       "      <th>project_subject_subcategories</th>\n",
       "      <th>teacher_number_of_previously_posted_projects</th>\n",
       "      <th>year_month</th>\n",
       "      <th>cleaned_subjects</th>\n",
       "      <th>ppd_essays</th>\n",
       "      <th>ppd_res_summary</th>\n",
       "      <th>price</th>\n",
       "      <th>quantity</th>\n",
       "      <th>essay_word_count</th>\n",
       "      <th>title_word_count</th>\n",
       "      <th>ppd_titles</th>\n",
       "      <th>school_state</th>\n",
       "    </tr>\n",
       "  </thead>\n",
       "  <tbody>\n",
       "    <tr>\n",
       "      <th>0</th>\n",
       "      <td>41656</td>\n",
       "      <td>mrs</td>\n",
       "      <td>grades_6_8</td>\n",
       "      <td>Literature_Writing &amp; Special_Needs</td>\n",
       "      <td>11</td>\n",
       "      <td>17-03</td>\n",
       "      <td>Literacy_Language &amp; Special_Needs</td>\n",
       "      <td>remember given work independently seat teacher...</td>\n",
       "      <td>students need reading kits reading writing ski...</td>\n",
       "      <td>343.97</td>\n",
       "      <td>10</td>\n",
       "      <td>240</td>\n",
       "      <td>6</td>\n",
       "      <td>i do we do you do</td>\n",
       "      <td>il</td>\n",
       "    </tr>\n",
       "  </tbody>\n",
       "</table>\n",
       "</div>"
      ],
      "text/plain": [
       "   Unnamed: 0 teacher_prefix project_grade_category  \\\n",
       "0       41656            mrs             grades_6_8   \n",
       "\n",
       "        project_subject_subcategories  \\\n",
       "0  Literature_Writing & Special_Needs   \n",
       "\n",
       "   teacher_number_of_previously_posted_projects year_month  \\\n",
       "0                                            11      17-03   \n",
       "\n",
       "                    cleaned_subjects  \\\n",
       "0  Literacy_Language & Special_Needs   \n",
       "\n",
       "                                          ppd_essays  \\\n",
       "0  remember given work independently seat teacher...   \n",
       "\n",
       "                                     ppd_res_summary   price  quantity  \\\n",
       "0  students need reading kits reading writing ski...  343.97        10   \n",
       "\n",
       "   essay_word_count  title_word_count         ppd_titles school_state  \n",
       "0               240                 6  i do we do you do           il  "
      ]
     },
     "execution_count": 4,
     "metadata": {},
     "output_type": "execute_result"
    }
   ],
   "source": [
    "y = preprocessed_data['project_is_approved'].values\n",
    "x = preprocessed_data.drop(['project_is_approved'], axis=1)\n",
    "x.head(1)"
   ]
  },
  {
   "cell_type": "markdown",
   "metadata": {},
   "source": [
    "# Splitting data into Train & Test data (No need for sep. CV because we are doing N-fold Grid Search CV)"
   ]
  },
  {
   "cell_type": "code",
   "execution_count": 6,
   "metadata": {},
   "outputs": [
    {
     "name": "stdout",
     "output_type": "stream",
     "text": [
      "[0 0 0 ... 1 1 1]\n",
      "<class 'numpy.ndarray'>\n"
     ]
    },
    {
     "data": {
      "text/plain": [
       "109248"
      ]
     },
     "execution_count": 6,
     "metadata": {},
     "output_type": "execute_result"
    }
   ],
   "source": [
    "print(y)\n",
    "print(type(y))\n",
    "y.size"
   ]
  },
  {
   "cell_type": "code",
   "execution_count": 7,
   "metadata": {},
   "outputs": [
    {
     "name": "stdout",
     "output_type": "stream",
     "text": [
      "73196\n",
      "36052\n",
      "(73196, 15)\n",
      "(36052, 15)\n"
     ]
    }
   ],
   "source": [
    "from sklearn.model_selection import train_test_split\n",
    "x_tr, x_te, y_tr, y_te = train_test_split(x, y, test_size=0.33, stratify=y)\n",
    "\n",
    "print(y_tr.size)\n",
    "print(y_te.size)\n",
    "print(x_tr.shape)\n",
    "print(x_te.shape)"
   ]
  },
  {
   "cell_type": "markdown",
   "metadata": {},
   "source": [
    "# Vectorization - Essay, Project_title, Project Summary"
   ]
  },
  {
   "cell_type": "code",
   "execution_count": 9,
   "metadata": {},
   "outputs": [
    {
     "name": "stdout",
     "output_type": "stream",
     "text": [
      "After vectorizations\n",
      "(73196, 234927) (73196,)\n",
      "(36052, 234927) (36052,)\n"
     ]
    }
   ],
   "source": [
    "vectorizer = CountVectorizer(min_df=10,ngram_range=(1,4))\n",
    "vectorizer.fit(x_tr['ppd_essays'].values) # fit has to happen only on train data\n",
    "\n",
    "# we use the fitted CountVectorizer to convert the text to vector\n",
    "x_tr_essay_bow = vectorizer.transform(x_tr['ppd_essays'].values)\n",
    "x_te_essay_bow = vectorizer.transform(x_te['ppd_essays'].values)\n",
    "\n",
    "print(\"After vectorizations\")\n",
    "print(x_tr_essay_bow.shape, y_tr.shape)\n",
    "print(x_te_essay_bow.shape, y_te.shape)"
   ]
  },
  {
   "cell_type": "code",
   "execution_count": 10,
   "metadata": {},
   "outputs": [
    {
     "name": "stdout",
     "output_type": "stream",
     "text": [
      "After vectorizations\n",
      "(73196, 14057) (73196,)\n",
      "(36052, 14057) (36052,)\n"
     ]
    }
   ],
   "source": [
    "vectorizer = CountVectorizer()\n",
    "vectorizer.fit(x_tr['ppd_titles'].values) # fit has to happen only on train data\n",
    "\n",
    "x_tr_title_bow = vectorizer.transform(x_tr['ppd_titles'].values)\n",
    "x_te_title_bow = vectorizer.transform(x_te['ppd_titles'].values)\n",
    "\n",
    "print(\"After vectorizations\")\n",
    "print(x_tr_title_bow.shape, y_tr.shape)\n",
    "print(x_te_title_bow.shape, y_te.shape)"
   ]
  },
  {
   "cell_type": "code",
   "execution_count": 11,
   "metadata": {},
   "outputs": [
    {
     "name": "stdout",
     "output_type": "stream",
     "text": [
      "After vectorizations\n",
      "(73196, 18803) (73196,)\n",
      "(36052, 18803) (36052,)\n"
     ]
    }
   ],
   "source": [
    "vectorizer = CountVectorizer()\n",
    "vectorizer.fit(x_tr['ppd_res_summary'].values)\n",
    "\n",
    "x_tr_res_summary_bow = vectorizer.transform(x_tr['ppd_res_summary'].values)\n",
    "x_te_res_summary_bow = vectorizer.transform(x_te['ppd_res_summary'].values)\n",
    "\n",
    "print(\"After vectorizations\")\n",
    "print(x_tr_res_summary_bow.shape, y_tr.shape)\n",
    "print(x_te_res_summary_bow.shape, y_te.shape)"
   ]
  },
  {
   "cell_type": "code",
   "execution_count": 12,
   "metadata": {},
   "outputs": [
    {
     "name": "stdout",
     "output_type": "stream",
     "text": [
      "After vectorizations\n",
      "(73196, 9) (73196,)\n",
      "(36052, 9) (36052,)\n"
     ]
    }
   ],
   "source": [
    "vectorizer = CountVectorizer()\n",
    "vectorizer.fit(x_tr['cleaned_subjects'].values)\n",
    "\n",
    "x_tr_subjects_ohe = vectorizer.transform(x_tr['cleaned_subjects'].values)\n",
    "x_te_subjects_ohe = vectorizer.transform(x_te['cleaned_subjects'].values)\n",
    "\n",
    "print(\"After vectorizations\")\n",
    "print(x_tr_subjects_ohe.shape, y_tr.shape)\n",
    "print(x_te_subjects_ohe.shape, y_te.shape)"
   ]
  },
  {
   "cell_type": "code",
   "execution_count": 13,
   "metadata": {},
   "outputs": [
    {
     "name": "stdout",
     "output_type": "stream",
     "text": [
      "After vectorizations\n",
      "(73196, 30) (73196,)\n",
      "(36052, 30) (36052,)\n"
     ]
    }
   ],
   "source": [
    "vectorizer = CountVectorizer()\n",
    "vectorizer.fit(x_tr['project_subject_subcategories'].values)\n",
    "\n",
    "x_tr_subject_subcat_ohe = vectorizer.transform(x_tr['project_subject_subcategories'].values)\n",
    "x_te_subject_subcat_ohe = vectorizer.transform(x_te['project_subject_subcategories'].values)\n",
    "\n",
    "print(\"After vectorizations\")\n",
    "print(x_tr_subject_subcat_ohe.shape, y_tr.shape)\n",
    "print(x_te_subject_subcat_ohe.shape, y_te.shape)"
   ]
  },
  {
   "cell_type": "markdown",
   "metadata": {},
   "source": [
    "# Vectorization of Categorical features"
   ]
  },
  {
   "cell_type": "code",
   "execution_count": 14,
   "metadata": {},
   "outputs": [
    {
     "name": "stdout",
     "output_type": "stream",
     "text": [
      "After vectorizations\n",
      "(73196, 51) (73196,)\n",
      "(36052, 51) (36052,)\n"
     ]
    }
   ],
   "source": [
    "vectorizer = CountVectorizer()\n",
    "vectorizer.fit(x_tr['school_state'].values) # fit has to happen only on train data\n",
    "\n",
    "x_tr_state_ohe = vectorizer.transform(x_tr['school_state'].values)\n",
    "x_te_state_ohe = vectorizer.transform(x_te['school_state'].values)\n",
    "\n",
    "print(\"After vectorizations\")\n",
    "print(x_tr_state_ohe.shape, y_tr.shape)\n",
    "print(x_te_state_ohe.shape, y_te.shape)"
   ]
  },
  {
   "cell_type": "code",
   "execution_count": 15,
   "metadata": {},
   "outputs": [
    {
     "name": "stdout",
     "output_type": "stream",
     "text": [
      "After vectorizations\n",
      "(73196, 5) (73196,)\n",
      "(36052, 5) (36052,)\n"
     ]
    }
   ],
   "source": [
    "vectorizer = CountVectorizer()\n",
    "vectorizer.fit(x_tr['teacher_prefix'].values) # fit has to happen only on train data\n",
    "\n",
    "x_tr_tprefix_ohe = vectorizer.transform(x_tr['teacher_prefix'].values)\n",
    "x_te_tprefix_ohe = vectorizer.transform(x_te['teacher_prefix'].values)\n",
    "\n",
    "print(\"After vectorizations\")\n",
    "print(x_tr_tprefix_ohe.shape, y_tr.shape)\n",
    "print(x_te_tprefix_ohe.shape, y_te.shape)"
   ]
  },
  {
   "cell_type": "code",
   "execution_count": 16,
   "metadata": {},
   "outputs": [
    {
     "name": "stdout",
     "output_type": "stream",
     "text": [
      "After vectorizations\n",
      "(73196, 4) (73196,)\n",
      "(36052, 4) (36052,)\n"
     ]
    }
   ],
   "source": [
    "vectorizer = CountVectorizer()\n",
    "vectorizer.fit(x_tr['project_grade_category'].values) # fit has to happen only on train data\n",
    "\n",
    "x_tr_grade_ohe = vectorizer.transform(x_tr['project_grade_category'].values)\n",
    "x_te_grade_ohe = vectorizer.transform(x_te['project_grade_category'].values)\n",
    "\n",
    "print(\"After vectorizations\")\n",
    "print(x_tr_grade_ohe.shape, y_tr.shape)\n",
    "print(x_te_grade_ohe.shape, y_te.shape)"
   ]
  },
  {
   "cell_type": "markdown",
   "metadata": {},
   "source": [
    "# Normalization - Price, Quantity, Previous Projects, Word_counts"
   ]
  },
  {
   "cell_type": "code",
   "execution_count": 17,
   "metadata": {},
   "outputs": [
    {
     "name": "stdout",
     "output_type": "stream",
     "text": [
      "After vectorizations\n",
      "(73196, 1) (73196,)\n",
      "(36052, 1) (36052,)\n"
     ]
    }
   ],
   "source": [
    "from sklearn.preprocessing import Normalizer\n",
    "normalizer = Normalizer()\n",
    "normalizer.fit(x_tr['price'].values.reshape(-1,1))\n",
    "\n",
    "x_tr_price_norm = normalizer.transform(x_tr['price'].values.reshape(-1,1))\n",
    "x_te_price_norm = normalizer.transform(x_te['price'].values.reshape(-1,1))\n",
    "\n",
    "print(\"After vectorizations\")\n",
    "print(x_tr_price_norm.shape, y_tr.shape)\n",
    "print(x_te_price_norm.shape, y_te.shape)"
   ]
  },
  {
   "cell_type": "code",
   "execution_count": 18,
   "metadata": {},
   "outputs": [
    {
     "name": "stdout",
     "output_type": "stream",
     "text": [
      "After vectorizations\n",
      "(73196, 1) (73196,)\n",
      "(36052, 1) (36052,)\n"
     ]
    }
   ],
   "source": [
    "normalizer = Normalizer()\n",
    "normalizer.fit(x_tr['quantity'].values.reshape(-1,1))\n",
    "\n",
    "x_tr_quantity_norm = normalizer.transform(x_tr['quantity'].values.reshape(-1,1))\n",
    "x_te_quantity_norm = normalizer.transform(x_te['quantity'].values.reshape(-1,1))\n",
    "\n",
    "print(\"After vectorizations\")\n",
    "print(x_tr_quantity_norm.shape, y_tr.shape)\n",
    "print(x_te_quantity_norm.shape, y_te.shape)"
   ]
  },
  {
   "cell_type": "code",
   "execution_count": 19,
   "metadata": {},
   "outputs": [
    {
     "name": "stdout",
     "output_type": "stream",
     "text": [
      "After vectorizations\n",
      "(73196, 1) (73196,)\n",
      "(36052, 1) (36052,)\n"
     ]
    }
   ],
   "source": [
    "normalizer = Normalizer()\n",
    "normalizer.fit(x_tr['teacher_number_of_previously_posted_projects'].values.reshape(-1,1))\n",
    "\n",
    "x_tr_prev_projects_norm = normalizer.transform(x_tr['teacher_number_of_previously_posted_projects'].values.reshape(-1,1))\n",
    "x_te_prev_projects_norm = normalizer.transform(x_te['teacher_number_of_previously_posted_projects'].values.reshape(-1,1))\n",
    "\n",
    "print(\"After vectorizations\")\n",
    "print(x_tr_prev_projects_norm.shape, y_tr.shape)\n",
    "print(x_te_prev_projects_norm.shape, y_te.shape)"
   ]
  },
  {
   "cell_type": "code",
   "execution_count": 20,
   "metadata": {},
   "outputs": [
    {
     "name": "stdout",
     "output_type": "stream",
     "text": [
      "After vectorizations\n",
      "(73196, 1) (73196,)\n",
      "(36052, 1) (36052,)\n"
     ]
    }
   ],
   "source": [
    "normalizer = Normalizer()\n",
    "normalizer.fit(x_tr['essay_word_count'].values.reshape(-1,1))\n",
    "\n",
    "x_tr_essay_word_count_norm = normalizer.transform(x_tr['essay_word_count'].values.reshape(-1,1))\n",
    "x_te_essay_word_count_norm = normalizer.transform(x_te['essay_word_count'].values.reshape(-1,1))\n",
    "\n",
    "print(\"After vectorizations\")\n",
    "print(x_tr_essay_word_count_norm.shape, y_tr.shape)\n",
    "print(x_te_essay_word_count_norm.shape, y_te.shape)"
   ]
  },
  {
   "cell_type": "code",
   "execution_count": 21,
   "metadata": {},
   "outputs": [
    {
     "name": "stdout",
     "output_type": "stream",
     "text": [
      "After vectorizations\n",
      "(73196, 1) (73196,)\n",
      "(36052, 1) (36052,)\n"
     ]
    }
   ],
   "source": [
    "normalizer = Normalizer()\n",
    "normalizer.fit(x_tr['title_word_count'].values.reshape(-1,1))\n",
    "\n",
    "x_tr_title_word_count_norm = normalizer.transform(x_tr['title_word_count'].values.reshape(-1,1))\n",
    "x_te_title_word_count_norm = normalizer.transform(x_te['title_word_count'].values.reshape(-1,1))\n",
    "\n",
    "print(\"After vectorizations\")\n",
    "print(x_tr_title_word_count_norm.shape, y_tr.shape)\n",
    "print(x_te_title_word_count_norm.shape, y_te.shape)"
   ]
  },
  {
   "cell_type": "markdown",
   "metadata": {},
   "source": [
    "# Stacking of vectors"
   ]
  },
  {
   "cell_type": "code",
   "execution_count": 22,
   "metadata": {},
   "outputs": [
    {
     "name": "stdout",
     "output_type": "stream",
     "text": [
      "Final Data matrix\n",
      "(73196, 267891) (73196,)\n",
      "(36052, 267891) (36052,)\n"
     ]
    }
   ],
   "source": [
    "# merge two sparse matrices: https://stackoverflow.com/a/19710648/4084039\n",
    "from scipy.sparse import hstack\n",
    "X_tr = hstack((x_tr_essay_bow, x_tr_title_bow, x_tr_res_summary_bow, x_tr_subjects_ohe, x_tr_subject_subcat_ohe.shape, x_tr_state_ohe.shape, x_tr_tprefix_ohe.shape, x_tr_grade_ohe, x_tr_price_norm, x_tr_quantity_norm, x_tr_prev_projects_norm, x_tr_essay_word_count_norm, x_tr_title_word_count_norm)).tocsr()\n",
    "X_te = hstack((x_te_essay_bow, x_te_title_bow, x_te_res_summary_bow, x_te_subjects_ohe, x_te_subject_subcat_ohe.shape, x_te_state_ohe.shape, x_te_tprefix_ohe.shape, x_te_grade_ohe, x_te_price_norm, x_te_quantity_norm, x_te_prev_projects_norm, x_te_essay_word_count_norm, x_te_title_word_count_norm)).tocsr()\n",
    "\n",
    "print(\"Final Data matrix\")\n",
    "print(X_tr.shape, y_tr.shape)\n",
    "print(X_te.shape, y_te.shape)"
   ]
  },
  {
   "cell_type": "code",
   "execution_count": 23,
   "metadata": {},
   "outputs": [],
   "source": [
    "def batch_predict(clf, data):\n",
    "    # roc_auc_score(y_true, y_score) the 2nd parameter should be probability estimates of the positive class\n",
    "    # not the predicted outputs\n",
    "\n",
    "    y_data_pred = []\n",
    "    tr_loop = data.shape[0] - data.shape[0]%1000\n",
    "    # consider you X_tr shape is 49041, then your tr_loop will be 49041 - 49041%1000 = 49000\n",
    "    # in this for loop we will iterate unti the last 1000 multiplier\n",
    "    for i in range(0, tr_loop, 1000):\n",
    "        y_data_pred.extend(clf.predict_proba(data[i:i+1000])[:,1])\n",
    "    # we will be predicting for the last data points\n",
    "    if data.shape[0]%1000 !=0:\n",
    "        y_data_pred.extend(clf.predict_proba(data[tr_loop:])[:,1])\n",
    "    \n",
    "    return y_data_pred"
   ]
  },
  {
   "cell_type": "code",
   "execution_count": 28,
   "metadata": {},
   "outputs": [],
   "source": [
    "# we are writing our own function for predict, with defined thresould\n",
    "# we will pick a threshold that will give the least fpr\n",
    "def find_best_threshold(threshold, fpr, tpr):\n",
    "    t = threshold[np.argmax(tpr*(1-fpr))]\n",
    "    # (tpr*(1-fpr)) will be maximum if your fpr is very low and tpr is very high\n",
    "    print(\"the maximum value of tpr*(1-fpr)\", max(tpr*(1-fpr)), \"for threshold\", np.round(t,3))\n",
    "    print(\"50*=\")\n",
    "    return t\n",
    "\n",
    "def predict_with_best_t(proba, threshold):\n",
    "    predictions = []\n",
    "    for i in proba:\n",
    "        if i>=threshold:\n",
    "            predictions.append(1)\n",
    "        else:\n",
    "            predictions.append(0)\n",
    "    return predictions"
   ]
  },
  {
   "cell_type": "code",
   "execution_count": 32,
   "metadata": {},
   "outputs": [
    {
     "name": "stdout",
     "output_type": "stream",
     "text": [
      "the maximum value of tpr*(1-fpr) 0.384082344473777 for threshold 0.792\n",
      "==================================================\n",
      "Train confusion matrix\n",
      "[[ 3207  1891]\n",
      " [11061 17341]]\n",
      "==================================================\n",
      "Test confusion matrix\n",
      "[[1534  977]\n",
      " [5543 8446]]\n",
      "==================================================\n",
      "Train F1 Score\n",
      "0.7280933786790948\n",
      "==================================================\n",
      "Test F1 Score\n",
      "0.7215103365795319\n"
     ]
    }
   ],
   "source": [
    "from sklearn.metrics import confusion_matrix\n",
    "from sklearn.metrics import f1_score\n",
    "\n",
    "best_t = find_best_threshold(tr_thresholds, train_fpr, train_tpr)\n",
    "print(50*\"=\")\n",
    "print(\"Train confusion matrix\")\n",
    "print(confusion_matrix(y_tr, predict_with_best_t(y_tr_pred, best_t)))\n",
    "print(50*\"=\")\n",
    "print(\"Test confusion matrix\")\n",
    "print(confusion_matrix(y_te, predict_with_best_t(y_te_pred, best_t)))\n",
    "print(50*\"=\")\n",
    "print(\"Train F1 Score\")\n",
    "print(f1_score(y_tr, predict_with_best_t(y_tr_pred, best_t)))\n",
    "print(50*\"=\")\n",
    "print(\"Test F1 Score\")\n",
    "print(f1_score(y_te, predict_with_best_t(y_te_pred, best_t)))\n",
    "print(50*\"=\")\n",
    "print(\"Train Accuracy Score\")\n",
    "print(accuracy_score(y_tr, predict_with_best_t(y_tr_pred, best_t)))\n",
    "print(50*\"=\")\n",
    "print(\"Test Accuracy Score\")\n",
    "print(accuracy_score(y_te, predict_with_best_t(y_te_pred, best_t)))"
   ]
  },
  {
   "cell_type": "markdown",
   "metadata": {},
   "source": [
    "# Logistic Regression"
   ]
  },
  {
   "cell_type": "code",
   "execution_count": 26,
   "metadata": {},
   "outputs": [
    {
     "name": "stderr",
     "output_type": "stream",
     "text": [
      "C:\\Users\\HP\\Anaconda3\\lib\\site-packages\\sklearn\\linear_model\\logistic.py:1228: UserWarning: 'n_jobs' > 1 does not have any effect when 'solver' is set to 'liblinear'. Got 'n_jobs' = -1.\n",
      "  \" = {}.\".format(self.n_jobs))\n",
      "C:\\Users\\HP\\Anaconda3\\lib\\site-packages\\sklearn\\linear_model\\logistic.py:1228: UserWarning: 'n_jobs' > 1 does not have any effect when 'solver' is set to 'liblinear'. Got 'n_jobs' = -1.\n",
      "  \" = {}.\".format(self.n_jobs))\n",
      "C:\\Users\\HP\\Anaconda3\\lib\\site-packages\\sklearn\\linear_model\\logistic.py:1228: UserWarning: 'n_jobs' > 1 does not have any effect when 'solver' is set to 'liblinear'. Got 'n_jobs' = -1.\n",
      "  \" = {}.\".format(self.n_jobs))\n",
      "C:\\Users\\HP\\Anaconda3\\lib\\site-packages\\sklearn\\linear_model\\logistic.py:1228: UserWarning: 'n_jobs' > 1 does not have any effect when 'solver' is set to 'liblinear'. Got 'n_jobs' = -1.\n",
      "  \" = {}.\".format(self.n_jobs))\n",
      "C:\\Users\\HP\\Anaconda3\\lib\\site-packages\\sklearn\\linear_model\\logistic.py:1228: UserWarning: 'n_jobs' > 1 does not have any effect when 'solver' is set to 'liblinear'. Got 'n_jobs' = -1.\n",
      "  \" = {}.\".format(self.n_jobs))\n",
      "C:\\Users\\HP\\Anaconda3\\lib\\site-packages\\sklearn\\linear_model\\logistic.py:1228: UserWarning: 'n_jobs' > 1 does not have any effect when 'solver' is set to 'liblinear'. Got 'n_jobs' = -1.\n",
      "  \" = {}.\".format(self.n_jobs))\n",
      "C:\\Users\\HP\\Anaconda3\\lib\\site-packages\\sklearn\\linear_model\\logistic.py:1228: UserWarning: 'n_jobs' > 1 does not have any effect when 'solver' is set to 'liblinear'. Got 'n_jobs' = -1.\n",
      "  \" = {}.\".format(self.n_jobs))\n",
      "C:\\Users\\HP\\Anaconda3\\lib\\site-packages\\sklearn\\linear_model\\logistic.py:1228: UserWarning: 'n_jobs' > 1 does not have any effect when 'solver' is set to 'liblinear'. Got 'n_jobs' = -1.\n",
      "  \" = {}.\".format(self.n_jobs))\n",
      "C:\\Users\\HP\\Anaconda3\\lib\\site-packages\\sklearn\\linear_model\\logistic.py:1228: UserWarning: 'n_jobs' > 1 does not have any effect when 'solver' is set to 'liblinear'. Got 'n_jobs' = -1.\n",
      "  \" = {}.\".format(self.n_jobs))\n",
      "C:\\Users\\HP\\Anaconda3\\lib\\site-packages\\sklearn\\linear_model\\logistic.py:1228: UserWarning: 'n_jobs' > 1 does not have any effect when 'solver' is set to 'liblinear'. Got 'n_jobs' = -1.\n",
      "  \" = {}.\".format(self.n_jobs))\n",
      "C:\\Users\\HP\\Anaconda3\\lib\\site-packages\\sklearn\\linear_model\\logistic.py:1228: UserWarning: 'n_jobs' > 1 does not have any effect when 'solver' is set to 'liblinear'. Got 'n_jobs' = -1.\n",
      "  \" = {}.\".format(self.n_jobs))\n",
      "C:\\Users\\HP\\Anaconda3\\lib\\site-packages\\sklearn\\linear_model\\logistic.py:1228: UserWarning: 'n_jobs' > 1 does not have any effect when 'solver' is set to 'liblinear'. Got 'n_jobs' = -1.\n",
      "  \" = {}.\".format(self.n_jobs))\n",
      "C:\\Users\\HP\\Anaconda3\\lib\\site-packages\\sklearn\\linear_model\\logistic.py:1228: UserWarning: 'n_jobs' > 1 does not have any effect when 'solver' is set to 'liblinear'. Got 'n_jobs' = -1.\n",
      "  \" = {}.\".format(self.n_jobs))\n",
      "C:\\Users\\HP\\Anaconda3\\lib\\site-packages\\sklearn\\linear_model\\logistic.py:1228: UserWarning: 'n_jobs' > 1 does not have any effect when 'solver' is set to 'liblinear'. Got 'n_jobs' = -1.\n",
      "  \" = {}.\".format(self.n_jobs))\n",
      "C:\\Users\\HP\\Anaconda3\\lib\\site-packages\\sklearn\\linear_model\\logistic.py:1228: UserWarning: 'n_jobs' > 1 does not have any effect when 'solver' is set to 'liblinear'. Got 'n_jobs' = -1.\n",
      "  \" = {}.\".format(self.n_jobs))\n",
      "C:\\Users\\HP\\Anaconda3\\lib\\site-packages\\sklearn\\linear_model\\logistic.py:1228: UserWarning: 'n_jobs' > 1 does not have any effect when 'solver' is set to 'liblinear'. Got 'n_jobs' = -1.\n",
      "  \" = {}.\".format(self.n_jobs))\n",
      "C:\\Users\\HP\\Anaconda3\\lib\\site-packages\\sklearn\\linear_model\\logistic.py:1228: UserWarning: 'n_jobs' > 1 does not have any effect when 'solver' is set to 'liblinear'. Got 'n_jobs' = -1.\n",
      "  \" = {}.\".format(self.n_jobs))\n",
      "C:\\Users\\HP\\Anaconda3\\lib\\site-packages\\sklearn\\linear_model\\logistic.py:1228: UserWarning: 'n_jobs' > 1 does not have any effect when 'solver' is set to 'liblinear'. Got 'n_jobs' = -1.\n",
      "  \" = {}.\".format(self.n_jobs))\n",
      "C:\\Users\\HP\\Anaconda3\\lib\\site-packages\\sklearn\\linear_model\\logistic.py:1228: UserWarning: 'n_jobs' > 1 does not have any effect when 'solver' is set to 'liblinear'. Got 'n_jobs' = -1.\n",
      "  \" = {}.\".format(self.n_jobs))\n",
      "C:\\Users\\HP\\Anaconda3\\lib\\site-packages\\sklearn\\linear_model\\logistic.py:1228: UserWarning: 'n_jobs' > 1 does not have any effect when 'solver' is set to 'liblinear'. Got 'n_jobs' = -1.\n",
      "  \" = {}.\".format(self.n_jobs))\n",
      "C:\\Users\\HP\\Anaconda3\\lib\\site-packages\\sklearn\\linear_model\\logistic.py:1228: UserWarning: 'n_jobs' > 1 does not have any effect when 'solver' is set to 'liblinear'. Got 'n_jobs' = -1.\n",
      "  \" = {}.\".format(self.n_jobs))\n",
      "C:\\Users\\HP\\Anaconda3\\lib\\site-packages\\sklearn\\linear_model\\logistic.py:1228: UserWarning: 'n_jobs' > 1 does not have any effect when 'solver' is set to 'liblinear'. Got 'n_jobs' = -1.\n",
      "  \" = {}.\".format(self.n_jobs))\n",
      "C:\\Users\\HP\\Anaconda3\\lib\\site-packages\\sklearn\\linear_model\\logistic.py:1228: UserWarning: 'n_jobs' > 1 does not have any effect when 'solver' is set to 'liblinear'. Got 'n_jobs' = -1.\n",
      "  \" = {}.\".format(self.n_jobs))\n",
      "C:\\Users\\HP\\Anaconda3\\lib\\site-packages\\sklearn\\linear_model\\logistic.py:1228: UserWarning: 'n_jobs' > 1 does not have any effect when 'solver' is set to 'liblinear'. Got 'n_jobs' = -1.\n",
      "  \" = {}.\".format(self.n_jobs))\n",
      "C:\\Users\\HP\\Anaconda3\\lib\\site-packages\\sklearn\\linear_model\\logistic.py:1228: UserWarning: 'n_jobs' > 1 does not have any effect when 'solver' is set to 'liblinear'. Got 'n_jobs' = -1.\n",
      "  \" = {}.\".format(self.n_jobs))\n"
     ]
    },
    {
     "data": {
      "image/png": "[encoded data removed]",
      "text/plain": [
       "<Figure size 1440x360 with 1 Axes>"
      ]
     },
     "metadata": {},
     "output_type": "display_data"
    },
    {
     "data": {
      "text/html": [
       "<div>\n",
       "<style scoped>\n",
       "    .dataframe tbody tr th:only-of-type {\n",
       "        vertical-align: middle;\n",
       "    }\n",
       "\n",
       "    .dataframe tbody tr th {\n",
       "        vertical-align: top;\n",
       "    }\n",
       "\n",
       "    .dataframe thead th {\n",
       "        text-align: right;\n",
       "    }\n",
       "</style>\n",
       "<table border=\"1\" class=\"dataframe\">\n",
       "  <thead>\n",
       "    <tr style=\"text-align: right;\">\n",
       "      <th></th>\n",
       "      <th>mean_fit_time</th>\n",
       "      <th>std_fit_time</th>\n",
       "      <th>mean_score_time</th>\n",
       "      <th>std_score_time</th>\n",
       "      <th>param_C</th>\n",
       "      <th>params</th>\n",
       "      <th>split0_test_score</th>\n",
       "      <th>split1_test_score</th>\n",
       "      <th>split2_test_score</th>\n",
       "      <th>mean_test_score</th>\n",
       "      <th>std_test_score</th>\n",
       "      <th>rank_test_score</th>\n",
       "      <th>split0_train_score</th>\n",
       "      <th>split1_train_score</th>\n",
       "      <th>split2_train_score</th>\n",
       "      <th>mean_train_score</th>\n",
       "      <th>std_train_score</th>\n",
       "    </tr>\n",
       "  </thead>\n",
       "  <tbody>\n",
       "    <tr>\n",
       "      <th>0</th>\n",
       "      <td>3.785243</td>\n",
       "      <td>0.126974</td>\n",
       "      <td>0.043704</td>\n",
       "      <td>0.009154</td>\n",
       "      <td>0.0005</td>\n",
       "      <td>{'C': 0.0005}</td>\n",
       "      <td>0.703820</td>\n",
       "      <td>0.707246</td>\n",
       "      <td>0.708385</td>\n",
       "      <td>0.706484</td>\n",
       "      <td>0.001940</td>\n",
       "      <td>4</td>\n",
       "      <td>0.755358</td>\n",
       "      <td>0.757712</td>\n",
       "      <td>0.756273</td>\n",
       "      <td>0.756448</td>\n",
       "      <td>0.000969</td>\n",
       "    </tr>\n",
       "    <tr>\n",
       "      <th>1</th>\n",
       "      <td>4.546184</td>\n",
       "      <td>0.169438</td>\n",
       "      <td>0.026048</td>\n",
       "      <td>0.007373</td>\n",
       "      <td>0.001</td>\n",
       "      <td>{'C': 0.001}</td>\n",
       "      <td>0.717043</td>\n",
       "      <td>0.719339</td>\n",
       "      <td>0.720479</td>\n",
       "      <td>0.718953</td>\n",
       "      <td>0.001429</td>\n",
       "      <td>3</td>\n",
       "      <td>0.791206</td>\n",
       "      <td>0.794782</td>\n",
       "      <td>0.792830</td>\n",
       "      <td>0.792939</td>\n",
       "      <td>0.001462</td>\n",
       "    </tr>\n",
       "    <tr>\n",
       "      <th>2</th>\n",
       "      <td>10.011218</td>\n",
       "      <td>1.799979</td>\n",
       "      <td>0.040148</td>\n",
       "      <td>0.006043</td>\n",
       "      <td>0.005</td>\n",
       "      <td>{'C': 0.005}</td>\n",
       "      <td>0.728391</td>\n",
       "      <td>0.726723</td>\n",
       "      <td>0.728000</td>\n",
       "      <td>0.727704</td>\n",
       "      <td>0.000712</td>\n",
       "      <td>1</td>\n",
       "      <td>0.893118</td>\n",
       "      <td>0.896564</td>\n",
       "      <td>0.895018</td>\n",
       "      <td>0.894900</td>\n",
       "      <td>0.001409</td>\n",
       "    </tr>\n",
       "    <tr>\n",
       "      <th>3</th>\n",
       "      <td>10.630105</td>\n",
       "      <td>0.370288</td>\n",
       "      <td>0.035048</td>\n",
       "      <td>0.001316</td>\n",
       "      <td>0.01</td>\n",
       "      <td>{'C': 0.01}</td>\n",
       "      <td>0.724690</td>\n",
       "      <td>0.721922</td>\n",
       "      <td>0.722640</td>\n",
       "      <td>0.723084</td>\n",
       "      <td>0.001173</td>\n",
       "      <td>2</td>\n",
       "      <td>0.941811</td>\n",
       "      <td>0.943971</td>\n",
       "      <td>0.942877</td>\n",
       "      <td>0.942886</td>\n",
       "      <td>0.000882</td>\n",
       "    </tr>\n",
       "    <tr>\n",
       "      <th>4</th>\n",
       "      <td>22.065423</td>\n",
       "      <td>2.494176</td>\n",
       "      <td>0.037725</td>\n",
       "      <td>0.001425</td>\n",
       "      <td>0.05</td>\n",
       "      <td>{'C': 0.05}</td>\n",
       "      <td>0.704465</td>\n",
       "      <td>0.701386</td>\n",
       "      <td>0.700156</td>\n",
       "      <td>0.702003</td>\n",
       "      <td>0.001812</td>\n",
       "      <td>5</td>\n",
       "      <td>0.998616</td>\n",
       "      <td>0.998781</td>\n",
       "      <td>0.998695</td>\n",
       "      <td>0.998697</td>\n",
       "      <td>0.000067</td>\n",
       "    </tr>\n",
       "  </tbody>\n",
       "</table>\n",
       "</div>"
      ],
      "text/plain": [
       "   mean_fit_time  std_fit_time  mean_score_time  std_score_time param_C  \\\n",
       "0       3.785243      0.126974         0.043704        0.009154  0.0005   \n",
       "1       4.546184      0.169438         0.026048        0.007373   0.001   \n",
       "2      10.011218      1.799979         0.040148        0.006043   0.005   \n",
       "3      10.630105      0.370288         0.035048        0.001316    0.01   \n",
       "4      22.065423      2.494176         0.037725        0.001425    0.05   \n",
       "\n",
       "          params  split0_test_score  split1_test_score  split2_test_score  \\\n",
       "0  {'C': 0.0005}           0.703820           0.707246           0.708385   \n",
       "1   {'C': 0.001}           0.717043           0.719339           0.720479   \n",
       "2   {'C': 0.005}           0.728391           0.726723           0.728000   \n",
       "3    {'C': 0.01}           0.724690           0.721922           0.722640   \n",
       "4    {'C': 0.05}           0.704465           0.701386           0.700156   \n",
       "\n",
       "   mean_test_score  std_test_score  rank_test_score  split0_train_score  \\\n",
       "0         0.706484        0.001940                4            0.755358   \n",
       "1         0.718953        0.001429                3            0.791206   \n",
       "2         0.727704        0.000712                1            0.893118   \n",
       "3         0.723084        0.001173                2            0.941811   \n",
       "4         0.702003        0.001812                5            0.998616   \n",
       "\n",
       "   split1_train_score  split2_train_score  mean_train_score  std_train_score  \n",
       "0            0.757712            0.756273          0.756448         0.000969  \n",
       "1            0.794782            0.792830          0.792939         0.001462  \n",
       "2            0.896564            0.895018          0.894900         0.001409  \n",
       "3            0.943971            0.942877          0.942886         0.000882  \n",
       "4            0.998781            0.998695          0.998697         0.000067  "
      ]
     },
     "execution_count": 26,
     "metadata": {},
     "output_type": "execute_result"
    }
   ],
   "source": [
    "from sklearn.model_selection import GridSearchCV\n",
    "from sklearn.linear_model import LogisticRegression\n",
    "from sklearn.metrics import roc_auc_score\n",
    "\n",
    "lr = LogisticRegression(n_jobs=-1)\n",
    "parameters = {'C':[0.0005,0.001,0.005,0.01,0.05,0.1,0.5,1]}\n",
    "clf = GridSearchCV(lr, parameters, cv=3, scoring='roc_auc')\n",
    "clf.fit(X_tr, y_tr)\n",
    "\n",
    "results = pd.DataFrame.from_dict(clf.cv_results_)\n",
    "results = results.sort_values(['param_C'])\n",
    "\n",
    "train_auc= results['mean_train_score']\n",
    "train_auc_std= results['std_train_score']\n",
    "cv_auc = results['mean_test_score'] \n",
    "cv_auc_std= results['std_test_score']\n",
    "C =  results['param_C']\n",
    "\n",
    "plt.figure(figsize=(20,5))\n",
    "plt.plot(C, train_auc, label='Train AUC')\n",
    "\n",
    "plt.plot(C, cv_auc, label='CV AUC')\n",
    "\n",
    "plt.scatter(C, train_auc, label='Train AUC points')\n",
    "plt.scatter(C, cv_auc, label='CV AUC points')\n",
    "\n",
    "\n",
    "plt.legend()\n",
    "plt.xlabel(\"C\")\n",
    "plt.ylabel(\"AUC\")\n",
    "plt.title(\"C Vs AUC\")\n",
    "plt.grid()\n",
    "plt.show()\n",
    "\n",
    "results.head()"
   ]
  },
  {
   "cell_type": "code",
   "execution_count": 34,
   "metadata": {},
   "outputs": [
    {
     "data": {
      "image/png": "[encoded data removed]",
      "text/plain": [
       "<Figure size 432x288 with 1 Axes>"
      ]
     },
     "metadata": {},
     "output_type": "display_data"
    }
   ],
   "source": [
    "from sklearn.metrics import roc_curve, auc\n",
    "\n",
    "lr = LogisticRegression(C=0.005)\n",
    "lr.fit(X_tr, y_tr)\n",
    "\n",
    "y_tr_pred = batch_predict(lr, X_tr)    \n",
    "y_te_pred = batch_predict(lr, X_te)\n",
    "\n",
    "train_fpr, train_tpr, tr_thresholds = roc_curve(y_tr, y_tr_pred)\n",
    "test_fpr, test_tpr, te_thresholds = roc_curve(y_te, y_te_pred)\n",
    "\n",
    "plt.plot(train_fpr, train_tpr, label=\"train AUC =\"+str(auc(train_fpr, train_tpr)))\n",
    "plt.plot(test_fpr, test_tpr, label=\"test AUC =\"+str(auc(test_fpr, test_tpr)))\n",
    "plt.legend()\n",
    "plt.xlabel(\"C\")\n",
    "plt.ylabel(\"AUC\")\n",
    "plt.title(\"ERROR PLOTS\")\n",
    "plt.grid()\n",
    "plt.show()"
   ]
  },
  {
   "cell_type": "code",
   "execution_count": 28,
   "metadata": {},
   "outputs": [],
   "source": [
    "# we are writing our own function for predict, with defined thresould\n",
    "# we will pick a threshold that will give the least fpr\n",
    "def find_best_threshold(threshold, fpr, tpr):\n",
    "    t = threshold[np.argmax(tpr*(1-fpr))]\n",
    "    # (tpr*(1-fpr)) will be maximum if your fpr is very low and tpr is very high\n",
    "    print(\"the maximum value of tpr*(1-fpr)\", max(tpr*(1-fpr)), \"for threshold\", np.round(t,3))\n",
    "    print(50*\"=\")\n",
    "    return t\n",
    "\n",
    "def predict_with_best_t(proba, threshold):\n",
    "    predictions = []\n",
    "    for i in proba:\n",
    "        if i>=threshold:\n",
    "            predictions.append(1)\n",
    "        else:\n",
    "            predictions.append(0)\n",
    "    return predictions"
   ]
  },
  {
   "cell_type": "code",
   "execution_count": 29,
   "metadata": {},
   "outputs": [
    {
     "name": "stdout",
     "output_type": "stream",
     "text": [
      "the maximum value of tpr*(1-fpr) 0.6506642340597376 for threshold 0.812\n",
      "==================================================\n",
      "==================================================\n",
      "Train confusion matrix\n",
      "[[ 8857  2226]\n",
      " [11541 50572]]\n",
      "==================================================\n",
      "Test confusion matrix\n",
      "[[ 3137  2322]\n",
      " [ 6893 23700]]\n",
      "==================================================\n",
      "Train F1 Score\n",
      "0.8801942372792857\n",
      "==================================================\n",
      "Test F1 Score\n",
      "0.8372339486001944\n",
      "==================================================\n",
      "Train Accuracy Score\n",
      "0.8119159516913492\n",
      "==================================================\n",
      "Test Accuracy Score\n",
      "0.7443969821369133\n"
     ]
    }
   ],
   "source": [
    "from sklearn.metrics import confusion_matrix\n",
    "from sklearn.metrics import accuracy_score\n",
    "from sklearn.metrics import f1_score\n",
    "\n",
    "best_t = find_best_threshold(tr_thresholds, train_fpr, train_tpr)\n",
    "print(50*\"=\")\n",
    "print(\"Train confusion matrix\")\n",
    "print(confusion_matrix(y_tr, predict_with_best_t(y_tr_pred, best_t)))\n",
    "print(50*\"=\")\n",
    "print(\"Test confusion matrix\")\n",
    "print(confusion_matrix(y_te, predict_with_best_t(y_te_pred, best_t)))\n",
    "print(50*\"=\")\n",
    "print(\"Train F1 Score\")\n",
    "print(f1_score(y_tr, predict_with_best_t(y_tr_pred, best_t)))\n",
    "print(50*\"=\")\n",
    "print(\"Test F1 Score\")\n",
    "print(f1_score(y_te, predict_with_best_t(y_te_pred, best_t)))\n",
    "print(50*\"=\")\n",
    "print(\"Train Accuracy Score\")\n",
    "print(accuracy_score(y_tr, predict_with_best_t(y_tr_pred, best_t)))\n",
    "print(50*\"=\")\n",
    "print(\"Test Accuracy Score\")\n",
    "print(accuracy_score(y_te, predict_with_best_t(y_te_pred, best_t)))"
   ]
  },
  {
   "cell_type": "code",
   "execution_count": 36,
   "metadata": {},
   "outputs": [
    {
     "data": {
      "image/png": "[encoded data removed]",
      "text/plain": [
       "<Figure size 1440x360 with 1 Axes>"
      ]
     },
     "metadata": {},
     "output_type": "display_data"
    },
    {
     "data": {
      "text/html": [
       "<div>\n",
       "<style scoped>\n",
       "    .dataframe tbody tr th:only-of-type {\n",
       "        vertical-align: middle;\n",
       "    }\n",
       "\n",
       "    .dataframe tbody tr th {\n",
       "        vertical-align: top;\n",
       "    }\n",
       "\n",
       "    .dataframe thead th {\n",
       "        text-align: right;\n",
       "    }\n",
       "</style>\n",
       "<table border=\"1\" class=\"dataframe\">\n",
       "  <thead>\n",
       "    <tr style=\"text-align: right;\">\n",
       "      <th></th>\n",
       "      <th>mean_fit_time</th>\n",
       "      <th>std_fit_time</th>\n",
       "      <th>mean_score_time</th>\n",
       "      <th>std_score_time</th>\n",
       "      <th>param_C</th>\n",
       "      <th>params</th>\n",
       "      <th>split0_test_score</th>\n",
       "      <th>split1_test_score</th>\n",
       "      <th>split2_test_score</th>\n",
       "      <th>mean_test_score</th>\n",
       "      <th>std_test_score</th>\n",
       "      <th>rank_test_score</th>\n",
       "      <th>split0_train_score</th>\n",
       "      <th>split1_train_score</th>\n",
       "      <th>split2_train_score</th>\n",
       "      <th>mean_train_score</th>\n",
       "      <th>std_train_score</th>\n",
       "    </tr>\n",
       "  </thead>\n",
       "  <tbody>\n",
       "    <tr>\n",
       "      <th>0</th>\n",
       "      <td>2.502296</td>\n",
       "      <td>0.218889</td>\n",
       "      <td>0.033251</td>\n",
       "      <td>0.002136</td>\n",
       "      <td>5e-05</td>\n",
       "      <td>{'C': 5e-05}</td>\n",
       "      <td>0.688530</td>\n",
       "      <td>0.691379</td>\n",
       "      <td>0.694937</td>\n",
       "      <td>0.691615</td>\n",
       "      <td>0.002621</td>\n",
       "      <td>7</td>\n",
       "      <td>0.722247</td>\n",
       "      <td>0.723348</td>\n",
       "      <td>0.722047</td>\n",
       "      <td>0.722547</td>\n",
       "      <td>0.000572</td>\n",
       "    </tr>\n",
       "    <tr>\n",
       "      <th>1</th>\n",
       "      <td>2.991226</td>\n",
       "      <td>0.089527</td>\n",
       "      <td>0.033790</td>\n",
       "      <td>0.004941</td>\n",
       "      <td>0.0001</td>\n",
       "      <td>{'C': 0.0001}</td>\n",
       "      <td>0.700661</td>\n",
       "      <td>0.703914</td>\n",
       "      <td>0.705989</td>\n",
       "      <td>0.703521</td>\n",
       "      <td>0.002193</td>\n",
       "      <td>5</td>\n",
       "      <td>0.746043</td>\n",
       "      <td>0.748053</td>\n",
       "      <td>0.746394</td>\n",
       "      <td>0.746830</td>\n",
       "      <td>0.000876</td>\n",
       "    </tr>\n",
       "    <tr>\n",
       "      <th>2</th>\n",
       "      <td>4.563431</td>\n",
       "      <td>0.117941</td>\n",
       "      <td>0.030820</td>\n",
       "      <td>0.002254</td>\n",
       "      <td>0.0005</td>\n",
       "      <td>{'C': 0.0005}</td>\n",
       "      <td>0.722582</td>\n",
       "      <td>0.723456</td>\n",
       "      <td>0.725035</td>\n",
       "      <td>0.723691</td>\n",
       "      <td>0.001015</td>\n",
       "      <td>2</td>\n",
       "      <td>0.821547</td>\n",
       "      <td>0.825224</td>\n",
       "      <td>0.823386</td>\n",
       "      <td>0.823386</td>\n",
       "      <td>0.001501</td>\n",
       "    </tr>\n",
       "    <tr>\n",
       "      <th>3</th>\n",
       "      <td>6.168456</td>\n",
       "      <td>0.585144</td>\n",
       "      <td>0.044670</td>\n",
       "      <td>0.003444</td>\n",
       "      <td>0.001</td>\n",
       "      <td>{'C': 0.001}</td>\n",
       "      <td>0.726443</td>\n",
       "      <td>0.725629</td>\n",
       "      <td>0.727123</td>\n",
       "      <td>0.726398</td>\n",
       "      <td>0.000611</td>\n",
       "      <td>1</td>\n",
       "      <td>0.864664</td>\n",
       "      <td>0.868248</td>\n",
       "      <td>0.866740</td>\n",
       "      <td>0.866551</td>\n",
       "      <td>0.001469</td>\n",
       "    </tr>\n",
       "    <tr>\n",
       "      <th>4</th>\n",
       "      <td>10.868302</td>\n",
       "      <td>0.177258</td>\n",
       "      <td>0.026862</td>\n",
       "      <td>0.006054</td>\n",
       "      <td>0.005</td>\n",
       "      <td>{'C': 0.005}</td>\n",
       "      <td>0.720122</td>\n",
       "      <td>0.716974</td>\n",
       "      <td>0.716646</td>\n",
       "      <td>0.717914</td>\n",
       "      <td>0.001567</td>\n",
       "      <td>3</td>\n",
       "      <td>0.966439</td>\n",
       "      <td>0.967388</td>\n",
       "      <td>0.967136</td>\n",
       "      <td>0.966988</td>\n",
       "      <td>0.000402</td>\n",
       "    </tr>\n",
       "  </tbody>\n",
       "</table>\n",
       "</div>"
      ],
      "text/plain": [
       "   mean_fit_time  std_fit_time  mean_score_time  std_score_time param_C  \\\n",
       "0       2.502296      0.218889         0.033251        0.002136   5e-05   \n",
       "1       2.991226      0.089527         0.033790        0.004941  0.0001   \n",
       "2       4.563431      0.117941         0.030820        0.002254  0.0005   \n",
       "3       6.168456      0.585144         0.044670        0.003444   0.001   \n",
       "4      10.868302      0.177258         0.026862        0.006054   0.005   \n",
       "\n",
       "          params  split0_test_score  split1_test_score  split2_test_score  \\\n",
       "0   {'C': 5e-05}           0.688530           0.691379           0.694937   \n",
       "1  {'C': 0.0001}           0.700661           0.703914           0.705989   \n",
       "2  {'C': 0.0005}           0.722582           0.723456           0.725035   \n",
       "3   {'C': 0.001}           0.726443           0.725629           0.727123   \n",
       "4   {'C': 0.005}           0.720122           0.716974           0.716646   \n",
       "\n",
       "   mean_test_score  std_test_score  rank_test_score  split0_train_score  \\\n",
       "0         0.691615        0.002621                7            0.722247   \n",
       "1         0.703521        0.002193                5            0.746043   \n",
       "2         0.723691        0.001015                2            0.821547   \n",
       "3         0.726398        0.000611                1            0.864664   \n",
       "4         0.717914        0.001567                3            0.966439   \n",
       "\n",
       "   split1_train_score  split2_train_score  mean_train_score  std_train_score  \n",
       "0            0.723348            0.722047          0.722547         0.000572  \n",
       "1            0.748053            0.746394          0.746830         0.000876  \n",
       "2            0.825224            0.823386          0.823386         0.001501  \n",
       "3            0.868248            0.866740          0.866551         0.001469  \n",
       "4            0.967388            0.967136          0.966988         0.000402  "
      ]
     },
     "execution_count": 36,
     "metadata": {},
     "output_type": "execute_result"
    }
   ],
   "source": [
    "from sklearn.model_selection import GridSearchCV\n",
    "from sklearn.linear_model import LogisticRegression\n",
    "from sklearn.metrics import roc_auc_score\n",
    "\n",
    "lr = LogisticRegression(class_weight={1:1,0:5})\n",
    "parameters = {'C':[0.00005,0.0001,0.0005,0.001,0.005,0.01,0.05,0.1]}\n",
    "clf = GridSearchCV(lr, parameters, cv=3, scoring='roc_auc')\n",
    "clf.fit(X_tr, y_tr)\n",
    "\n",
    "results = pd.DataFrame.from_dict(clf.cv_results_)\n",
    "results = results.sort_values(['param_C'])\n",
    "\n",
    "train_auc= results['mean_train_score']\n",
    "train_auc_std= results['std_train_score']\n",
    "cv_auc = results['mean_test_score'] \n",
    "cv_auc_std= results['std_test_score']\n",
    "C =  results['param_C']\n",
    "\n",
    "plt.figure(figsize=(20,5))\n",
    "plt.plot(C, train_auc, label='Train AUC')\n",
    "\n",
    "plt.plot(C, cv_auc, label='CV AUC')\n",
    "\n",
    "plt.scatter(C, train_auc, label='Train AUC points')\n",
    "plt.scatter(C, cv_auc, label='CV AUC points')\n",
    "\n",
    "\n",
    "plt.legend()\n",
    "plt.xlabel(\"C\")\n",
    "plt.ylabel(\"AUC\")\n",
    "plt.title(\"C Vs AUC\")\n",
    "plt.grid()\n",
    "plt.show()\n",
    "\n",
    "results.head()"
   ]
  },
  {
   "cell_type": "code",
   "execution_count": 38,
   "metadata": {},
   "outputs": [
    {
     "data": {
      "image/png": "[encoded data removed]",
      "text/plain": [
       "<Figure size 432x288 with 1 Axes>"
      ]
     },
     "metadata": {},
     "output_type": "display_data"
    }
   ],
   "source": [
    "from sklearn.metrics import roc_curve, auc\n",
    "\n",
    "lr = LogisticRegression(C=0.001, class_weight={1:1,0:5} )\n",
    "lr.fit(X_tr, y_tr)\n",
    "\n",
    "y_tr_pred = batch_predict(lr, X_tr)    \n",
    "y_te_pred = batch_predict(lr, X_te)\n",
    "\n",
    "train_fpr, train_tpr, tr_thresholds = roc_curve(y_tr, y_tr_pred)\n",
    "test_fpr, test_tpr, te_thresholds = roc_curve(y_te, y_te_pred)\n",
    "\n",
    "plt.plot(train_fpr, train_tpr, label=\"train AUC =\"+str(auc(train_fpr, train_tpr)))\n",
    "plt.plot(test_fpr, test_tpr, label=\"test AUC =\"+str(auc(test_fpr, test_tpr)))\n",
    "plt.legend()\n",
    "plt.xlabel(\"C\")\n",
    "plt.ylabel(\"AUC\")\n",
    "plt.title(\"ERROR PLOTS\")\n",
    "plt.grid()\n",
    "plt.show()"
   ]
  },
  {
   "cell_type": "code",
   "execution_count": 39,
   "metadata": {},
   "outputs": [
    {
     "name": "stdout",
     "output_type": "stream",
     "text": [
      "the maximum value of tpr*(1-fpr) 0.6088596440463147 for threshold 0.509\n",
      "==================================================\n",
      "==================================================\n",
      "Train confusion matrix\n",
      "[[ 8568  2515]\n",
      " [13194 48919]]\n",
      "==================================================\n",
      "Test confusion matrix\n",
      "[[ 3206  2253]\n",
      " [ 7358 23235]]\n",
      "==================================================\n",
      "Train F1 Score\n",
      "0.8616520031352655\n",
      "==================================================\n",
      "Test F1 Score\n",
      "0.8286228847559779\n",
      "==================================================\n",
      "Train Accuracy Score\n",
      "0.785384447237554\n",
      "==================================================\n",
      "Test Accuracy Score\n",
      "0.733412848108288\n"
     ]
    }
   ],
   "source": [
    "from sklearn.metrics import confusion_matrix\n",
    "from sklearn.metrics import accuracy_score\n",
    "from sklearn.metrics import f1_score\n",
    "\n",
    "best_t = find_best_threshold(tr_thresholds, train_fpr, train_tpr)\n",
    "print(50*\"=\")\n",
    "print(\"Train confusion matrix\")\n",
    "print(confusion_matrix(y_tr, predict_with_best_t(y_tr_pred, best_t)))\n",
    "print(50*\"=\")\n",
    "print(\"Test confusion matrix\")\n",
    "print(confusion_matrix(y_te, predict_with_best_t(y_te_pred, best_t)))\n",
    "print(50*\"=\")\n",
    "print(\"Train F1 Score\")\n",
    "print(f1_score(y_tr, predict_with_best_t(y_tr_pred, best_t)))\n",
    "print(50*\"=\")\n",
    "print(\"Test F1 Score\")\n",
    "print(f1_score(y_te, predict_with_best_t(y_te_pred, best_t)))\n",
    "print(50*\"=\")\n",
    "print(\"Train Accuracy Score\")\n",
    "print(accuracy_score(y_tr, predict_with_best_t(y_tr_pred, best_t)))\n",
    "print(50*\"=\")\n",
    "print(\"Test Accuracy Score\")\n",
    "print(accuracy_score(y_te, predict_with_best_t(y_te_pred, best_t)))"
   ]
  },
  {
   "cell_type": "markdown",
   "metadata": {},
   "source": [
    "# Vectorization of Essays, Project Titles, Resource Summary with Tfidf"
   ]
  },
  {
   "cell_type": "code",
   "execution_count": 72,
   "metadata": {},
   "outputs": [
    {
     "name": "stdout",
     "output_type": "stream",
     "text": [
      "After vectorizations\n",
      "(73196, 234526) (73196,)\n",
      "(36052, 234526) (36052,)\n"
     ]
    }
   ],
   "source": [
    "from sklearn.feature_extraction.text import TfidfVectorizer\n",
    "\n",
    "vectorizer = TfidfVectorizer(min_df=10,ngram_range=(1,4))\n",
    "vectorizer.fit(x_tr['ppd_essays'].values) \n",
    "x_tr_essay_tfidf = vectorizer.transform(x_tr['ppd_essays'].values)\n",
    "x_te_essay_tfidf = vectorizer.transform(x_te['ppd_essays'].values)\n",
    "\n",
    "print(\"After vectorizations\")\n",
    "print(x_tr_essay_tfidf.shape, y_tr.shape)\n",
    "print(x_te_essay_tfidf.shape, y_te.shape)"
   ]
  },
  {
   "cell_type": "code",
   "execution_count": 73,
   "metadata": {},
   "outputs": [
    {
     "name": "stdout",
     "output_type": "stream",
     "text": [
      "After vectorizations\n",
      "(73196, 13998) (73196,)\n",
      "(36052, 13998) (36052,)\n"
     ]
    }
   ],
   "source": [
    "vectorizer = TfidfVectorizer()\n",
    "vectorizer.fit(x_tr['ppd_titles'].values)\n",
    "\n",
    "x_tr_title_tfidf = vectorizer.transform(x_tr['ppd_titles'].values)\n",
    "x_te_title_tfidf = vectorizer.transform(x_te['ppd_titles'].values)\n",
    "\n",
    "print(\"After vectorizations\")\n",
    "print(x_tr_title_tfidf.shape, y_tr.shape)\n",
    "print(x_te_title_tfidf.shape, y_te.shape)"
   ]
  },
  {
   "cell_type": "code",
   "execution_count": 74,
   "metadata": {},
   "outputs": [
    {
     "name": "stdout",
     "output_type": "stream",
     "text": [
      "After vectorizations\n",
      "(73196, 18824) (73196,)\n",
      "(36052, 18824) (36052,)\n"
     ]
    }
   ],
   "source": [
    "vectorizer = TfidfVectorizer()\n",
    "vectorizer.fit(x_tr['ppd_res_summary'].values)\n",
    "\n",
    "x_tr_res_summary_tfidf = vectorizer.transform(x_tr['ppd_res_summary'].values)\n",
    "x_te_res_summary_tfidf = vectorizer.transform(x_te['ppd_res_summary'].values)\n",
    "\n",
    "print(\"After vectorizations\")\n",
    "print(x_tr_res_summary_tfidf.shape, y_tr.shape)\n",
    "print(x_te_res_summary_tfidf.shape, y_te.shape)"
   ]
  },
  {
   "cell_type": "markdown",
   "metadata": {},
   "source": [
    "# Stacking of vectors"
   ]
  },
  {
   "cell_type": "code",
   "execution_count": 75,
   "metadata": {},
   "outputs": [
    {
     "name": "stdout",
     "output_type": "stream",
     "text": [
      "Final Data matrix\n",
      "(73196, 267452) (73196,)\n",
      "(36052, 267452) (36052,)\n"
     ]
    }
   ],
   "source": [
    "# merge two sparse matrices: https://stackoverflow.com/a/19710648/4084039\n",
    "from scipy.sparse import hstack\n",
    "X_tr = hstack((x_tr_essay_tfidf, x_tr_title_tfidf, x_tr_res_summary_tfidf, x_tr_subjects_ohe, x_tr_subject_subcat_ohe.shape, x_tr_state_ohe.shape, x_tr_tprefix_ohe.shape, x_tr_grade_ohe, x_tr_price_norm, x_tr_quantity_norm, x_tr_prev_projects_norm, x_tr_essay_word_count_norm, x_tr_title_word_count_norm)).tocsr()\n",
    "X_te = hstack((x_te_essay_tfidf, x_te_title_tfidf, x_te_res_summary_tfidf, x_te_subjects_ohe, x_te_subject_subcat_ohe.shape, x_te_state_ohe.shape, x_te_tprefix_ohe.shape, x_te_grade_ohe, x_te_price_norm, x_te_quantity_norm, x_te_prev_projects_norm, x_te_essay_word_count_norm, x_te_title_word_count_norm)).tocsr()\n",
    "\n",
    "print(\"Final Data matrix\")\n",
    "print(X_tr.shape, y_tr.shape)\n",
    "print(X_te.shape, y_te.shape)"
   ]
  },
  {
   "cell_type": "code",
   "execution_count": 76,
   "metadata": {},
   "outputs": [
    {
     "data": {
      "image/png": "[encoded data removed]",
      "text/plain": [
       "<Figure size 432x288 with 1 Axes>"
      ]
     },
     "metadata": {},
     "output_type": "display_data"
    },
    {
     "data": {
      "text/html": [
       "<div>\n",
       "<style scoped>\n",
       "    .dataframe tbody tr th:only-of-type {\n",
       "        vertical-align: middle;\n",
       "    }\n",
       "\n",
       "    .dataframe tbody tr th {\n",
       "        vertical-align: top;\n",
       "    }\n",
       "\n",
       "    .dataframe thead th {\n",
       "        text-align: right;\n",
       "    }\n",
       "</style>\n",
       "<table border=\"1\" class=\"dataframe\">\n",
       "  <thead>\n",
       "    <tr style=\"text-align: right;\">\n",
       "      <th></th>\n",
       "      <th>mean_fit_time</th>\n",
       "      <th>std_fit_time</th>\n",
       "      <th>mean_score_time</th>\n",
       "      <th>std_score_time</th>\n",
       "      <th>param_alpha</th>\n",
       "      <th>params</th>\n",
       "      <th>split0_test_score</th>\n",
       "      <th>split1_test_score</th>\n",
       "      <th>split2_test_score</th>\n",
       "      <th>mean_test_score</th>\n",
       "      <th>std_test_score</th>\n",
       "      <th>rank_test_score</th>\n",
       "      <th>split0_train_score</th>\n",
       "      <th>split1_train_score</th>\n",
       "      <th>split2_train_score</th>\n",
       "      <th>mean_train_score</th>\n",
       "      <th>std_train_score</th>\n",
       "    </tr>\n",
       "  </thead>\n",
       "  <tbody>\n",
       "    <tr>\n",
       "      <th>0</th>\n",
       "      <td>0.586612</td>\n",
       "      <td>0.028707</td>\n",
       "      <td>0.062041</td>\n",
       "      <td>0.016110</td>\n",
       "      <td>1e-05</td>\n",
       "      <td>{'alpha': 1e-05}</td>\n",
       "      <td>0.634901</td>\n",
       "      <td>0.620938</td>\n",
       "      <td>0.625111</td>\n",
       "      <td>0.626984</td>\n",
       "      <td>0.005852</td>\n",
       "      <td>11</td>\n",
       "      <td>0.997525</td>\n",
       "      <td>0.997259</td>\n",
       "      <td>0.997237</td>\n",
       "      <td>0.997340</td>\n",
       "      <td>0.000131</td>\n",
       "    </tr>\n",
       "    <tr>\n",
       "      <th>1</th>\n",
       "      <td>0.553316</td>\n",
       "      <td>0.119268</td>\n",
       "      <td>0.067860</td>\n",
       "      <td>0.012643</td>\n",
       "      <td>5e-05</td>\n",
       "      <td>{'alpha': 5e-05}</td>\n",
       "      <td>0.641150</td>\n",
       "      <td>0.626540</td>\n",
       "      <td>0.630429</td>\n",
       "      <td>0.632707</td>\n",
       "      <td>0.006178</td>\n",
       "      <td>9</td>\n",
       "      <td>0.996880</td>\n",
       "      <td>0.996602</td>\n",
       "      <td>0.996550</td>\n",
       "      <td>0.996677</td>\n",
       "      <td>0.000145</td>\n",
       "    </tr>\n",
       "    <tr>\n",
       "      <th>2</th>\n",
       "      <td>0.458385</td>\n",
       "      <td>0.006852</td>\n",
       "      <td>0.050957</td>\n",
       "      <td>0.004275</td>\n",
       "      <td>0.0001</td>\n",
       "      <td>{'alpha': 0.0001}</td>\n",
       "      <td>0.644288</td>\n",
       "      <td>0.629383</td>\n",
       "      <td>0.633109</td>\n",
       "      <td>0.635594</td>\n",
       "      <td>0.006333</td>\n",
       "      <td>8</td>\n",
       "      <td>0.996498</td>\n",
       "      <td>0.996221</td>\n",
       "      <td>0.996147</td>\n",
       "      <td>0.996289</td>\n",
       "      <td>0.000151</td>\n",
       "    </tr>\n",
       "    <tr>\n",
       "      <th>3</th>\n",
       "      <td>0.504014</td>\n",
       "      <td>0.060764</td>\n",
       "      <td>0.062431</td>\n",
       "      <td>0.013387</td>\n",
       "      <td>0.0005</td>\n",
       "      <td>{'alpha': 0.0005}</td>\n",
       "      <td>0.652792</td>\n",
       "      <td>0.637269</td>\n",
       "      <td>0.640508</td>\n",
       "      <td>0.643523</td>\n",
       "      <td>0.006686</td>\n",
       "      <td>7</td>\n",
       "      <td>0.995212</td>\n",
       "      <td>0.994946</td>\n",
       "      <td>0.994788</td>\n",
       "      <td>0.994982</td>\n",
       "      <td>0.000175</td>\n",
       "    </tr>\n",
       "    <tr>\n",
       "      <th>4</th>\n",
       "      <td>0.479543</td>\n",
       "      <td>0.017146</td>\n",
       "      <td>0.053299</td>\n",
       "      <td>0.007537</td>\n",
       "      <td>0.001</td>\n",
       "      <td>{'alpha': 0.001}</td>\n",
       "      <td>0.657049</td>\n",
       "      <td>0.641265</td>\n",
       "      <td>0.644250</td>\n",
       "      <td>0.647522</td>\n",
       "      <td>0.006847</td>\n",
       "      <td>5</td>\n",
       "      <td>0.994386</td>\n",
       "      <td>0.994134</td>\n",
       "      <td>0.993916</td>\n",
       "      <td>0.994145</td>\n",
       "      <td>0.000192</td>\n",
       "    </tr>\n",
       "  </tbody>\n",
       "</table>\n",
       "</div>"
      ],
      "text/plain": [
       "   mean_fit_time  std_fit_time  mean_score_time  std_score_time param_alpha  \\\n",
       "0       0.586612      0.028707         0.062041        0.016110       1e-05   \n",
       "1       0.553316      0.119268         0.067860        0.012643       5e-05   \n",
       "2       0.458385      0.006852         0.050957        0.004275      0.0001   \n",
       "3       0.504014      0.060764         0.062431        0.013387      0.0005   \n",
       "4       0.479543      0.017146         0.053299        0.007537       0.001   \n",
       "\n",
       "              params  split0_test_score  split1_test_score  split2_test_score  \\\n",
       "0   {'alpha': 1e-05}           0.634901           0.620938           0.625111   \n",
       "1   {'alpha': 5e-05}           0.641150           0.626540           0.630429   \n",
       "2  {'alpha': 0.0001}           0.644288           0.629383           0.633109   \n",
       "3  {'alpha': 0.0005}           0.652792           0.637269           0.640508   \n",
       "4   {'alpha': 0.001}           0.657049           0.641265           0.644250   \n",
       "\n",
       "   mean_test_score  std_test_score  rank_test_score  split0_train_score  \\\n",
       "0         0.626984        0.005852               11            0.997525   \n",
       "1         0.632707        0.006178                9            0.996880   \n",
       "2         0.635594        0.006333                8            0.996498   \n",
       "3         0.643523        0.006686                7            0.995212   \n",
       "4         0.647522        0.006847                5            0.994386   \n",
       "\n",
       "   split1_train_score  split2_train_score  mean_train_score  std_train_score  \n",
       "0            0.997259            0.997237          0.997340         0.000131  \n",
       "1            0.996602            0.996550          0.996677         0.000145  \n",
       "2            0.996221            0.996147          0.996289         0.000151  \n",
       "3            0.994946            0.994788          0.994982         0.000175  \n",
       "4            0.994134            0.993916          0.994145         0.000192  "
      ]
     },
     "execution_count": 76,
     "metadata": {},
     "output_type": "execute_result"
    }
   ],
   "source": [
    "from sklearn.model_selection import GridSearchCV\n",
    "from sklearn.naive_bayes import MultinomialNB\n",
    "from sklearn.metrics import roc_auc_score\n",
    "\n",
    "nb = MultinomialNB(class_prior=[0.5,0.5])\n",
    "parameters = {'alpha':[0.00001,0.00005, 0.0001,0.0005,0.001,0.005,0.01,0.05,0.1,0.5,1]}\n",
    "clf = GridSearchCV(nb, parameters, cv=3, scoring='roc_auc')\n",
    "clf.fit(X_tr, y_tr)\n",
    "\n",
    "results = pd.DataFrame.from_dict(clf.cv_results_)\n",
    "results = results.sort_values(['param_alpha'])\n",
    "\n",
    "train_auc= results['mean_train_score']\n",
    "train_auc_std= results['std_train_score']\n",
    "cv_auc = results['mean_test_score'] \n",
    "cv_auc_std= results['std_test_score']\n",
    "alp =  results['param_alpha']\n",
    "\n",
    "plt.plot(alp, train_auc, label='Train AUC')\n",
    "# this code is copied from here: https://stackoverflow.com/a/48803361/4084039\n",
    "# plt.gca().fill_between(K, train_auc - train_auc_std,train_auc + train_auc_std,alpha=0.2,color='darkblue')\n",
    "\n",
    "plt.plot(alp, cv_auc, label='CV AUC')\n",
    "# this code is copied from here: https://stackoverflow.com/a/48803361/4084039\n",
    "# plt.gca().fill_between(K, cv_auc - cv_auc_std,cv_auc + cv_auc_std,alpha=0.2,color='darkorange')\n",
    "\n",
    "plt.scatter(alp, train_auc, label='Train AUC points')\n",
    "plt.scatter(alp, cv_auc, label='CV AUC points')\n",
    "\n",
    "\n",
    "plt.legend()\n",
    "plt.xlabel(\"Alpha\")\n",
    "plt.ylabel(\"AUC\")\n",
    "plt.title(\"Alpha Vs AUC\")\n",
    "plt.grid()\n",
    "plt.show()\n",
    "\n",
    "results.head()"
   ]
  },
  {
   "cell_type": "code",
   "execution_count": 77,
   "metadata": {},
   "outputs": [
    {
     "data": {
      "image/png": "[encoded data removed]",
      "text/plain": [
       "<Figure size 432x288 with 1 Axes>"
      ]
     },
     "metadata": {},
     "output_type": "display_data"
    }
   ],
   "source": [
    "from sklearn.metrics import roc_curve, auc\n",
    "\n",
    "nb = MultinomialNB(alpha=0.05, class_prior=[0.5,0.5] )\n",
    "nb.fit(X_tr, y_tr)\n",
    "# roc_auc_score(y_true, y_score) the 2nd parameter should be probability estimates of the positive class\n",
    "# not the predicted outputs\n",
    "\n",
    "#y_tr_pred = neigh.predict_proba(X_tr)   \n",
    "#y_te_pred = neigh.predict_proba(X_te)\n",
    "\n",
    "y_tr_pred = batch_predict(nb, X_tr)    \n",
    "y_te_pred = batch_predict(nb, X_te)\n",
    "\n",
    "train_fpr, train_tpr, tr_thresholds = roc_curve(y_tr, y_tr_pred)\n",
    "test_fpr, test_tpr, te_thresholds = roc_curve(y_te, y_te_pred)\n",
    "\n",
    "plt.plot(train_fpr, train_tpr, label=\"train AUC =\"+str(auc(train_fpr, train_tpr)))\n",
    "plt.plot(test_fpr, test_tpr, label=\"test AUC =\"+str(auc(test_fpr, test_tpr)))\n",
    "plt.legend()\n",
    "plt.xlabel(\"Alpha\")\n",
    "plt.ylabel(\"AUC\")\n",
    "plt.title(\"ERROR PLOTS\")\n",
    "plt.grid()\n",
    "plt.show()"
   ]
  },
  {
   "cell_type": "code",
   "execution_count": 79,
   "metadata": {},
   "outputs": [
    {
     "name": "stdout",
     "output_type": "stream",
     "text": [
      "the maximum value of tpr*(1-fpr) 0.7776976767111184 for threshold 0.501\n",
      "50*=\n",
      "==================================================\n",
      "Train confusion matrix\n",
      "[[ 9977  1106]\n",
      " [ 8453 53660]]\n",
      "==================================================\n",
      "Test confusion matrix\n",
      "[[ 2387  3072]\n",
      " [ 6109 24484]]\n",
      "==================================================\n",
      "Train F1 Score\n",
      "0.9182145637796354\n",
      "==================================================\n",
      "Test F1 Score\n",
      "0.8421125040843351\n",
      "==================================================\n",
      "Train Accuracy Score\n",
      "0.8694054319908192\n",
      "==================================================\n",
      "Test Accuracy Score\n",
      "0.7453400643514922\n"
     ]
    }
   ],
   "source": [
    "from sklearn.metrics import confusion_matrix\n",
    "from sklearn.metrics import accuracy_score\n",
    "from sklearn.metrics import f1_score\n",
    "\n",
    "best_t = find_best_threshold(tr_thresholds, train_fpr, train_tpr)\n",
    "print(50*\"=\")\n",
    "print(\"Train confusion matrix\")\n",
    "print(confusion_matrix(y_tr, predict_with_best_t(y_tr_pred, best_t)))\n",
    "print(50*\"=\")\n",
    "print(\"Test confusion matrix\")\n",
    "print(confusion_matrix(y_te, predict_with_best_t(y_te_pred, best_t)))\n",
    "print(50*\"=\")\n",
    "print(\"Train F1 Score\")\n",
    "print(f1_score(y_tr, predict_with_best_t(y_tr_pred, best_t)))\n",
    "print(50*\"=\")\n",
    "print(\"Test F1 Score\")\n",
    "print(f1_score(y_te, predict_with_best_t(y_te_pred, best_t)))\n",
    "print(50*\"=\")\n",
    "print(\"Train Accuracy Score\")\n",
    "print(accuracy_score(y_tr, predict_with_best_t(y_tr_pred, best_t)))\n",
    "print(50*\"=\")\n",
    "print(\"Test Accuracy Score\")\n",
    "print(accuracy_score(y_te, predict_with_best_t(y_te_pred, best_t)))"
   ]
  },
  {
   "cell_type": "code",
   "execution_count": null,
   "metadata": {},
   "outputs": [],
   "source": []
  }
 ],
 "metadata": {
  "kernelspec": {
   "display_name": "Python 3",
   "language": "python",
   "name": "python3"
  },
  "language_info": {
   "codemirror_mode": {
    "name": "ipython",
    "version": 3
   },
   "file_extension": ".py",
   "mimetype": "text/x-python",
   "name": "python",
   "nbconvert_exporter": "python",
   "pygments_lexer": "ipython3",
   "version": "3.6.5"
  }
 },
 "nbformat": 4,
 "nbformat_minor": 2
}
